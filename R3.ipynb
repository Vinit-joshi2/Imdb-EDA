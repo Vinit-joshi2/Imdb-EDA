{
  "nbformat": 4,
  "nbformat_minor": 0,
  "metadata": {
    "colab": {
      "provenance": []
    },
    "kernelspec": {
      "name": "ir",
      "display_name": "R"
    },
    "language_info": {
      "name": "R"
    }
  },
  "cells": [
    {
      "cell_type": "code",
      "execution_count": null,
      "metadata": {
        "colab": {
          "base_uri": "https://localhost:8080/",
          "height": 375
        },
        "id": "jyu5PJiruy7Y",
        "outputId": "bb44c9d0-4733-4620-cd67-26894a4bcb92"
      },
      "outputs": [
        {
          "output_type": "display_data",
          "data": {
            "text/html": [
              "<table class=\"dataframe\">\n",
              "<caption>A data.frame: 1 × 16</caption>\n",
              "<thead>\n",
              "\t<tr><th></th><th scope=col>Poster_Link</th><th scope=col>Series_Title</th><th scope=col>Released_Year</th><th scope=col>Certificate</th><th scope=col>Runtime</th><th scope=col>Genre</th><th scope=col>IMDB_Rating</th><th scope=col>Overview</th><th scope=col>Meta_score</th><th scope=col>Director</th><th scope=col>Star1</th><th scope=col>Star2</th><th scope=col>Star3</th><th scope=col>Star4</th><th scope=col>No_of_Votes</th><th scope=col>Gross</th></tr>\n",
              "\t<tr><th></th><th scope=col>&lt;chr&gt;</th><th scope=col>&lt;chr&gt;</th><th scope=col>&lt;chr&gt;</th><th scope=col>&lt;chr&gt;</th><th scope=col>&lt;chr&gt;</th><th scope=col>&lt;chr&gt;</th><th scope=col>&lt;dbl&gt;</th><th scope=col>&lt;chr&gt;</th><th scope=col>&lt;int&gt;</th><th scope=col>&lt;chr&gt;</th><th scope=col>&lt;chr&gt;</th><th scope=col>&lt;chr&gt;</th><th scope=col>&lt;chr&gt;</th><th scope=col>&lt;chr&gt;</th><th scope=col>&lt;int&gt;</th><th scope=col>&lt;chr&gt;</th></tr>\n",
              "</thead>\n",
              "<tbody>\n",
              "\t<tr><th scope=row>1</th><td>https://m.media-amazon.com/images/M/MV5BMDFkYTc0MGEtZmNhMC00ZDIzLWFmNTEtODM1ZmRlYWMwMWFmXkEyXkFqcGdeQXVyMTMxODk2OTU@._V1_UX67_CR0,0,67,98_AL_.jpg</td><td>The Shawshank Redemption</td><td>1994</td><td>A</td><td>142 min</td><td>Drama</td><td>9.3</td><td>Two imprisoned men bond over a number of years, finding solace and eventual redemption through acts of common decency.</td><td>80</td><td>Frank Darabont</td><td>Tim Robbins</td><td>Morgan Freeman</td><td>Bob Gunton</td><td>William Sadler</td><td>2343110</td><td>28,341,469</td></tr>\n",
              "</tbody>\n",
              "</table>\n"
            ],
            "text/markdown": "\nA data.frame: 1 × 16\n\n| <!--/--> | Poster_Link &lt;chr&gt; | Series_Title &lt;chr&gt; | Released_Year &lt;chr&gt; | Certificate &lt;chr&gt; | Runtime &lt;chr&gt; | Genre &lt;chr&gt; | IMDB_Rating &lt;dbl&gt; | Overview &lt;chr&gt; | Meta_score &lt;int&gt; | Director &lt;chr&gt; | Star1 &lt;chr&gt; | Star2 &lt;chr&gt; | Star3 &lt;chr&gt; | Star4 &lt;chr&gt; | No_of_Votes &lt;int&gt; | Gross &lt;chr&gt; |\n|---|---|---|---|---|---|---|---|---|---|---|---|---|---|---|---|---|\n| 1 | https://m.media-amazon.com/images/M/MV5BMDFkYTc0MGEtZmNhMC00ZDIzLWFmNTEtODM1ZmRlYWMwMWFmXkEyXkFqcGdeQXVyMTMxODk2OTU@._V1_UX67_CR0,0,67,98_AL_.jpg | The Shawshank Redemption | 1994 | A | 142 min | Drama | 9.3 | Two imprisoned men bond over a number of years, finding solace and eventual redemption through acts of common decency. | 80 | Frank Darabont | Tim Robbins | Morgan Freeman | Bob Gunton | William Sadler | 2343110 | 28,341,469 |\n\n",
            "text/latex": "A data.frame: 1 × 16\n\\begin{tabular}{r|llllllllllllllll}\n  & Poster\\_Link & Series\\_Title & Released\\_Year & Certificate & Runtime & Genre & IMDB\\_Rating & Overview & Meta\\_score & Director & Star1 & Star2 & Star3 & Star4 & No\\_of\\_Votes & Gross\\\\\n  & <chr> & <chr> & <chr> & <chr> & <chr> & <chr> & <dbl> & <chr> & <int> & <chr> & <chr> & <chr> & <chr> & <chr> & <int> & <chr>\\\\\n\\hline\n\t1 & https://m.media-amazon.com/images/M/MV5BMDFkYTc0MGEtZmNhMC00ZDIzLWFmNTEtODM1ZmRlYWMwMWFmXkEyXkFqcGdeQXVyMTMxODk2OTU@.\\_V1\\_UX67\\_CR0,0,67,98\\_AL\\_.jpg & The Shawshank Redemption & 1994 & A & 142 min & Drama & 9.3 & Two imprisoned men bond over a number of years, finding solace and eventual redemption through acts of common decency. & 80 & Frank Darabont & Tim Robbins & Morgan Freeman & Bob Gunton & William Sadler & 2343110 & 28,341,469\\\\\n\\end{tabular}\n",
            "text/plain": [
              "  Poster_Link                                                                                                                                      \n",
              "1 https://m.media-amazon.com/images/M/MV5BMDFkYTc0MGEtZmNhMC00ZDIzLWFmNTEtODM1ZmRlYWMwMWFmXkEyXkFqcGdeQXVyMTMxODk2OTU@._V1_UX67_CR0,0,67,98_AL_.jpg\n",
              "  Series_Title             Released_Year Certificate Runtime Genre IMDB_Rating\n",
              "1 The Shawshank Redemption 1994          A           142 min Drama 9.3        \n",
              "  Overview                                                                                                              \n",
              "1 Two imprisoned men bond over a number of years, finding solace and eventual redemption through acts of common decency.\n",
              "  Meta_score Director       Star1       Star2          Star3     \n",
              "1 80         Frank Darabont Tim Robbins Morgan Freeman Bob Gunton\n",
              "  Star4          No_of_Votes Gross     \n",
              "1 William Sadler 2343110     28,341,469"
            ]
          },
          "metadata": {}
        }
      ],
      "source": [
        "df = read.csv(\"/content/imdb_top_1000.csv\")\n",
        "head(df , 1)"
      ]
    },
    {
      "cell_type": "code",
      "source": [
        "names(df)"
      ],
      "metadata": {
        "colab": {
          "base_uri": "https://localhost:8080/",
          "height": 34
        },
        "id": "WaAvEm3nvWhK",
        "outputId": "78fb74e6-0daf-45de-86bf-347bd3eb95ec"
      },
      "execution_count": null,
      "outputs": [
        {
          "output_type": "display_data",
          "data": {
            "text/html": [
              "<style>\n",
              ".list-inline {list-style: none; margin:0; padding: 0}\n",
              ".list-inline>li {display: inline-block}\n",
              ".list-inline>li:not(:last-child)::after {content: \"\\00b7\"; padding: 0 .5ex}\n",
              "</style>\n",
              "<ol class=list-inline><li>'Poster_Link'</li><li>'Series_Title'</li><li>'Released_Year'</li><li>'Certificate'</li><li>'Runtime'</li><li>'Genre'</li><li>'IMDB_Rating'</li><li>'Overview'</li><li>'Meta_score'</li><li>'Director'</li><li>'Star1'</li><li>'Star2'</li><li>'Star3'</li><li>'Star4'</li><li>'No_of_Votes'</li><li>'Gross'</li></ol>\n"
            ],
            "text/markdown": "1. 'Poster_Link'\n2. 'Series_Title'\n3. 'Released_Year'\n4. 'Certificate'\n5. 'Runtime'\n6. 'Genre'\n7. 'IMDB_Rating'\n8. 'Overview'\n9. 'Meta_score'\n10. 'Director'\n11. 'Star1'\n12. 'Star2'\n13. 'Star3'\n14. 'Star4'\n15. 'No_of_Votes'\n16. 'Gross'\n\n\n",
            "text/latex": "\\begin{enumerate*}\n\\item 'Poster\\_Link'\n\\item 'Series\\_Title'\n\\item 'Released\\_Year'\n\\item 'Certificate'\n\\item 'Runtime'\n\\item 'Genre'\n\\item 'IMDB\\_Rating'\n\\item 'Overview'\n\\item 'Meta\\_score'\n\\item 'Director'\n\\item 'Star1'\n\\item 'Star2'\n\\item 'Star3'\n\\item 'Star4'\n\\item 'No\\_of\\_Votes'\n\\item 'Gross'\n\\end{enumerate*}\n",
            "text/plain": [
              " [1] \"Poster_Link\"   \"Series_Title\"  \"Released_Year\" \"Certificate\"  \n",
              " [5] \"Runtime\"       \"Genre\"         \"IMDB_Rating\"   \"Overview\"     \n",
              " [9] \"Meta_score\"    \"Director\"      \"Star1\"         \"Star2\"        \n",
              "[13] \"Star3\"         \"Star4\"         \"No_of_Votes\"   \"Gross\"        "
            ]
          },
          "metadata": {}
        }
      ]
    },
    {
      "cell_type": "markdown",
      "source": [
        "**Structure of data**"
      ],
      "metadata": {
        "id": "uKyIwpevZPOC"
      }
    },
    {
      "cell_type": "code",
      "source": [
        "str(df)"
      ],
      "metadata": {
        "colab": {
          "base_uri": "https://localhost:8080/"
        },
        "id": "l_dbDqNUv1YQ",
        "outputId": "23e4afe2-a5e7-40e4-dd92-19b727cae0c3"
      },
      "execution_count": null,
      "outputs": [
        {
          "output_type": "stream",
          "name": "stdout",
          "text": [
            "'data.frame':\t1000 obs. of  16 variables:\n",
            " $ Poster_Link  : chr  \"https://m.media-amazon.com/images/M/MV5BMDFkYTc0MGEtZmNhMC00ZDIzLWFmNTEtODM1ZmRlYWMwMWFmXkEyXkFqcGdeQXVyMTMxODk\"| __truncated__ \"https://m.media-amazon.com/images/M/MV5BM2MyNjYxNmUtYTAwNi00MTYxLWJmNWYtYzZlODY3ZTk3OTFlXkEyXkFqcGdeQXVyNzkwMjQ\"| __truncated__ \"https://m.media-amazon.com/images/M/MV5BMTMxNTMwODM0NF5BMl5BanBnXkFtZTcwODAyMTk2Mw@@._V1_UX67_CR0,0,67,98_AL_.jpg\" \"https://m.media-amazon.com/images/M/MV5BMWMwMGQzZTItY2JlNC00OWZiLWIyMDctNDk2ZDQ2YjRjMWQ0XkEyXkFqcGdeQXVyNzkwMjQ\"| __truncated__ ...\n",
            " $ Series_Title : chr  \"The Shawshank Redemption\" \"The Godfather\" \"The Dark Knight\" \"The Godfather: Part II\" ...\n",
            " $ Released_Year: chr  \"1994\" \"1972\" \"2008\" \"1974\" ...\n",
            " $ Certificate  : chr  \"A\" \"A\" \"UA\" \"A\" ...\n",
            " $ Runtime      : chr  \"142 min\" \"175 min\" \"152 min\" \"202 min\" ...\n",
            " $ Genre        : chr  \"Drama\" \"Crime, Drama\" \"Action, Crime, Drama\" \"Crime, Drama\" ...\n",
            " $ IMDB_Rating  : num  9.3 9.2 9 9 9 8.9 8.9 8.9 8.8 8.8 ...\n",
            " $ Overview     : chr  \"Two imprisoned men bond over a number of years, finding solace and eventual redemption through acts of common decency.\" \"An organized crime dynasty's aging patriarch transfers control of his clandestine empire to his reluctant son.\" \"When the menace known as the Joker wreaks havoc and chaos on the people of Gotham, Batman must accept one of th\"| __truncated__ \"The early life and career of Vito Corleone in 1920s New York City is portrayed, while his son, Michael, expands\"| __truncated__ ...\n",
            " $ Meta_score   : int  80 100 84 90 96 94 94 94 74 66 ...\n",
            " $ Director     : chr  \"Frank Darabont\" \"Francis Ford Coppola\" \"Christopher Nolan\" \"Francis Ford Coppola\" ...\n",
            " $ Star1        : chr  \"Tim Robbins\" \"Marlon Brando\" \"Christian Bale\" \"Al Pacino\" ...\n",
            " $ Star2        : chr  \"Morgan Freeman\" \"Al Pacino\" \"Heath Ledger\" \"Robert De Niro\" ...\n",
            " $ Star3        : chr  \"Bob Gunton\" \"James Caan\" \"Aaron Eckhart\" \"Robert Duvall\" ...\n",
            " $ Star4        : chr  \"William Sadler\" \"Diane Keaton\" \"Michael Caine\" \"Diane Keaton\" ...\n",
            " $ No_of_Votes  : int  2343110 1620367 2303232 1129952 689845 1642758 1826188 1213505 2067042 1854740 ...\n",
            " $ Gross        : chr  \"28,341,469\" \"134,966,411\" \"534,858,444\" \"57,300,000\" ...\n"
          ]
        }
      ]
    },
    {
      "cell_type": "markdown",
      "source": [
        "**5 Number summary of data**"
      ],
      "metadata": {
        "id": "4U9dZy1sZCyS"
      }
    },
    {
      "cell_type": "code",
      "source": [
        "summary(df)"
      ],
      "metadata": {
        "colab": {
          "base_uri": "https://localhost:8080/",
          "height": 572
        },
        "id": "j_HE9E5EwhVX",
        "outputId": "9c2e6128-d295-4f7e-e139-c9dc8f8e7a78"
      },
      "execution_count": null,
      "outputs": [
        {
          "output_type": "display_data",
          "data": {
            "text/plain": [
              " Poster_Link        Series_Title       Released_Year      Certificate       \n",
              " Length:1000        Length:1000        Length:1000        Length:1000       \n",
              " Class :character   Class :character   Class :character   Class :character  \n",
              " Mode  :character   Mode  :character   Mode  :character   Mode  :character  \n",
              "                                                                            \n",
              "                                                                            \n",
              "                                                                            \n",
              "                                                                            \n",
              "   Runtime             Genre            IMDB_Rating      Overview        \n",
              " Length:1000        Length:1000        Min.   :7.600   Length:1000       \n",
              " Class :character   Class :character   1st Qu.:7.700   Class :character  \n",
              " Mode  :character   Mode  :character   Median :7.900   Mode  :character  \n",
              "                                       Mean   :7.949                     \n",
              "                                       3rd Qu.:8.100                     \n",
              "                                       Max.   :9.300                     \n",
              "                                                                         \n",
              "   Meta_score       Director            Star1              Star2          \n",
              " Min.   : 28.00   Length:1000        Length:1000        Length:1000       \n",
              " 1st Qu.: 70.00   Class :character   Class :character   Class :character  \n",
              " Median : 79.00   Mode  :character   Mode  :character   Mode  :character  \n",
              " Mean   : 77.97                                                           \n",
              " 3rd Qu.: 87.00                                                           \n",
              " Max.   :100.00                                                           \n",
              " NA's   :157                                                              \n",
              "    Star3              Star4            No_of_Votes         Gross          \n",
              " Length:1000        Length:1000        Min.   :  25088   Length:1000       \n",
              " Class :character   Class :character   1st Qu.:  55526   Class :character  \n",
              " Mode  :character   Mode  :character   Median : 138548   Mode  :character  \n",
              "                                       Mean   : 273693                     \n",
              "                                       3rd Qu.: 374161                     \n",
              "                                       Max.   :2343110                     \n",
              "                                                                           "
            ]
          },
          "metadata": {}
        }
      ]
    },
    {
      "cell_type": "markdown",
      "source": [
        "**Number of rows and Columns**"
      ],
      "metadata": {
        "id": "Wa1dKDrOZTkE"
      }
    },
    {
      "cell_type": "code",
      "source": [
        "dim(df)"
      ],
      "metadata": {
        "colab": {
          "base_uri": "https://localhost:8080/",
          "height": 34
        },
        "id": "tcRrROtuwhXV",
        "outputId": "2a605805-3c0e-44dc-e1b2-aa550c4ac98c"
      },
      "execution_count": null,
      "outputs": [
        {
          "output_type": "display_data",
          "data": {
            "text/html": [
              "<style>\n",
              ".list-inline {list-style: none; margin:0; padding: 0}\n",
              ".list-inline>li {display: inline-block}\n",
              ".list-inline>li:not(:last-child)::after {content: \"\\00b7\"; padding: 0 .5ex}\n",
              "</style>\n",
              "<ol class=list-inline><li>1000</li><li>16</li></ol>\n"
            ],
            "text/markdown": "1. 1000\n2. 16\n\n\n",
            "text/latex": "\\begin{enumerate*}\n\\item 1000\n\\item 16\n\\end{enumerate*}\n",
            "text/plain": [
              "[1] 1000   16"
            ]
          },
          "metadata": {}
        }
      ]
    },
    {
      "cell_type": "code",
      "source": [
        "# install.packages(\"dplyr\")\n",
        "library(\"dplyr\")\n",
        "sample_n(df , 5)"
      ],
      "metadata": {
        "colab": {
          "base_uri": "https://localhost:8080/",
          "height": 1000
        },
        "id": "lDQjKJY7whax",
        "outputId": "d5ad35d9-9a46-471d-83d8-9c7c6f25c402"
      },
      "execution_count": null,
      "outputs": [
        {
          "output_type": "display_data",
          "data": {
            "text/html": [
              "<table class=\"dataframe\">\n",
              "<caption>A data.frame: 5 × 16</caption>\n",
              "<thead>\n",
              "\t<tr><th scope=col>Poster_Link</th><th scope=col>Series_Title</th><th scope=col>Released_Year</th><th scope=col>Certificate</th><th scope=col>Runtime</th><th scope=col>Genre</th><th scope=col>IMDB_Rating</th><th scope=col>Overview</th><th scope=col>Meta_score</th><th scope=col>Director</th><th scope=col>Star1</th><th scope=col>Star2</th><th scope=col>Star3</th><th scope=col>Star4</th><th scope=col>No_of_Votes</th><th scope=col>Gross</th></tr>\n",
              "\t<tr><th scope=col>&lt;chr&gt;</th><th scope=col>&lt;chr&gt;</th><th scope=col>&lt;chr&gt;</th><th scope=col>&lt;chr&gt;</th><th scope=col>&lt;chr&gt;</th><th scope=col>&lt;chr&gt;</th><th scope=col>&lt;dbl&gt;</th><th scope=col>&lt;chr&gt;</th><th scope=col>&lt;int&gt;</th><th scope=col>&lt;chr&gt;</th><th scope=col>&lt;chr&gt;</th><th scope=col>&lt;chr&gt;</th><th scope=col>&lt;chr&gt;</th><th scope=col>&lt;chr&gt;</th><th scope=col>&lt;int&gt;</th><th scope=col>&lt;chr&gt;</th></tr>\n",
              "</thead>\n",
              "<tbody>\n",
              "\t<tr><td>https://m.media-amazon.com/images/M/MV5BMDcxNjhiOTEtMzQ0YS00OTBhLTkxM2QtN2UyZDMzNzIzNWFlXkEyXkFqcGdeQXVyMTQxNzMzNDI@._V1_UY98_CR1,0,67,98_AL_.jpg</td><td>Badlands                           </td><td>1973</td><td>PG</td><td>94 min </td><td>Action, Crime, Drama      </td><td>7.8</td><td>An impressionable teenage girl from a dead-end town and her older greaser boyfriend embark on a killing spree in the South Dakota badlands.                                                                                </td><td>93</td><td>Terrence Malick   </td><td>Martin Sheen    </td><td>Sissy Spacek  </td><td>Warren Oates    </td><td>Ramon Bieri  </td><td> 66009</td><td>           </td></tr>\n",
              "\t<tr><td>https://m.media-amazon.com/images/M/MV5BYmI1ODU5ZjMtNWUyNC00YzllLThjNzktODE1M2E4OTVmY2E5XkEyXkFqcGdeQXVyMTExNzQzMDE0._V1_UY98_CR1,0,67,98_AL_.jpg</td><td>Tropa de Elite                     </td><td>2007</td><td>R </td><td>115 min</td><td>Action, Crime, Drama      </td><td>8.0</td><td>In 1997 Rio de Janeiro, Captain Nascimento has to find a substitute for his position while trying to take down drug dealers and criminals before the Pope visits.                                                          </td><td>33</td><td>José Padilha      </td><td>Wagner Moura    </td><td>André Ramiro  </td><td>Caio Junqueira  </td><td>Milhem Cortaz</td><td> 98097</td><td>8,060      </td></tr>\n",
              "\t<tr><td>https://m.media-amazon.com/images/M/MV5BM2FhYjEyYmYtMDI1Yy00YTdlLWI2NWQtYmEzNzAxOGY1NjY2XkEyXkFqcGdeQXVyNTA3NTIyNDg@._V1_UX67_CR0,0,67,98_AL_.jpg</td><td>Nuovo Cinema Paradiso              </td><td>1988</td><td>U </td><td>155 min</td><td>Drama, Romance            </td><td>8.5</td><td>A filmmaker recalls his childhood when falling in love with the pictures at the cinema of his home village and forms a deep friendship with the cinema's projectionist.                                                    </td><td>80</td><td>Giuseppe Tornatore</td><td>Philippe Noiret </td><td>Enzo Cannavale</td><td>Antonella Attili</td><td>Isa Danieli  </td><td>230763</td><td>11,990,401 </td></tr>\n",
              "\t<tr><td>https://m.media-amazon.com/images/M/MV5BMTI1NDMyMjExOF5BMl5BanBnXkFtZTcwOTc4MjQzMQ@@._V1_UX67_CR0,0,67,98_AL_.jpg                                </td><td>Harry Potter and the Goblet of Fire</td><td>2005</td><td>UA</td><td>157 min</td><td>Adventure, Family, Fantasy</td><td>7.7</td><td>Harry Potter finds himself competing in a hazardous tournament between rival schools of magic, but he is distracted by recurring nightmares.                                                                               </td><td>81</td><td>Mike Newell       </td><td>Daniel Radcliffe</td><td>Emma Watson   </td><td>Rupert Grint    </td><td>Eric Sykes   </td><td>548619</td><td>290,013,036</td></tr>\n",
              "\t<tr><td>https://m.media-amazon.com/images/M/MV5BMTg4ODkzMDQ3Nl5BMl5BanBnXkFtZTgwNTEwMTkxMDE@._V1_UX67_CR0,0,67,98_AL_.jpg                                </td><td>Mr. Nobody                         </td><td>2009</td><td>R </td><td>141 min</td><td>Drama, Fantasy, Romance   </td><td>7.8</td><td>A boy stands on a station platform as a train is about to leave. Should he go with his mother or stay with his father? Infinite possibilities arise from this decision. As long as he doesn't choose, anything is possible.</td><td>63</td><td>Jaco Van Dormael  </td><td>Jared Leto      </td><td>Sarah Polley  </td><td>Diane Kruger    </td><td>Linh Dan Pham</td><td>216421</td><td>3,600      </td></tr>\n",
              "</tbody>\n",
              "</table>\n"
            ],
            "text/markdown": "\nA data.frame: 5 × 16\n\n| Poster_Link &lt;chr&gt; | Series_Title &lt;chr&gt; | Released_Year &lt;chr&gt; | Certificate &lt;chr&gt; | Runtime &lt;chr&gt; | Genre &lt;chr&gt; | IMDB_Rating &lt;dbl&gt; | Overview &lt;chr&gt; | Meta_score &lt;int&gt; | Director &lt;chr&gt; | Star1 &lt;chr&gt; | Star2 &lt;chr&gt; | Star3 &lt;chr&gt; | Star4 &lt;chr&gt; | No_of_Votes &lt;int&gt; | Gross &lt;chr&gt; |\n|---|---|---|---|---|---|---|---|---|---|---|---|---|---|---|---|\n| https://m.media-amazon.com/images/M/MV5BMDcxNjhiOTEtMzQ0YS00OTBhLTkxM2QtN2UyZDMzNzIzNWFlXkEyXkFqcGdeQXVyMTQxNzMzNDI@._V1_UY98_CR1,0,67,98_AL_.jpg | Badlands                            | 1973 | PG | 94 min  | Action, Crime, Drama       | 7.8 | An impressionable teenage girl from a dead-end town and her older greaser boyfriend embark on a killing spree in the South Dakota badlands.                                                                                 | 93 | Terrence Malick    | Martin Sheen     | Sissy Spacek   | Warren Oates     | Ramon Bieri   |  66009 | <!----> |\n| https://m.media-amazon.com/images/M/MV5BYmI1ODU5ZjMtNWUyNC00YzllLThjNzktODE1M2E4OTVmY2E5XkEyXkFqcGdeQXVyMTExNzQzMDE0._V1_UY98_CR1,0,67,98_AL_.jpg | Tropa de Elite                      | 2007 | R  | 115 min | Action, Crime, Drama       | 8.0 | In 1997 Rio de Janeiro, Captain Nascimento has to find a substitute for his position while trying to take down drug dealers and criminals before the Pope visits.                                                           | 33 | José Padilha       | Wagner Moura     | André Ramiro   | Caio Junqueira   | Milhem Cortaz |  98097 | 8,060       |\n| https://m.media-amazon.com/images/M/MV5BM2FhYjEyYmYtMDI1Yy00YTdlLWI2NWQtYmEzNzAxOGY1NjY2XkEyXkFqcGdeQXVyNTA3NTIyNDg@._V1_UX67_CR0,0,67,98_AL_.jpg | Nuovo Cinema Paradiso               | 1988 | U  | 155 min | Drama, Romance             | 8.5 | A filmmaker recalls his childhood when falling in love with the pictures at the cinema of his home village and forms a deep friendship with the cinema's projectionist.                                                     | 80 | Giuseppe Tornatore | Philippe Noiret  | Enzo Cannavale | Antonella Attili | Isa Danieli   | 230763 | 11,990,401  |\n| https://m.media-amazon.com/images/M/MV5BMTI1NDMyMjExOF5BMl5BanBnXkFtZTcwOTc4MjQzMQ@@._V1_UX67_CR0,0,67,98_AL_.jpg                                 | Harry Potter and the Goblet of Fire | 2005 | UA | 157 min | Adventure, Family, Fantasy | 7.7 | Harry Potter finds himself competing in a hazardous tournament between rival schools of magic, but he is distracted by recurring nightmares.                                                                                | 81 | Mike Newell        | Daniel Radcliffe | Emma Watson    | Rupert Grint     | Eric Sykes    | 548619 | 290,013,036 |\n| https://m.media-amazon.com/images/M/MV5BMTg4ODkzMDQ3Nl5BMl5BanBnXkFtZTgwNTEwMTkxMDE@._V1_UX67_CR0,0,67,98_AL_.jpg                                 | Mr. Nobody                          | 2009 | R  | 141 min | Drama, Fantasy, Romance    | 7.8 | A boy stands on a station platform as a train is about to leave. Should he go with his mother or stay with his father? Infinite possibilities arise from this decision. As long as he doesn't choose, anything is possible. | 63 | Jaco Van Dormael   | Jared Leto       | Sarah Polley   | Diane Kruger     | Linh Dan Pham | 216421 | 3,600       |\n\n",
            "text/latex": "A data.frame: 5 × 16\n\\begin{tabular}{llllllllllllllll}\n Poster\\_Link & Series\\_Title & Released\\_Year & Certificate & Runtime & Genre & IMDB\\_Rating & Overview & Meta\\_score & Director & Star1 & Star2 & Star3 & Star4 & No\\_of\\_Votes & Gross\\\\\n <chr> & <chr> & <chr> & <chr> & <chr> & <chr> & <dbl> & <chr> & <int> & <chr> & <chr> & <chr> & <chr> & <chr> & <int> & <chr>\\\\\n\\hline\n\t https://m.media-amazon.com/images/M/MV5BMDcxNjhiOTEtMzQ0YS00OTBhLTkxM2QtN2UyZDMzNzIzNWFlXkEyXkFqcGdeQXVyMTQxNzMzNDI@.\\_V1\\_UY98\\_CR1,0,67,98\\_AL\\_.jpg & Badlands                            & 1973 & PG & 94 min  & Action, Crime, Drama       & 7.8 & An impressionable teenage girl from a dead-end town and her older greaser boyfriend embark on a killing spree in the South Dakota badlands.                                                                                 & 93 & Terrence Malick    & Martin Sheen     & Sissy Spacek   & Warren Oates     & Ramon Bieri   &  66009 &            \\\\\n\t https://m.media-amazon.com/images/M/MV5BYmI1ODU5ZjMtNWUyNC00YzllLThjNzktODE1M2E4OTVmY2E5XkEyXkFqcGdeQXVyMTExNzQzMDE0.\\_V1\\_UY98\\_CR1,0,67,98\\_AL\\_.jpg & Tropa de Elite                      & 2007 & R  & 115 min & Action, Crime, Drama       & 8.0 & In 1997 Rio de Janeiro, Captain Nascimento has to find a substitute for his position while trying to take down drug dealers and criminals before the Pope visits.                                                           & 33 & José Padilha       & Wagner Moura     & André Ramiro   & Caio Junqueira   & Milhem Cortaz &  98097 & 8,060      \\\\\n\t https://m.media-amazon.com/images/M/MV5BM2FhYjEyYmYtMDI1Yy00YTdlLWI2NWQtYmEzNzAxOGY1NjY2XkEyXkFqcGdeQXVyNTA3NTIyNDg@.\\_V1\\_UX67\\_CR0,0,67,98\\_AL\\_.jpg & Nuovo Cinema Paradiso               & 1988 & U  & 155 min & Drama, Romance             & 8.5 & A filmmaker recalls his childhood when falling in love with the pictures at the cinema of his home village and forms a deep friendship with the cinema's projectionist.                                                     & 80 & Giuseppe Tornatore & Philippe Noiret  & Enzo Cannavale & Antonella Attili & Isa Danieli   & 230763 & 11,990,401 \\\\\n\t https://m.media-amazon.com/images/M/MV5BMTI1NDMyMjExOF5BMl5BanBnXkFtZTcwOTc4MjQzMQ@@.\\_V1\\_UX67\\_CR0,0,67,98\\_AL\\_.jpg                                 & Harry Potter and the Goblet of Fire & 2005 & UA & 157 min & Adventure, Family, Fantasy & 7.7 & Harry Potter finds himself competing in a hazardous tournament between rival schools of magic, but he is distracted by recurring nightmares.                                                                                & 81 & Mike Newell        & Daniel Radcliffe & Emma Watson    & Rupert Grint     & Eric Sykes    & 548619 & 290,013,036\\\\\n\t https://m.media-amazon.com/images/M/MV5BMTg4ODkzMDQ3Nl5BMl5BanBnXkFtZTgwNTEwMTkxMDE@.\\_V1\\_UX67\\_CR0,0,67,98\\_AL\\_.jpg                                 & Mr. Nobody                          & 2009 & R  & 141 min & Drama, Fantasy, Romance    & 7.8 & A boy stands on a station platform as a train is about to leave. Should he go with his mother or stay with his father? Infinite possibilities arise from this decision. As long as he doesn't choose, anything is possible. & 63 & Jaco Van Dormael   & Jared Leto       & Sarah Polley   & Diane Kruger     & Linh Dan Pham & 216421 & 3,600      \\\\\n\\end{tabular}\n",
            "text/plain": [
              "  Poster_Link                                                                                                                                      \n",
              "1 https://m.media-amazon.com/images/M/MV5BMDcxNjhiOTEtMzQ0YS00OTBhLTkxM2QtN2UyZDMzNzIzNWFlXkEyXkFqcGdeQXVyMTQxNzMzNDI@._V1_UY98_CR1,0,67,98_AL_.jpg\n",
              "2 https://m.media-amazon.com/images/M/MV5BYmI1ODU5ZjMtNWUyNC00YzllLThjNzktODE1M2E4OTVmY2E5XkEyXkFqcGdeQXVyMTExNzQzMDE0._V1_UY98_CR1,0,67,98_AL_.jpg\n",
              "3 https://m.media-amazon.com/images/M/MV5BM2FhYjEyYmYtMDI1Yy00YTdlLWI2NWQtYmEzNzAxOGY1NjY2XkEyXkFqcGdeQXVyNTA3NTIyNDg@._V1_UX67_CR0,0,67,98_AL_.jpg\n",
              "4 https://m.media-amazon.com/images/M/MV5BMTI1NDMyMjExOF5BMl5BanBnXkFtZTcwOTc4MjQzMQ@@._V1_UX67_CR0,0,67,98_AL_.jpg                                \n",
              "5 https://m.media-amazon.com/images/M/MV5BMTg4ODkzMDQ3Nl5BMl5BanBnXkFtZTgwNTEwMTkxMDE@._V1_UX67_CR0,0,67,98_AL_.jpg                                \n",
              "  Series_Title                        Released_Year Certificate Runtime\n",
              "1 Badlands                            1973          PG          94 min \n",
              "2 Tropa de Elite                      2007          R           115 min\n",
              "3 Nuovo Cinema Paradiso               1988          U           155 min\n",
              "4 Harry Potter and the Goblet of Fire 2005          UA          157 min\n",
              "5 Mr. Nobody                          2009          R           141 min\n",
              "  Genre                      IMDB_Rating\n",
              "1 Action, Crime, Drama       7.8        \n",
              "2 Action, Crime, Drama       8.0        \n",
              "3 Drama, Romance             8.5        \n",
              "4 Adventure, Family, Fantasy 7.7        \n",
              "5 Drama, Fantasy, Romance    7.8        \n",
              "  Overview                                                                                                                                                                                                                   \n",
              "1 An impressionable teenage girl from a dead-end town and her older greaser boyfriend embark on a killing spree in the South Dakota badlands.                                                                                \n",
              "2 In 1997 Rio de Janeiro, Captain Nascimento has to find a substitute for his position while trying to take down drug dealers and criminals before the Pope visits.                                                          \n",
              "3 A filmmaker recalls his childhood when falling in love with the pictures at the cinema of his home village and forms a deep friendship with the cinema's projectionist.                                                    \n",
              "4 Harry Potter finds himself competing in a hazardous tournament between rival schools of magic, but he is distracted by recurring nightmares.                                                                               \n",
              "5 A boy stands on a station platform as a train is about to leave. Should he go with his mother or stay with his father? Infinite possibilities arise from this decision. As long as he doesn't choose, anything is possible.\n",
              "  Meta_score Director           Star1            Star2         \n",
              "1 93         Terrence Malick    Martin Sheen     Sissy Spacek  \n",
              "2 33         José Padilha       Wagner Moura     André Ramiro  \n",
              "3 80         Giuseppe Tornatore Philippe Noiret  Enzo Cannavale\n",
              "4 81         Mike Newell        Daniel Radcliffe Emma Watson   \n",
              "5 63         Jaco Van Dormael   Jared Leto       Sarah Polley  \n",
              "  Star3            Star4         No_of_Votes Gross      \n",
              "1 Warren Oates     Ramon Bieri    66009                 \n",
              "2 Caio Junqueira   Milhem Cortaz  98097      8,060      \n",
              "3 Antonella Attili Isa Danieli   230763      11,990,401 \n",
              "4 Rupert Grint     Eric Sykes    548619      290,013,036\n",
              "5 Diane Kruger     Linh Dan Pham 216421      3,600      "
            ]
          },
          "metadata": {}
        }
      ]
    },
    {
      "cell_type": "markdown",
      "source": [
        "**Finding NAN value from each column**"
      ],
      "metadata": {
        "id": "jAFd8QA4ZZWO"
      }
    },
    {
      "cell_type": "code",
      "source": [
        "nan_value <- data.frame(colSums(is.na(df)))\n",
        "nan_value"
      ],
      "metadata": {
        "id": "6q3DyRb-whcg",
        "colab": {
          "base_uri": "https://localhost:8080/",
          "height": 599
        },
        "outputId": "353dbbce-4e28-4f59-db7d-bb3e49178ec9"
      },
      "execution_count": null,
      "outputs": [
        {
          "output_type": "display_data",
          "data": {
            "text/html": [
              "<table class=\"dataframe\">\n",
              "<caption>A data.frame: 16 × 1</caption>\n",
              "<thead>\n",
              "\t<tr><th></th><th scope=col>colSums.is.na.df..</th></tr>\n",
              "\t<tr><th></th><th scope=col>&lt;dbl&gt;</th></tr>\n",
              "</thead>\n",
              "<tbody>\n",
              "\t<tr><th scope=row>Poster_Link</th><td>  0</td></tr>\n",
              "\t<tr><th scope=row>Series_Title</th><td>  0</td></tr>\n",
              "\t<tr><th scope=row>Released_Year</th><td>  0</td></tr>\n",
              "\t<tr><th scope=row>Certificate</th><td>  0</td></tr>\n",
              "\t<tr><th scope=row>Runtime</th><td>  0</td></tr>\n",
              "\t<tr><th scope=row>Genre</th><td>  0</td></tr>\n",
              "\t<tr><th scope=row>IMDB_Rating</th><td>  0</td></tr>\n",
              "\t<tr><th scope=row>Overview</th><td>  0</td></tr>\n",
              "\t<tr><th scope=row>Meta_score</th><td>157</td></tr>\n",
              "\t<tr><th scope=row>Director</th><td>  0</td></tr>\n",
              "\t<tr><th scope=row>Star1</th><td>  0</td></tr>\n",
              "\t<tr><th scope=row>Star2</th><td>  0</td></tr>\n",
              "\t<tr><th scope=row>Star3</th><td>  0</td></tr>\n",
              "\t<tr><th scope=row>Star4</th><td>  0</td></tr>\n",
              "\t<tr><th scope=row>No_of_Votes</th><td>  0</td></tr>\n",
              "\t<tr><th scope=row>Gross</th><td>  0</td></tr>\n",
              "</tbody>\n",
              "</table>\n"
            ],
            "text/markdown": "\nA data.frame: 16 × 1\n\n| <!--/--> | colSums.is.na.df.. &lt;dbl&gt; |\n|---|---|\n| Poster_Link |   0 |\n| Series_Title |   0 |\n| Released_Year |   0 |\n| Certificate |   0 |\n| Runtime |   0 |\n| Genre |   0 |\n| IMDB_Rating |   0 |\n| Overview |   0 |\n| Meta_score | 157 |\n| Director |   0 |\n| Star1 |   0 |\n| Star2 |   0 |\n| Star3 |   0 |\n| Star4 |   0 |\n| No_of_Votes |   0 |\n| Gross |   0 |\n\n",
            "text/latex": "A data.frame: 16 × 1\n\\begin{tabular}{r|l}\n  & colSums.is.na.df..\\\\\n  & <dbl>\\\\\n\\hline\n\tPoster\\_Link &   0\\\\\n\tSeries\\_Title &   0\\\\\n\tReleased\\_Year &   0\\\\\n\tCertificate &   0\\\\\n\tRuntime &   0\\\\\n\tGenre &   0\\\\\n\tIMDB\\_Rating &   0\\\\\n\tOverview &   0\\\\\n\tMeta\\_score & 157\\\\\n\tDirector &   0\\\\\n\tStar1 &   0\\\\\n\tStar2 &   0\\\\\n\tStar3 &   0\\\\\n\tStar4 &   0\\\\\n\tNo\\_of\\_Votes &   0\\\\\n\tGross &   0\\\\\n\\end{tabular}\n",
            "text/plain": [
              "              colSums.is.na.df..\n",
              "Poster_Link     0               \n",
              "Series_Title    0               \n",
              "Released_Year   0               \n",
              "Certificate     0               \n",
              "Runtime         0               \n",
              "Genre           0               \n",
              "IMDB_Rating     0               \n",
              "Overview        0               \n",
              "Meta_score    157               \n",
              "Director        0               \n",
              "Star1           0               \n",
              "Star2           0               \n",
              "Star3           0               \n",
              "Star4           0               \n",
              "No_of_Votes     0               \n",
              "Gross           0               "
            ]
          },
          "metadata": {}
        }
      ]
    },
    {
      "cell_type": "code",
      "source": [
        "library(tidyr)\n",
        "count_genre <- df %>% separate_rows(Genre , sep = \",\") %>% count(Genre)  %>% arrange(desc(n))\n",
        "count_genre"
      ],
      "metadata": {
        "id": "zwNjR_fUwhgO",
        "colab": {
          "base_uri": "https://localhost:8080/",
          "height": 1000
        },
        "outputId": "8d4f488d-59d6-4e90-ba85-678b60765dab"
      },
      "execution_count": null,
      "outputs": [
        {
          "output_type": "display_data",
          "data": {
            "text/html": [
              "<table class=\"dataframe\">\n",
              "<caption>A tibble: 34 × 2</caption>\n",
              "<thead>\n",
              "\t<tr><th scope=col>Genre</th><th scope=col>n</th></tr>\n",
              "\t<tr><th scope=col>&lt;chr&gt;</th><th scope=col>&lt;int&gt;</th></tr>\n",
              "</thead>\n",
              "<tbody>\n",
              "\t<tr><td> Drama    </td><td>435</td></tr>\n",
              "\t<tr><td>Drama     </td><td>289</td></tr>\n",
              "\t<tr><td>Action    </td><td>172</td></tr>\n",
              "\t<tr><td>Comedy    </td><td>155</td></tr>\n",
              "\t<tr><td> Thriller </td><td>136</td></tr>\n",
              "\t<tr><td> Romance  </td><td>125</td></tr>\n",
              "\t<tr><td> Adventure</td><td>124</td></tr>\n",
              "\t<tr><td>Crime     </td><td>107</td></tr>\n",
              "\t<tr><td> Crime    </td><td>102</td></tr>\n",
              "\t<tr><td>Biography </td><td> 88</td></tr>\n",
              "\t<tr><td> Mystery  </td><td> 87</td></tr>\n",
              "\t<tr><td>Animation </td><td> 82</td></tr>\n",
              "\t<tr><td> Comedy   </td><td> 78</td></tr>\n",
              "\t<tr><td>Adventure </td><td> 72</td></tr>\n",
              "\t<tr><td> Sci-Fi   </td><td> 67</td></tr>\n",
              "\t<tr><td> Fantasy  </td><td> 64</td></tr>\n",
              "\t<tr><td> History  </td><td> 56</td></tr>\n",
              "\t<tr><td> Family   </td><td> 54</td></tr>\n",
              "\t<tr><td> War      </td><td> 51</td></tr>\n",
              "\t<tr><td> Music    </td><td> 35</td></tr>\n",
              "\t<tr><td> Biography</td><td> 21</td></tr>\n",
              "\t<tr><td> Horror   </td><td> 21</td></tr>\n",
              "\t<tr><td> Sport    </td><td> 19</td></tr>\n",
              "\t<tr><td> Action   </td><td> 17</td></tr>\n",
              "\t<tr><td> Musical  </td><td> 17</td></tr>\n",
              "\t<tr><td> Film-Noir</td><td> 16</td></tr>\n",
              "\t<tr><td> Western  </td><td> 16</td></tr>\n",
              "\t<tr><td>Mystery   </td><td> 12</td></tr>\n",
              "\t<tr><td>Horror    </td><td> 11</td></tr>\n",
              "\t<tr><td>Western   </td><td>  4</td></tr>\n",
              "\t<tr><td>Film-Noir </td><td>  3</td></tr>\n",
              "\t<tr><td>Family    </td><td>  2</td></tr>\n",
              "\t<tr><td>Fantasy   </td><td>  2</td></tr>\n",
              "\t<tr><td>Thriller  </td><td>  1</td></tr>\n",
              "</tbody>\n",
              "</table>\n"
            ],
            "text/markdown": "\nA tibble: 34 × 2\n\n| Genre &lt;chr&gt; | n &lt;int&gt; |\n|---|---|\n|  Drama     | 435 |\n| Drama      | 289 |\n| Action     | 172 |\n| Comedy     | 155 |\n|  Thriller  | 136 |\n|  Romance   | 125 |\n|  Adventure | 124 |\n| Crime      | 107 |\n|  Crime     | 102 |\n| Biography  |  88 |\n|  Mystery   |  87 |\n| Animation  |  82 |\n|  Comedy    |  78 |\n| Adventure  |  72 |\n|  Sci-Fi    |  67 |\n|  Fantasy   |  64 |\n|  History   |  56 |\n|  Family    |  54 |\n|  War       |  51 |\n|  Music     |  35 |\n|  Biography |  21 |\n|  Horror    |  21 |\n|  Sport     |  19 |\n|  Action    |  17 |\n|  Musical   |  17 |\n|  Film-Noir |  16 |\n|  Western   |  16 |\n| Mystery    |  12 |\n| Horror     |  11 |\n| Western    |   4 |\n| Film-Noir  |   3 |\n| Family     |   2 |\n| Fantasy    |   2 |\n| Thriller   |   1 |\n\n",
            "text/latex": "A tibble: 34 × 2\n\\begin{tabular}{ll}\n Genre & n\\\\\n <chr> & <int>\\\\\n\\hline\n\t  Drama     & 435\\\\\n\t Drama      & 289\\\\\n\t Action     & 172\\\\\n\t Comedy     & 155\\\\\n\t  Thriller  & 136\\\\\n\t  Romance   & 125\\\\\n\t  Adventure & 124\\\\\n\t Crime      & 107\\\\\n\t  Crime     & 102\\\\\n\t Biography  &  88\\\\\n\t  Mystery   &  87\\\\\n\t Animation  &  82\\\\\n\t  Comedy    &  78\\\\\n\t Adventure  &  72\\\\\n\t  Sci-Fi    &  67\\\\\n\t  Fantasy   &  64\\\\\n\t  History   &  56\\\\\n\t  Family    &  54\\\\\n\t  War       &  51\\\\\n\t  Music     &  35\\\\\n\t  Biography &  21\\\\\n\t  Horror    &  21\\\\\n\t  Sport     &  19\\\\\n\t  Action    &  17\\\\\n\t  Musical   &  17\\\\\n\t  Film-Noir &  16\\\\\n\t  Western   &  16\\\\\n\t Mystery    &  12\\\\\n\t Horror     &  11\\\\\n\t Western    &   4\\\\\n\t Film-Noir  &   3\\\\\n\t Family     &   2\\\\\n\t Fantasy    &   2\\\\\n\t Thriller   &   1\\\\\n\\end{tabular}\n",
            "text/plain": [
              "   Genre      n  \n",
              "1   Drama     435\n",
              "2  Drama      289\n",
              "3  Action     172\n",
              "4  Comedy     155\n",
              "5   Thriller  136\n",
              "6   Romance   125\n",
              "7   Adventure 124\n",
              "8  Crime      107\n",
              "9   Crime     102\n",
              "10 Biography   88\n",
              "11  Mystery    87\n",
              "12 Animation   82\n",
              "13  Comedy     78\n",
              "14 Adventure   72\n",
              "15  Sci-Fi     67\n",
              "16  Fantasy    64\n",
              "17  History    56\n",
              "18  Family     54\n",
              "19  War        51\n",
              "20  Music      35\n",
              "21  Biography  21\n",
              "22  Horror     21\n",
              "23  Sport      19\n",
              "24  Action     17\n",
              "25  Musical    17\n",
              "26  Film-Noir  16\n",
              "27  Western    16\n",
              "28 Mystery     12\n",
              "29 Horror      11\n",
              "30 Western      4\n",
              "31 Film-Noir    3\n",
              "32 Family       2\n",
              "33 Fantasy      2\n",
              "34 Thriller     1"
            ]
          },
          "metadata": {}
        }
      ]
    },
    {
      "cell_type": "markdown",
      "source": [
        "**Certificate**\n",
        "\n",
        "- G: General audiences, suitable for all ages.\n",
        "\n",
        "- PG: Parental guidance suggested; some content may not be suitable for children.\n",
        "\n",
        "- PG-13: Parents strongly cautioned; may be inappropriate for children under 13.\n",
        "\n",
        "- R: Restricted; viewers under 17 or 18 require an accompanying parent or adult guardian.\n",
        "\n",
        "- NC-17: No one 17 and under admitted; for adults only.\n",
        "\n",
        "- U (used in some countries like India): Universal, suitable for all.\n",
        "\n",
        "- U/A (India): Parental guidance suggested, may not be suitable for children.\n",
        "\n",
        "- PG-13  (movie rating that stands for \"Parental Guidance - 13) : PG-13 is a movie rating that stands for \"Parental Guidance - 13\"\"\n",
        "\n",
        "- TV-MA (Mature Audience) : Television content rating indicating that a show is intended for adults only and is generally not suitable for children under 17\n"
      ],
      "metadata": {
        "id": "uKqOfy9k__jp"
      }
    },
    {
      "cell_type": "code",
      "source": [
        "df %>% group_by(Certificate) %>% count() %>% arrange(desc(n))"
      ],
      "metadata": {
        "id": "GlbHxEYWwhh5",
        "colab": {
          "base_uri": "https://localhost:8080/",
          "height": 631
        },
        "outputId": "78ce46c6-0a5b-440c-8ea5-a8fcf21b36b0"
      },
      "execution_count": null,
      "outputs": [
        {
          "output_type": "display_data",
          "data": {
            "text/html": [
              "<table class=\"dataframe\">\n",
              "<caption>A grouped_df: 17 × 2</caption>\n",
              "<thead>\n",
              "\t<tr><th scope=col>Certificate</th><th scope=col>n</th></tr>\n",
              "\t<tr><th scope=col>&lt;chr&gt;</th><th scope=col>&lt;int&gt;</th></tr>\n",
              "</thead>\n",
              "<tbody>\n",
              "\t<tr><td>U       </td><td>234</td></tr>\n",
              "\t<tr><td>A       </td><td>197</td></tr>\n",
              "\t<tr><td>UA      </td><td>175</td></tr>\n",
              "\t<tr><td>R       </td><td>146</td></tr>\n",
              "\t<tr><td>        </td><td>101</td></tr>\n",
              "\t<tr><td>PG-13   </td><td> 43</td></tr>\n",
              "\t<tr><td>PG      </td><td> 37</td></tr>\n",
              "\t<tr><td>Passed  </td><td> 34</td></tr>\n",
              "\t<tr><td>G       </td><td> 12</td></tr>\n",
              "\t<tr><td>Approved</td><td> 11</td></tr>\n",
              "\t<tr><td>TV-PG   </td><td>  3</td></tr>\n",
              "\t<tr><td>GP      </td><td>  2</td></tr>\n",
              "\t<tr><td>16      </td><td>  1</td></tr>\n",
              "\t<tr><td>TV-14   </td><td>  1</td></tr>\n",
              "\t<tr><td>TV-MA   </td><td>  1</td></tr>\n",
              "\t<tr><td>U/A     </td><td>  1</td></tr>\n",
              "\t<tr><td>Unrated </td><td>  1</td></tr>\n",
              "</tbody>\n",
              "</table>\n"
            ],
            "text/markdown": "\nA grouped_df: 17 × 2\n\n| Certificate &lt;chr&gt; | n &lt;int&gt; |\n|---|---|\n| U        | 234 |\n| A        | 197 |\n| UA       | 175 |\n| R        | 146 |\n| <!----> | 101 |\n| PG-13    |  43 |\n| PG       |  37 |\n| Passed   |  34 |\n| G        |  12 |\n| Approved |  11 |\n| TV-PG    |   3 |\n| GP       |   2 |\n| 16       |   1 |\n| TV-14    |   1 |\n| TV-MA    |   1 |\n| U/A      |   1 |\n| Unrated  |   1 |\n\n",
            "text/latex": "A grouped\\_df: 17 × 2\n\\begin{tabular}{ll}\n Certificate & n\\\\\n <chr> & <int>\\\\\n\\hline\n\t U        & 234\\\\\n\t A        & 197\\\\\n\t UA       & 175\\\\\n\t R        & 146\\\\\n\t          & 101\\\\\n\t PG-13    &  43\\\\\n\t PG       &  37\\\\\n\t Passed   &  34\\\\\n\t G        &  12\\\\\n\t Approved &  11\\\\\n\t TV-PG    &   3\\\\\n\t GP       &   2\\\\\n\t 16       &   1\\\\\n\t TV-14    &   1\\\\\n\t TV-MA    &   1\\\\\n\t U/A      &   1\\\\\n\t Unrated  &   1\\\\\n\\end{tabular}\n",
            "text/plain": [
              "   Certificate n  \n",
              "1  U           234\n",
              "2  A           197\n",
              "3  UA          175\n",
              "4  R           146\n",
              "5              101\n",
              "6  PG-13        43\n",
              "7  PG           37\n",
              "8  Passed       34\n",
              "9  G            12\n",
              "10 Approved     11\n",
              "11 TV-PG         3\n",
              "12 GP            2\n",
              "13 16            1\n",
              "14 TV-14         1\n",
              "15 TV-MA         1\n",
              "16 U/A           1\n",
              "17 Unrated       1"
            ]
          },
          "metadata": {}
        }
      ]
    },
    {
      "cell_type": "code",
      "source": [
        "a <- df %>% separate_rows(Genre , sep = \",\")\n",
        "mean_imdb_rating_genre <- a %>% group_by(Genre) %>% summarise(mean_rating = mean(IMDB_Rating))\n",
        "mean_imdb_rating_genre"
      ],
      "metadata": {
        "id": "hKaef4vkwhlr",
        "colab": {
          "base_uri": "https://localhost:8080/",
          "height": 1000
        },
        "outputId": "ab33dd04-fac5-4dad-c84f-a6447791f8a6"
      },
      "execution_count": null,
      "outputs": [
        {
          "output_type": "display_data",
          "data": {
            "text/html": [
              "<table class=\"dataframe\">\n",
              "<caption>A tibble: 34 × 2</caption>\n",
              "<thead>\n",
              "\t<tr><th scope=col>Genre</th><th scope=col>mean_rating</th></tr>\n",
              "\t<tr><th scope=col>&lt;chr&gt;</th><th scope=col>&lt;dbl&gt;</th></tr>\n",
              "</thead>\n",
              "<tbody>\n",
              "\t<tr><td> Action   </td><td>7.941176</td></tr>\n",
              "\t<tr><td> Adventure</td><td>7.960484</td></tr>\n",
              "\t<tr><td> Biography</td><td>7.923810</td></tr>\n",
              "\t<tr><td> Comedy   </td><td>7.907692</td></tr>\n",
              "\t<tr><td> Crime    </td><td>7.889216</td></tr>\n",
              "\t<tr><td> Drama    </td><td>7.960690</td></tr>\n",
              "\t<tr><td> Family   </td><td>7.916667</td></tr>\n",
              "\t<tr><td> Fantasy  </td><td>7.929688</td></tr>\n",
              "\t<tr><td> Film-Noir</td><td>7.993750</td></tr>\n",
              "\t<tr><td> History  </td><td>7.953571</td></tr>\n",
              "\t<tr><td> Horror   </td><td>7.876190</td></tr>\n",
              "\t<tr><td> Music    </td><td>7.914286</td></tr>\n",
              "\t<tr><td> Musical  </td><td>7.947059</td></tr>\n",
              "\t<tr><td> Mystery  </td><td>7.966667</td></tr>\n",
              "\t<tr><td> Romance  </td><td>7.925600</td></tr>\n",
              "\t<tr><td> Sci-Fi   </td><td>7.977612</td></tr>\n",
              "\t<tr><td> Sport    </td><td>7.926316</td></tr>\n",
              "\t<tr><td> Thriller </td><td>7.910294</td></tr>\n",
              "\t<tr><td> War      </td><td>8.013725</td></tr>\n",
              "\t<tr><td> Western  </td><td>7.912500</td></tr>\n",
              "\t<tr><td>Action    </td><td>7.949419</td></tr>\n",
              "\t<tr><td>Adventure </td><td>7.937500</td></tr>\n",
              "\t<tr><td>Animation </td><td>7.930488</td></tr>\n",
              "\t<tr><td>Biography </td><td>7.938636</td></tr>\n",
              "\t<tr><td>Comedy    </td><td>7.901290</td></tr>\n",
              "\t<tr><td>Crime     </td><td>8.016822</td></tr>\n",
              "\t<tr><td>Drama     </td><td>7.957439</td></tr>\n",
              "\t<tr><td>Family    </td><td>7.800000</td></tr>\n",
              "\t<tr><td>Fantasy   </td><td>8.000000</td></tr>\n",
              "\t<tr><td>Film-Noir </td><td>7.966667</td></tr>\n",
              "\t<tr><td>Horror    </td><td>7.909091</td></tr>\n",
              "\t<tr><td>Mystery   </td><td>7.975000</td></tr>\n",
              "\t<tr><td>Thriller  </td><td>7.800000</td></tr>\n",
              "\t<tr><td>Western   </td><td>8.350000</td></tr>\n",
              "</tbody>\n",
              "</table>\n"
            ],
            "text/markdown": "\nA tibble: 34 × 2\n\n| Genre &lt;chr&gt; | mean_rating &lt;dbl&gt; |\n|---|---|\n|  Action    | 7.941176 |\n|  Adventure | 7.960484 |\n|  Biography | 7.923810 |\n|  Comedy    | 7.907692 |\n|  Crime     | 7.889216 |\n|  Drama     | 7.960690 |\n|  Family    | 7.916667 |\n|  Fantasy   | 7.929688 |\n|  Film-Noir | 7.993750 |\n|  History   | 7.953571 |\n|  Horror    | 7.876190 |\n|  Music     | 7.914286 |\n|  Musical   | 7.947059 |\n|  Mystery   | 7.966667 |\n|  Romance   | 7.925600 |\n|  Sci-Fi    | 7.977612 |\n|  Sport     | 7.926316 |\n|  Thriller  | 7.910294 |\n|  War       | 8.013725 |\n|  Western   | 7.912500 |\n| Action     | 7.949419 |\n| Adventure  | 7.937500 |\n| Animation  | 7.930488 |\n| Biography  | 7.938636 |\n| Comedy     | 7.901290 |\n| Crime      | 8.016822 |\n| Drama      | 7.957439 |\n| Family     | 7.800000 |\n| Fantasy    | 8.000000 |\n| Film-Noir  | 7.966667 |\n| Horror     | 7.909091 |\n| Mystery    | 7.975000 |\n| Thriller   | 7.800000 |\n| Western    | 8.350000 |\n\n",
            "text/latex": "A tibble: 34 × 2\n\\begin{tabular}{ll}\n Genre & mean\\_rating\\\\\n <chr> & <dbl>\\\\\n\\hline\n\t  Action    & 7.941176\\\\\n\t  Adventure & 7.960484\\\\\n\t  Biography & 7.923810\\\\\n\t  Comedy    & 7.907692\\\\\n\t  Crime     & 7.889216\\\\\n\t  Drama     & 7.960690\\\\\n\t  Family    & 7.916667\\\\\n\t  Fantasy   & 7.929688\\\\\n\t  Film-Noir & 7.993750\\\\\n\t  History   & 7.953571\\\\\n\t  Horror    & 7.876190\\\\\n\t  Music     & 7.914286\\\\\n\t  Musical   & 7.947059\\\\\n\t  Mystery   & 7.966667\\\\\n\t  Romance   & 7.925600\\\\\n\t  Sci-Fi    & 7.977612\\\\\n\t  Sport     & 7.926316\\\\\n\t  Thriller  & 7.910294\\\\\n\t  War       & 8.013725\\\\\n\t  Western   & 7.912500\\\\\n\t Action     & 7.949419\\\\\n\t Adventure  & 7.937500\\\\\n\t Animation  & 7.930488\\\\\n\t Biography  & 7.938636\\\\\n\t Comedy     & 7.901290\\\\\n\t Crime      & 8.016822\\\\\n\t Drama      & 7.957439\\\\\n\t Family     & 7.800000\\\\\n\t Fantasy    & 8.000000\\\\\n\t Film-Noir  & 7.966667\\\\\n\t Horror     & 7.909091\\\\\n\t Mystery    & 7.975000\\\\\n\t Thriller   & 7.800000\\\\\n\t Western    & 8.350000\\\\\n\\end{tabular}\n",
            "text/plain": [
              "   Genre      mean_rating\n",
              "1   Action    7.941176   \n",
              "2   Adventure 7.960484   \n",
              "3   Biography 7.923810   \n",
              "4   Comedy    7.907692   \n",
              "5   Crime     7.889216   \n",
              "6   Drama     7.960690   \n",
              "7   Family    7.916667   \n",
              "8   Fantasy   7.929688   \n",
              "9   Film-Noir 7.993750   \n",
              "10  History   7.953571   \n",
              "11  Horror    7.876190   \n",
              "12  Music     7.914286   \n",
              "13  Musical   7.947059   \n",
              "14  Mystery   7.966667   \n",
              "15  Romance   7.925600   \n",
              "16  Sci-Fi    7.977612   \n",
              "17  Sport     7.926316   \n",
              "18  Thriller  7.910294   \n",
              "19  War       8.013725   \n",
              "20  Western   7.912500   \n",
              "21 Action     7.949419   \n",
              "22 Adventure  7.937500   \n",
              "23 Animation  7.930488   \n",
              "24 Biography  7.938636   \n",
              "25 Comedy     7.901290   \n",
              "26 Crime      8.016822   \n",
              "27 Drama      7.957439   \n",
              "28 Family     7.800000   \n",
              "29 Fantasy    8.000000   \n",
              "30 Film-Noir  7.966667   \n",
              "31 Horror     7.909091   \n",
              "32 Mystery    7.975000   \n",
              "33 Thriller   7.800000   \n",
              "34 Western    8.350000   "
            ]
          },
          "metadata": {}
        }
      ]
    },
    {
      "cell_type": "code",
      "source": [
        "a1 <- df %>%  separate_rows(Genre ,sep = \",\")\n",
        "mean_votes_genre <- a1 %>%  group_by(Genre) %>% summarise(mean_votes = mean(No_of_Votes))\n",
        "mean_votes_genre"
      ],
      "metadata": {
        "id": "gMB4JAQLwhne",
        "colab": {
          "base_uri": "https://localhost:8080/",
          "height": 1000
        },
        "outputId": "83c4db91-526a-4b0a-fb30-8a71cea9c4eb"
      },
      "execution_count": null,
      "outputs": [
        {
          "output_type": "display_data",
          "data": {
            "text/html": [
              "<table class=\"dataframe\">\n",
              "<caption>A tibble: 34 × 2</caption>\n",
              "<thead>\n",
              "\t<tr><th scope=col>Genre</th><th scope=col>mean_votes</th></tr>\n",
              "\t<tr><th scope=col>&lt;chr&gt;</th><th scope=col>&lt;dbl&gt;</th></tr>\n",
              "</thead>\n",
              "<tbody>\n",
              "\t<tr><td> Action   </td><td>241539.65</td></tr>\n",
              "\t<tr><td> Adventure</td><td>489634.00</td></tr>\n",
              "\t<tr><td> Biography</td><td>164290.38</td></tr>\n",
              "\t<tr><td> Comedy   </td><td>319400.55</td></tr>\n",
              "\t<tr><td> Crime    </td><td>247673.62</td></tr>\n",
              "\t<tr><td> Drama    </td><td>259588.46</td></tr>\n",
              "\t<tr><td> Family   </td><td>221541.06</td></tr>\n",
              "\t<tr><td> Fantasy  </td><td>355659.12</td></tr>\n",
              "\t<tr><td> Film-Noir</td><td> 72269.00</td></tr>\n",
              "\t<tr><td> History  </td><td>195434.80</td></tr>\n",
              "\t<tr><td> Horror   </td><td>153761.14</td></tr>\n",
              "\t<tr><td> Music    </td><td>139281.69</td></tr>\n",
              "\t<tr><td> Musical  </td><td> 79613.59</td></tr>\n",
              "\t<tr><td> Mystery  </td><td>285630.68</td></tr>\n",
              "\t<tr><td> Romance  </td><td>200913.14</td></tr>\n",
              "\t<tr><td> Sci-Fi   </td><td>556242.48</td></tr>\n",
              "\t<tr><td> Sport    </td><td>256618.68</td></tr>\n",
              "\t<tr><td> Thriller </td><td>302053.08</td></tr>\n",
              "\t<tr><td> War      </td><td>194244.51</td></tr>\n",
              "\t<tr><td> Western  </td><td>206240.69</td></tr>\n",
              "\t<tr><td>Action    </td><td>420246.58</td></tr>\n",
              "\t<tr><td>Adventure </td><td>313557.82</td></tr>\n",
              "\t<tr><td>Animation </td><td>268032.07</td></tr>\n",
              "\t<tr><td>Biography </td><td>272805.05</td></tr>\n",
              "\t<tr><td>Comedy    </td><td>178195.66</td></tr>\n",
              "\t<tr><td>Crime     </td><td>313398.27</td></tr>\n",
              "\t<tr><td>Drama     </td><td>212343.61</td></tr>\n",
              "\t<tr><td>Family    </td><td>275610.50</td></tr>\n",
              "\t<tr><td>Fantasy   </td><td> 73111.00</td></tr>\n",
              "\t<tr><td>Film-Noir </td><td>122405.00</td></tr>\n",
              "\t<tr><td>Horror    </td><td>340232.36</td></tr>\n",
              "\t<tr><td>Mystery   </td><td>350250.33</td></tr>\n",
              "\t<tr><td>Thriller  </td><td> 27733.00</td></tr>\n",
              "\t<tr><td>Western   </td><td>322416.25</td></tr>\n",
              "</tbody>\n",
              "</table>\n"
            ],
            "text/markdown": "\nA tibble: 34 × 2\n\n| Genre &lt;chr&gt; | mean_votes &lt;dbl&gt; |\n|---|---|\n|  Action    | 241539.65 |\n|  Adventure | 489634.00 |\n|  Biography | 164290.38 |\n|  Comedy    | 319400.55 |\n|  Crime     | 247673.62 |\n|  Drama     | 259588.46 |\n|  Family    | 221541.06 |\n|  Fantasy   | 355659.12 |\n|  Film-Noir |  72269.00 |\n|  History   | 195434.80 |\n|  Horror    | 153761.14 |\n|  Music     | 139281.69 |\n|  Musical   |  79613.59 |\n|  Mystery   | 285630.68 |\n|  Romance   | 200913.14 |\n|  Sci-Fi    | 556242.48 |\n|  Sport     | 256618.68 |\n|  Thriller  | 302053.08 |\n|  War       | 194244.51 |\n|  Western   | 206240.69 |\n| Action     | 420246.58 |\n| Adventure  | 313557.82 |\n| Animation  | 268032.07 |\n| Biography  | 272805.05 |\n| Comedy     | 178195.66 |\n| Crime      | 313398.27 |\n| Drama      | 212343.61 |\n| Family     | 275610.50 |\n| Fantasy    |  73111.00 |\n| Film-Noir  | 122405.00 |\n| Horror     | 340232.36 |\n| Mystery    | 350250.33 |\n| Thriller   |  27733.00 |\n| Western    | 322416.25 |\n\n",
            "text/latex": "A tibble: 34 × 2\n\\begin{tabular}{ll}\n Genre & mean\\_votes\\\\\n <chr> & <dbl>\\\\\n\\hline\n\t  Action    & 241539.65\\\\\n\t  Adventure & 489634.00\\\\\n\t  Biography & 164290.38\\\\\n\t  Comedy    & 319400.55\\\\\n\t  Crime     & 247673.62\\\\\n\t  Drama     & 259588.46\\\\\n\t  Family    & 221541.06\\\\\n\t  Fantasy   & 355659.12\\\\\n\t  Film-Noir &  72269.00\\\\\n\t  History   & 195434.80\\\\\n\t  Horror    & 153761.14\\\\\n\t  Music     & 139281.69\\\\\n\t  Musical   &  79613.59\\\\\n\t  Mystery   & 285630.68\\\\\n\t  Romance   & 200913.14\\\\\n\t  Sci-Fi    & 556242.48\\\\\n\t  Sport     & 256618.68\\\\\n\t  Thriller  & 302053.08\\\\\n\t  War       & 194244.51\\\\\n\t  Western   & 206240.69\\\\\n\t Action     & 420246.58\\\\\n\t Adventure  & 313557.82\\\\\n\t Animation  & 268032.07\\\\\n\t Biography  & 272805.05\\\\\n\t Comedy     & 178195.66\\\\\n\t Crime      & 313398.27\\\\\n\t Drama      & 212343.61\\\\\n\t Family     & 275610.50\\\\\n\t Fantasy    &  73111.00\\\\\n\t Film-Noir  & 122405.00\\\\\n\t Horror     & 340232.36\\\\\n\t Mystery    & 350250.33\\\\\n\t Thriller   &  27733.00\\\\\n\t Western    & 322416.25\\\\\n\\end{tabular}\n",
            "text/plain": [
              "   Genre      mean_votes\n",
              "1   Action    241539.65 \n",
              "2   Adventure 489634.00 \n",
              "3   Biography 164290.38 \n",
              "4   Comedy    319400.55 \n",
              "5   Crime     247673.62 \n",
              "6   Drama     259588.46 \n",
              "7   Family    221541.06 \n",
              "8   Fantasy   355659.12 \n",
              "9   Film-Noir  72269.00 \n",
              "10  History   195434.80 \n",
              "11  Horror    153761.14 \n",
              "12  Music     139281.69 \n",
              "13  Musical    79613.59 \n",
              "14  Mystery   285630.68 \n",
              "15  Romance   200913.14 \n",
              "16  Sci-Fi    556242.48 \n",
              "17  Sport     256618.68 \n",
              "18  Thriller  302053.08 \n",
              "19  War       194244.51 \n",
              "20  Western   206240.69 \n",
              "21 Action     420246.58 \n",
              "22 Adventure  313557.82 \n",
              "23 Animation  268032.07 \n",
              "24 Biography  272805.05 \n",
              "25 Comedy     178195.66 \n",
              "26 Crime      313398.27 \n",
              "27 Drama      212343.61 \n",
              "28 Family     275610.50 \n",
              "29 Fantasy     73111.00 \n",
              "30 Film-Noir  122405.00 \n",
              "31 Horror     340232.36 \n",
              "32 Mystery    350250.33 \n",
              "33 Thriller    27733.00 \n",
              "34 Western    322416.25 "
            ]
          },
          "metadata": {}
        }
      ]
    },
    {
      "cell_type": "code",
      "source": [
        "b <- df %>%  separate_rows(Genre ,sep = \",\")\n",
        "max_rating_genre <- b %>%  group_by(Genre) %>% summarise(max_rating = max(IMDB_Rating)) %>% arrange(desc(max_rating))\n",
        "max_rating_genre"
      ],
      "metadata": {
        "id": "7GoWP9J0whrL",
        "colab": {
          "base_uri": "https://localhost:8080/",
          "height": 1000
        },
        "outputId": "784d63a4-c543-4919-e8d1-c2546f76e0ba"
      },
      "execution_count": null,
      "outputs": [
        {
          "output_type": "display_data",
          "data": {
            "text/html": [
              "<table class=\"dataframe\">\n",
              "<caption>A tibble: 34 × 2</caption>\n",
              "<thead>\n",
              "\t<tr><th scope=col>Genre</th><th scope=col>max_rating</th></tr>\n",
              "\t<tr><th scope=col>&lt;chr&gt;</th><th scope=col>&lt;dbl&gt;</th></tr>\n",
              "</thead>\n",
              "<tbody>\n",
              "\t<tr><td>Drama     </td><td>9.3</td></tr>\n",
              "\t<tr><td> Drama    </td><td>9.2</td></tr>\n",
              "\t<tr><td>Crime     </td><td>9.2</td></tr>\n",
              "\t<tr><td> Crime    </td><td>9.0</td></tr>\n",
              "\t<tr><td>Action    </td><td>9.0</td></tr>\n",
              "\t<tr><td> Adventure</td><td>8.9</td></tr>\n",
              "\t<tr><td> History  </td><td>8.9</td></tr>\n",
              "\t<tr><td>Biography </td><td>8.9</td></tr>\n",
              "\t<tr><td> Romance  </td><td>8.8</td></tr>\n",
              "\t<tr><td> Sci-Fi   </td><td>8.8</td></tr>\n",
              "\t<tr><td>Western   </td><td>8.8</td></tr>\n",
              "\t<tr><td> Fantasy  </td><td>8.7</td></tr>\n",
              "\t<tr><td> Family   </td><td>8.6</td></tr>\n",
              "\t<tr><td> Mystery  </td><td>8.6</td></tr>\n",
              "\t<tr><td> Thriller </td><td>8.6</td></tr>\n",
              "\t<tr><td> War      </td><td>8.6</td></tr>\n",
              "\t<tr><td>Adventure </td><td>8.6</td></tr>\n",
              "\t<tr><td>Animation </td><td>8.6</td></tr>\n",
              "\t<tr><td>Comedy    </td><td>8.6</td></tr>\n",
              "\t<tr><td> Comedy   </td><td>8.5</td></tr>\n",
              "\t<tr><td> Music    </td><td>8.5</td></tr>\n",
              "\t<tr><td>Horror    </td><td>8.5</td></tr>\n",
              "\t<tr><td> Action   </td><td>8.4</td></tr>\n",
              "\t<tr><td> Biography</td><td>8.4</td></tr>\n",
              "\t<tr><td> Film-Noir</td><td>8.4</td></tr>\n",
              "\t<tr><td> Horror   </td><td>8.4</td></tr>\n",
              "\t<tr><td> Musical  </td><td>8.4</td></tr>\n",
              "\t<tr><td> Western  </td><td>8.4</td></tr>\n",
              "\t<tr><td>Mystery   </td><td>8.4</td></tr>\n",
              "\t<tr><td> Sport    </td><td>8.3</td></tr>\n",
              "\t<tr><td>Fantasy   </td><td>8.1</td></tr>\n",
              "\t<tr><td>Film-Noir </td><td>8.1</td></tr>\n",
              "\t<tr><td>Family    </td><td>7.8</td></tr>\n",
              "\t<tr><td>Thriller  </td><td>7.8</td></tr>\n",
              "</tbody>\n",
              "</table>\n"
            ],
            "text/markdown": "\nA tibble: 34 × 2\n\n| Genre &lt;chr&gt; | max_rating &lt;dbl&gt; |\n|---|---|\n| Drama      | 9.3 |\n|  Drama     | 9.2 |\n| Crime      | 9.2 |\n|  Crime     | 9.0 |\n| Action     | 9.0 |\n|  Adventure | 8.9 |\n|  History   | 8.9 |\n| Biography  | 8.9 |\n|  Romance   | 8.8 |\n|  Sci-Fi    | 8.8 |\n| Western    | 8.8 |\n|  Fantasy   | 8.7 |\n|  Family    | 8.6 |\n|  Mystery   | 8.6 |\n|  Thriller  | 8.6 |\n|  War       | 8.6 |\n| Adventure  | 8.6 |\n| Animation  | 8.6 |\n| Comedy     | 8.6 |\n|  Comedy    | 8.5 |\n|  Music     | 8.5 |\n| Horror     | 8.5 |\n|  Action    | 8.4 |\n|  Biography | 8.4 |\n|  Film-Noir | 8.4 |\n|  Horror    | 8.4 |\n|  Musical   | 8.4 |\n|  Western   | 8.4 |\n| Mystery    | 8.4 |\n|  Sport     | 8.3 |\n| Fantasy    | 8.1 |\n| Film-Noir  | 8.1 |\n| Family     | 7.8 |\n| Thriller   | 7.8 |\n\n",
            "text/latex": "A tibble: 34 × 2\n\\begin{tabular}{ll}\n Genre & max\\_rating\\\\\n <chr> & <dbl>\\\\\n\\hline\n\t Drama      & 9.3\\\\\n\t  Drama     & 9.2\\\\\n\t Crime      & 9.2\\\\\n\t  Crime     & 9.0\\\\\n\t Action     & 9.0\\\\\n\t  Adventure & 8.9\\\\\n\t  History   & 8.9\\\\\n\t Biography  & 8.9\\\\\n\t  Romance   & 8.8\\\\\n\t  Sci-Fi    & 8.8\\\\\n\t Western    & 8.8\\\\\n\t  Fantasy   & 8.7\\\\\n\t  Family    & 8.6\\\\\n\t  Mystery   & 8.6\\\\\n\t  Thriller  & 8.6\\\\\n\t  War       & 8.6\\\\\n\t Adventure  & 8.6\\\\\n\t Animation  & 8.6\\\\\n\t Comedy     & 8.6\\\\\n\t  Comedy    & 8.5\\\\\n\t  Music     & 8.5\\\\\n\t Horror     & 8.5\\\\\n\t  Action    & 8.4\\\\\n\t  Biography & 8.4\\\\\n\t  Film-Noir & 8.4\\\\\n\t  Horror    & 8.4\\\\\n\t  Musical   & 8.4\\\\\n\t  Western   & 8.4\\\\\n\t Mystery    & 8.4\\\\\n\t  Sport     & 8.3\\\\\n\t Fantasy    & 8.1\\\\\n\t Film-Noir  & 8.1\\\\\n\t Family     & 7.8\\\\\n\t Thriller   & 7.8\\\\\n\\end{tabular}\n",
            "text/plain": [
              "   Genre      max_rating\n",
              "1  Drama      9.3       \n",
              "2   Drama     9.2       \n",
              "3  Crime      9.2       \n",
              "4   Crime     9.0       \n",
              "5  Action     9.0       \n",
              "6   Adventure 8.9       \n",
              "7   History   8.9       \n",
              "8  Biography  8.9       \n",
              "9   Romance   8.8       \n",
              "10  Sci-Fi    8.8       \n",
              "11 Western    8.8       \n",
              "12  Fantasy   8.7       \n",
              "13  Family    8.6       \n",
              "14  Mystery   8.6       \n",
              "15  Thriller  8.6       \n",
              "16  War       8.6       \n",
              "17 Adventure  8.6       \n",
              "18 Animation  8.6       \n",
              "19 Comedy     8.6       \n",
              "20  Comedy    8.5       \n",
              "21  Music     8.5       \n",
              "22 Horror     8.5       \n",
              "23  Action    8.4       \n",
              "24  Biography 8.4       \n",
              "25  Film-Noir 8.4       \n",
              "26  Horror    8.4       \n",
              "27  Musical   8.4       \n",
              "28  Western   8.4       \n",
              "29 Mystery    8.4       \n",
              "30  Sport     8.3       \n",
              "31 Fantasy    8.1       \n",
              "32 Film-Noir  8.1       \n",
              "33 Family     7.8       \n",
              "34 Thriller   7.8       "
            ]
          },
          "metadata": {}
        }
      ]
    },
    {
      "cell_type": "code",
      "source": [
        "b1 <- df %>%  separate_rows(Genre ,sep = \",\")\n",
        "min_rating_genre <- b1 %>%  group_by(Genre) %>% summarise(min_rating = min(IMDB_Rating)) %>% arrange(desc(min_rating))\n",
        "min_rating_genre"
      ],
      "metadata": {
        "id": "Zlwjsiffwhs_",
        "colab": {
          "base_uri": "https://localhost:8080/",
          "height": 1000
        },
        "outputId": "e02b9b0d-4a55-4840-e72d-a50820f88b31"
      },
      "execution_count": null,
      "outputs": [
        {
          "output_type": "display_data",
          "data": {
            "text/html": [
              "<table class=\"dataframe\">\n",
              "<caption>A tibble: 34 × 2</caption>\n",
              "<thead>\n",
              "\t<tr><th scope=col>Genre</th><th scope=col>min_rating</th></tr>\n",
              "\t<tr><th scope=col>&lt;chr&gt;</th><th scope=col>&lt;dbl&gt;</th></tr>\n",
              "</thead>\n",
              "<tbody>\n",
              "\t<tr><td>Fantasy   </td><td>7.9</td></tr>\n",
              "\t<tr><td>Family    </td><td>7.8</td></tr>\n",
              "\t<tr><td>Film-Noir </td><td>7.8</td></tr>\n",
              "\t<tr><td>Thriller  </td><td>7.8</td></tr>\n",
              "\t<tr><td>Western   </td><td>7.8</td></tr>\n",
              "\t<tr><td> Film-Noir</td><td>7.7</td></tr>\n",
              "\t<tr><td> Action   </td><td>7.6</td></tr>\n",
              "\t<tr><td> Adventure</td><td>7.6</td></tr>\n",
              "\t<tr><td> Biography</td><td>7.6</td></tr>\n",
              "\t<tr><td> Comedy   </td><td>7.6</td></tr>\n",
              "\t<tr><td> Crime    </td><td>7.6</td></tr>\n",
              "\t<tr><td> Drama    </td><td>7.6</td></tr>\n",
              "\t<tr><td> Family   </td><td>7.6</td></tr>\n",
              "\t<tr><td> Fantasy  </td><td>7.6</td></tr>\n",
              "\t<tr><td> History  </td><td>7.6</td></tr>\n",
              "\t<tr><td> Horror   </td><td>7.6</td></tr>\n",
              "\t<tr><td> Music    </td><td>7.6</td></tr>\n",
              "\t<tr><td> Musical  </td><td>7.6</td></tr>\n",
              "\t<tr><td> Mystery  </td><td>7.6</td></tr>\n",
              "\t<tr><td> Romance  </td><td>7.6</td></tr>\n",
              "\t<tr><td> Sci-Fi   </td><td>7.6</td></tr>\n",
              "\t<tr><td> Sport    </td><td>7.6</td></tr>\n",
              "\t<tr><td> Thriller </td><td>7.6</td></tr>\n",
              "\t<tr><td> War      </td><td>7.6</td></tr>\n",
              "\t<tr><td> Western  </td><td>7.6</td></tr>\n",
              "\t<tr><td>Action    </td><td>7.6</td></tr>\n",
              "\t<tr><td>Adventure </td><td>7.6</td></tr>\n",
              "\t<tr><td>Animation </td><td>7.6</td></tr>\n",
              "\t<tr><td>Biography </td><td>7.6</td></tr>\n",
              "\t<tr><td>Comedy    </td><td>7.6</td></tr>\n",
              "\t<tr><td>Crime     </td><td>7.6</td></tr>\n",
              "\t<tr><td>Drama     </td><td>7.6</td></tr>\n",
              "\t<tr><td>Horror    </td><td>7.6</td></tr>\n",
              "\t<tr><td>Mystery   </td><td>7.6</td></tr>\n",
              "</tbody>\n",
              "</table>\n"
            ],
            "text/markdown": "\nA tibble: 34 × 2\n\n| Genre &lt;chr&gt; | min_rating &lt;dbl&gt; |\n|---|---|\n| Fantasy    | 7.9 |\n| Family     | 7.8 |\n| Film-Noir  | 7.8 |\n| Thriller   | 7.8 |\n| Western    | 7.8 |\n|  Film-Noir | 7.7 |\n|  Action    | 7.6 |\n|  Adventure | 7.6 |\n|  Biography | 7.6 |\n|  Comedy    | 7.6 |\n|  Crime     | 7.6 |\n|  Drama     | 7.6 |\n|  Family    | 7.6 |\n|  Fantasy   | 7.6 |\n|  History   | 7.6 |\n|  Horror    | 7.6 |\n|  Music     | 7.6 |\n|  Musical   | 7.6 |\n|  Mystery   | 7.6 |\n|  Romance   | 7.6 |\n|  Sci-Fi    | 7.6 |\n|  Sport     | 7.6 |\n|  Thriller  | 7.6 |\n|  War       | 7.6 |\n|  Western   | 7.6 |\n| Action     | 7.6 |\n| Adventure  | 7.6 |\n| Animation  | 7.6 |\n| Biography  | 7.6 |\n| Comedy     | 7.6 |\n| Crime      | 7.6 |\n| Drama      | 7.6 |\n| Horror     | 7.6 |\n| Mystery    | 7.6 |\n\n",
            "text/latex": "A tibble: 34 × 2\n\\begin{tabular}{ll}\n Genre & min\\_rating\\\\\n <chr> & <dbl>\\\\\n\\hline\n\t Fantasy    & 7.9\\\\\n\t Family     & 7.8\\\\\n\t Film-Noir  & 7.8\\\\\n\t Thriller   & 7.8\\\\\n\t Western    & 7.8\\\\\n\t  Film-Noir & 7.7\\\\\n\t  Action    & 7.6\\\\\n\t  Adventure & 7.6\\\\\n\t  Biography & 7.6\\\\\n\t  Comedy    & 7.6\\\\\n\t  Crime     & 7.6\\\\\n\t  Drama     & 7.6\\\\\n\t  Family    & 7.6\\\\\n\t  Fantasy   & 7.6\\\\\n\t  History   & 7.6\\\\\n\t  Horror    & 7.6\\\\\n\t  Music     & 7.6\\\\\n\t  Musical   & 7.6\\\\\n\t  Mystery   & 7.6\\\\\n\t  Romance   & 7.6\\\\\n\t  Sci-Fi    & 7.6\\\\\n\t  Sport     & 7.6\\\\\n\t  Thriller  & 7.6\\\\\n\t  War       & 7.6\\\\\n\t  Western   & 7.6\\\\\n\t Action     & 7.6\\\\\n\t Adventure  & 7.6\\\\\n\t Animation  & 7.6\\\\\n\t Biography  & 7.6\\\\\n\t Comedy     & 7.6\\\\\n\t Crime      & 7.6\\\\\n\t Drama      & 7.6\\\\\n\t Horror     & 7.6\\\\\n\t Mystery    & 7.6\\\\\n\\end{tabular}\n",
            "text/plain": [
              "   Genre      min_rating\n",
              "1  Fantasy    7.9       \n",
              "2  Family     7.8       \n",
              "3  Film-Noir  7.8       \n",
              "4  Thriller   7.8       \n",
              "5  Western    7.8       \n",
              "6   Film-Noir 7.7       \n",
              "7   Action    7.6       \n",
              "8   Adventure 7.6       \n",
              "9   Biography 7.6       \n",
              "10  Comedy    7.6       \n",
              "11  Crime     7.6       \n",
              "12  Drama     7.6       \n",
              "13  Family    7.6       \n",
              "14  Fantasy   7.6       \n",
              "15  History   7.6       \n",
              "16  Horror    7.6       \n",
              "17  Music     7.6       \n",
              "18  Musical   7.6       \n",
              "19  Mystery   7.6       \n",
              "20  Romance   7.6       \n",
              "21  Sci-Fi    7.6       \n",
              "22  Sport     7.6       \n",
              "23  Thriller  7.6       \n",
              "24  War       7.6       \n",
              "25  Western   7.6       \n",
              "26 Action     7.6       \n",
              "27 Adventure  7.6       \n",
              "28 Animation  7.6       \n",
              "29 Biography  7.6       \n",
              "30 Comedy     7.6       \n",
              "31 Crime      7.6       \n",
              "32 Drama      7.6       \n",
              "33 Horror     7.6       \n",
              "34 Mystery    7.6       "
            ]
          },
          "metadata": {}
        }
      ]
    },
    {
      "cell_type": "code",
      "source": [
        "c1 <- df %>%  separate_rows(Genre ,sep = \",\")\n",
        "max_votes_genre <- c1 %>%  group_by(Genre) %>% summarise(max_votes= max(No_of_Votes))\n",
        "max_votes_genre\n"
      ],
      "metadata": {
        "id": "Z_7B4Tgcwhwy",
        "colab": {
          "base_uri": "https://localhost:8080/",
          "height": 1000
        },
        "outputId": "a7950d76-61d1-4beb-e82e-6e76c6e89d90"
      },
      "execution_count": null,
      "outputs": [
        {
          "output_type": "display_data",
          "data": {
            "text/html": [
              "<table class=\"dataframe\">\n",
              "<caption>A tibble: 34 × 2</caption>\n",
              "<thead>\n",
              "\t<tr><th scope=col>Genre</th><th scope=col>max_votes</th></tr>\n",
              "\t<tr><th scope=col>&lt;chr&gt;</th><th scope=col>&lt;int&gt;</th></tr>\n",
              "</thead>\n",
              "<tbody>\n",
              "\t<tr><td> Action   </td><td> 666773</td></tr>\n",
              "\t<tr><td> Adventure</td><td>2067042</td></tr>\n",
              "\t<tr><td> Biography</td><td> 572921</td></tr>\n",
              "\t<tr><td> Comedy   </td><td>1058081</td></tr>\n",
              "\t<tr><td> Crime    </td><td>2303232</td></tr>\n",
              "\t<tr><td> Drama    </td><td>2303232</td></tr>\n",
              "\t<tr><td> Family   </td><td> 999790</td></tr>\n",
              "\t<tr><td> Fantasy  </td><td>1231473</td></tr>\n",
              "\t<tr><td> Film-Noir</td><td> 201632</td></tr>\n",
              "\t<tr><td> History  </td><td>1213505</td></tr>\n",
              "\t<tr><td> Horror   </td><td> 898237</td></tr>\n",
              "\t<tr><td> Music    </td><td> 729603</td></tr>\n",
              "\t<tr><td> Musical  </td><td> 218957</td></tr>\n",
              "\t<tr><td> Mystery  </td><td>1445096</td></tr>\n",
              "\t<tr><td> Romance  </td><td>1809221</td></tr>\n",
              "\t<tr><td> Sci-Fi   </td><td>2067042</td></tr>\n",
              "\t<tr><td> Sport    </td><td> 732620</td></tr>\n",
              "\t<tr><td> Thriller </td><td>1270197</td></tr>\n",
              "\t<tr><td> War      </td><td>1267869</td></tr>\n",
              "\t<tr><td> Western  </td><td>1357682</td></tr>\n",
              "\t<tr><td>Action    </td><td>2303232</td></tr>\n",
              "\t<tr><td>Adventure </td><td>1512360</td></tr>\n",
              "\t<tr><td>Animation </td><td> 999790</td></tr>\n",
              "\t<tr><td>Biography </td><td>1213505</td></tr>\n",
              "\t<tr><td>Comedy    </td><td> 939631</td></tr>\n",
              "\t<tr><td>Crime     </td><td>1826188</td></tr>\n",
              "\t<tr><td>Drama     </td><td>2343110</td></tr>\n",
              "\t<tr><td>Family    </td><td> 372490</td></tr>\n",
              "\t<tr><td>Fantasy   </td><td>  88794</td></tr>\n",
              "\t<tr><td>Film-Noir </td><td> 158731</td></tr>\n",
              "\t<tr><td>Horror    </td><td> 787806</td></tr>\n",
              "\t<tr><td>Mystery   </td><td>1129894</td></tr>\n",
              "\t<tr><td>Thriller  </td><td>  27733</td></tr>\n",
              "\t<tr><td>Western   </td><td> 688390</td></tr>\n",
              "</tbody>\n",
              "</table>\n"
            ],
            "text/markdown": "\nA tibble: 34 × 2\n\n| Genre &lt;chr&gt; | max_votes &lt;int&gt; |\n|---|---|\n|  Action    |  666773 |\n|  Adventure | 2067042 |\n|  Biography |  572921 |\n|  Comedy    | 1058081 |\n|  Crime     | 2303232 |\n|  Drama     | 2303232 |\n|  Family    |  999790 |\n|  Fantasy   | 1231473 |\n|  Film-Noir |  201632 |\n|  History   | 1213505 |\n|  Horror    |  898237 |\n|  Music     |  729603 |\n|  Musical   |  218957 |\n|  Mystery   | 1445096 |\n|  Romance   | 1809221 |\n|  Sci-Fi    | 2067042 |\n|  Sport     |  732620 |\n|  Thriller  | 1270197 |\n|  War       | 1267869 |\n|  Western   | 1357682 |\n| Action     | 2303232 |\n| Adventure  | 1512360 |\n| Animation  |  999790 |\n| Biography  | 1213505 |\n| Comedy     |  939631 |\n| Crime      | 1826188 |\n| Drama      | 2343110 |\n| Family     |  372490 |\n| Fantasy    |   88794 |\n| Film-Noir  |  158731 |\n| Horror     |  787806 |\n| Mystery    | 1129894 |\n| Thriller   |   27733 |\n| Western    |  688390 |\n\n",
            "text/latex": "A tibble: 34 × 2\n\\begin{tabular}{ll}\n Genre & max\\_votes\\\\\n <chr> & <int>\\\\\n\\hline\n\t  Action    &  666773\\\\\n\t  Adventure & 2067042\\\\\n\t  Biography &  572921\\\\\n\t  Comedy    & 1058081\\\\\n\t  Crime     & 2303232\\\\\n\t  Drama     & 2303232\\\\\n\t  Family    &  999790\\\\\n\t  Fantasy   & 1231473\\\\\n\t  Film-Noir &  201632\\\\\n\t  History   & 1213505\\\\\n\t  Horror    &  898237\\\\\n\t  Music     &  729603\\\\\n\t  Musical   &  218957\\\\\n\t  Mystery   & 1445096\\\\\n\t  Romance   & 1809221\\\\\n\t  Sci-Fi    & 2067042\\\\\n\t  Sport     &  732620\\\\\n\t  Thriller  & 1270197\\\\\n\t  War       & 1267869\\\\\n\t  Western   & 1357682\\\\\n\t Action     & 2303232\\\\\n\t Adventure  & 1512360\\\\\n\t Animation  &  999790\\\\\n\t Biography  & 1213505\\\\\n\t Comedy     &  939631\\\\\n\t Crime      & 1826188\\\\\n\t Drama      & 2343110\\\\\n\t Family     &  372490\\\\\n\t Fantasy    &   88794\\\\\n\t Film-Noir  &  158731\\\\\n\t Horror     &  787806\\\\\n\t Mystery    & 1129894\\\\\n\t Thriller   &   27733\\\\\n\t Western    &  688390\\\\\n\\end{tabular}\n",
            "text/plain": [
              "   Genre      max_votes\n",
              "1   Action     666773  \n",
              "2   Adventure 2067042  \n",
              "3   Biography  572921  \n",
              "4   Comedy    1058081  \n",
              "5   Crime     2303232  \n",
              "6   Drama     2303232  \n",
              "7   Family     999790  \n",
              "8   Fantasy   1231473  \n",
              "9   Film-Noir  201632  \n",
              "10  History   1213505  \n",
              "11  Horror     898237  \n",
              "12  Music      729603  \n",
              "13  Musical    218957  \n",
              "14  Mystery   1445096  \n",
              "15  Romance   1809221  \n",
              "16  Sci-Fi    2067042  \n",
              "17  Sport      732620  \n",
              "18  Thriller  1270197  \n",
              "19  War       1267869  \n",
              "20  Western   1357682  \n",
              "21 Action     2303232  \n",
              "22 Adventure  1512360  \n",
              "23 Animation   999790  \n",
              "24 Biography  1213505  \n",
              "25 Comedy      939631  \n",
              "26 Crime      1826188  \n",
              "27 Drama      2343110  \n",
              "28 Family      372490  \n",
              "29 Fantasy      88794  \n",
              "30 Film-Noir   158731  \n",
              "31 Horror      787806  \n",
              "32 Mystery    1129894  \n",
              "33 Thriller     27733  \n",
              "34 Western     688390  "
            ]
          },
          "metadata": {}
        }
      ]
    },
    {
      "cell_type": "code",
      "source": [
        "c1 <- df %>%  separate_rows(Genre ,sep = \",\")\n",
        "min_votes_genre <- c1 %>%  group_by(Genre) %>% summarise(min_votes= min(No_of_Votes))\n",
        "min_votes_genre\n"
      ],
      "metadata": {
        "id": "XcgI9wIKwhys",
        "colab": {
          "base_uri": "https://localhost:8080/",
          "height": 1000
        },
        "outputId": "839b3ae7-05b8-4ab1-94d2-a36fa4f85312"
      },
      "execution_count": null,
      "outputs": [
        {
          "output_type": "display_data",
          "data": {
            "text/html": [
              "<table class=\"dataframe\">\n",
              "<caption>A tibble: 34 × 2</caption>\n",
              "<thead>\n",
              "\t<tr><th scope=col>Genre</th><th scope=col>min_votes</th></tr>\n",
              "\t<tr><th scope=col>&lt;chr&gt;</th><th scope=col>&lt;int&gt;</th></tr>\n",
              "</thead>\n",
              "<tbody>\n",
              "\t<tr><td> Action   </td><td> 29210</td></tr>\n",
              "\t<tr><td> Adventure</td><td> 27014</td></tr>\n",
              "\t<tr><td> Biography</td><td> 33237</td></tr>\n",
              "\t<tr><td> Comedy   </td><td> 27721</td></tr>\n",
              "\t<tr><td> Crime    </td><td> 25312</td></tr>\n",
              "\t<tr><td> Drama    </td><td> 25312</td></tr>\n",
              "\t<tr><td> Family   </td><td> 27014</td></tr>\n",
              "\t<tr><td> Fantasy  </td><td> 27793</td></tr>\n",
              "\t<tr><td> Film-Noir</td><td> 26784</td></tr>\n",
              "\t<tr><td> History  </td><td> 27254</td></tr>\n",
              "\t<tr><td> Horror   </td><td> 27620</td></tr>\n",
              "\t<tr><td> Music    </td><td> 25088</td></tr>\n",
              "\t<tr><td> Musical  </td><td> 28223</td></tr>\n",
              "\t<tr><td> Mystery  </td><td> 26542</td></tr>\n",
              "\t<tr><td> Romance  </td><td> 25088</td></tr>\n",
              "\t<tr><td> Sci-Fi   </td><td> 25229</td></tr>\n",
              "\t<tr><td> Sport    </td><td> 32628</td></tr>\n",
              "\t<tr><td> Thriller </td><td> 25344</td></tr>\n",
              "\t<tr><td> War      </td><td> 26471</td></tr>\n",
              "\t<tr><td> Western  </td><td> 30144</td></tr>\n",
              "\t<tr><td>Action    </td><td> 25312</td></tr>\n",
              "\t<tr><td>Adventure </td><td> 29999</td></tr>\n",
              "\t<tr><td>Animation </td><td> 25229</td></tr>\n",
              "\t<tr><td>Biography </td><td> 27254</td></tr>\n",
              "\t<tr><td>Comedy    </td><td> 26337</td></tr>\n",
              "\t<tr><td>Crime     </td><td> 27712</td></tr>\n",
              "\t<tr><td>Drama     </td><td> 25088</td></tr>\n",
              "\t<tr><td>Family    </td><td>178731</td></tr>\n",
              "\t<tr><td>Fantasy   </td><td> 57428</td></tr>\n",
              "\t<tr><td>Film-Noir </td><td> 59556</td></tr>\n",
              "\t<tr><td>Horror    </td><td> 27007</td></tr>\n",
              "\t<tr><td>Mystery   </td><td> 33982</td></tr>\n",
              "\t<tr><td>Thriller  </td><td> 27733</td></tr>\n",
              "\t<tr><td>Western   </td><td> 65659</td></tr>\n",
              "</tbody>\n",
              "</table>\n"
            ],
            "text/markdown": "\nA tibble: 34 × 2\n\n| Genre &lt;chr&gt; | min_votes &lt;int&gt; |\n|---|---|\n|  Action    |  29210 |\n|  Adventure |  27014 |\n|  Biography |  33237 |\n|  Comedy    |  27721 |\n|  Crime     |  25312 |\n|  Drama     |  25312 |\n|  Family    |  27014 |\n|  Fantasy   |  27793 |\n|  Film-Noir |  26784 |\n|  History   |  27254 |\n|  Horror    |  27620 |\n|  Music     |  25088 |\n|  Musical   |  28223 |\n|  Mystery   |  26542 |\n|  Romance   |  25088 |\n|  Sci-Fi    |  25229 |\n|  Sport     |  32628 |\n|  Thriller  |  25344 |\n|  War       |  26471 |\n|  Western   |  30144 |\n| Action     |  25312 |\n| Adventure  |  29999 |\n| Animation  |  25229 |\n| Biography  |  27254 |\n| Comedy     |  26337 |\n| Crime      |  27712 |\n| Drama      |  25088 |\n| Family     | 178731 |\n| Fantasy    |  57428 |\n| Film-Noir  |  59556 |\n| Horror     |  27007 |\n| Mystery    |  33982 |\n| Thriller   |  27733 |\n| Western    |  65659 |\n\n",
            "text/latex": "A tibble: 34 × 2\n\\begin{tabular}{ll}\n Genre & min\\_votes\\\\\n <chr> & <int>\\\\\n\\hline\n\t  Action    &  29210\\\\\n\t  Adventure &  27014\\\\\n\t  Biography &  33237\\\\\n\t  Comedy    &  27721\\\\\n\t  Crime     &  25312\\\\\n\t  Drama     &  25312\\\\\n\t  Family    &  27014\\\\\n\t  Fantasy   &  27793\\\\\n\t  Film-Noir &  26784\\\\\n\t  History   &  27254\\\\\n\t  Horror    &  27620\\\\\n\t  Music     &  25088\\\\\n\t  Musical   &  28223\\\\\n\t  Mystery   &  26542\\\\\n\t  Romance   &  25088\\\\\n\t  Sci-Fi    &  25229\\\\\n\t  Sport     &  32628\\\\\n\t  Thriller  &  25344\\\\\n\t  War       &  26471\\\\\n\t  Western   &  30144\\\\\n\t Action     &  25312\\\\\n\t Adventure  &  29999\\\\\n\t Animation  &  25229\\\\\n\t Biography  &  27254\\\\\n\t Comedy     &  26337\\\\\n\t Crime      &  27712\\\\\n\t Drama      &  25088\\\\\n\t Family     & 178731\\\\\n\t Fantasy    &  57428\\\\\n\t Film-Noir  &  59556\\\\\n\t Horror     &  27007\\\\\n\t Mystery    &  33982\\\\\n\t Thriller   &  27733\\\\\n\t Western    &  65659\\\\\n\\end{tabular}\n",
            "text/plain": [
              "   Genre      min_votes\n",
              "1   Action     29210   \n",
              "2   Adventure  27014   \n",
              "3   Biography  33237   \n",
              "4   Comedy     27721   \n",
              "5   Crime      25312   \n",
              "6   Drama      25312   \n",
              "7   Family     27014   \n",
              "8   Fantasy    27793   \n",
              "9   Film-Noir  26784   \n",
              "10  History    27254   \n",
              "11  Horror     27620   \n",
              "12  Music      25088   \n",
              "13  Musical    28223   \n",
              "14  Mystery    26542   \n",
              "15  Romance    25088   \n",
              "16  Sci-Fi     25229   \n",
              "17  Sport      32628   \n",
              "18  Thriller   25344   \n",
              "19  War        26471   \n",
              "20  Western    30144   \n",
              "21 Action      25312   \n",
              "22 Adventure   29999   \n",
              "23 Animation   25229   \n",
              "24 Biography   27254   \n",
              "25 Comedy      26337   \n",
              "26 Crime       27712   \n",
              "27 Drama       25088   \n",
              "28 Family     178731   \n",
              "29 Fantasy     57428   \n",
              "30 Film-Noir   59556   \n",
              "31 Horror      27007   \n",
              "32 Mystery     33982   \n",
              "33 Thriller    27733   \n",
              "34 Western     65659   "
            ]
          },
          "metadata": {}
        }
      ]
    },
    {
      "cell_type": "markdown",
      "source": [
        "**Count of movies released after year 2000**"
      ],
      "metadata": {
        "id": "kDGW-Nj4xGJE"
      }
    },
    {
      "cell_type": "code",
      "source": [
        "movies1 <- df %>% group_by(Released_Year) %>% count() %>%  filter(Released_Year >= 2000)\n",
        "movies1"
      ],
      "metadata": {
        "id": "B1dIc3H9wh2N",
        "colab": {
          "base_uri": "https://localhost:8080/",
          "height": 788
        },
        "outputId": "cbd3e61d-441c-44f9-b268-996a75b88922"
      },
      "execution_count": null,
      "outputs": [
        {
          "output_type": "display_data",
          "data": {
            "text/html": [
              "<table class=\"dataframe\">\n",
              "<caption>A grouped_df: 22 × 2</caption>\n",
              "<thead>\n",
              "\t<tr><th scope=col>Released_Year</th><th scope=col>n</th></tr>\n",
              "\t<tr><th scope=col>&lt;chr&gt;</th><th scope=col>&lt;int&gt;</th></tr>\n",
              "</thead>\n",
              "<tbody>\n",
              "\t<tr><td>2000</td><td>19</td></tr>\n",
              "\t<tr><td>2001</td><td>27</td></tr>\n",
              "\t<tr><td>2002</td><td>19</td></tr>\n",
              "\t<tr><td>2003</td><td>22</td></tr>\n",
              "\t<tr><td>2004</td><td>31</td></tr>\n",
              "\t<tr><td>2005</td><td>17</td></tr>\n",
              "\t<tr><td>2006</td><td>26</td></tr>\n",
              "\t<tr><td>2007</td><td>26</td></tr>\n",
              "\t<tr><td>2008</td><td>21</td></tr>\n",
              "\t<tr><td>2009</td><td>29</td></tr>\n",
              "\t<tr><td>2010</td><td>23</td></tr>\n",
              "\t<tr><td>2011</td><td>18</td></tr>\n",
              "\t<tr><td>2012</td><td>24</td></tr>\n",
              "\t<tr><td>2013</td><td>28</td></tr>\n",
              "\t<tr><td>2014</td><td>32</td></tr>\n",
              "\t<tr><td>2015</td><td>25</td></tr>\n",
              "\t<tr><td>2016</td><td>28</td></tr>\n",
              "\t<tr><td>2017</td><td>22</td></tr>\n",
              "\t<tr><td>2018</td><td>19</td></tr>\n",
              "\t<tr><td>2019</td><td>23</td></tr>\n",
              "\t<tr><td>2020</td><td> 6</td></tr>\n",
              "\t<tr><td>PG  </td><td> 1</td></tr>\n",
              "</tbody>\n",
              "</table>\n"
            ],
            "text/markdown": "\nA grouped_df: 22 × 2\n\n| Released_Year &lt;chr&gt; | n &lt;int&gt; |\n|---|---|\n| 2000 | 19 |\n| 2001 | 27 |\n| 2002 | 19 |\n| 2003 | 22 |\n| 2004 | 31 |\n| 2005 | 17 |\n| 2006 | 26 |\n| 2007 | 26 |\n| 2008 | 21 |\n| 2009 | 29 |\n| 2010 | 23 |\n| 2011 | 18 |\n| 2012 | 24 |\n| 2013 | 28 |\n| 2014 | 32 |\n| 2015 | 25 |\n| 2016 | 28 |\n| 2017 | 22 |\n| 2018 | 19 |\n| 2019 | 23 |\n| 2020 |  6 |\n| PG   |  1 |\n\n",
            "text/latex": "A grouped\\_df: 22 × 2\n\\begin{tabular}{ll}\n Released\\_Year & n\\\\\n <chr> & <int>\\\\\n\\hline\n\t 2000 & 19\\\\\n\t 2001 & 27\\\\\n\t 2002 & 19\\\\\n\t 2003 & 22\\\\\n\t 2004 & 31\\\\\n\t 2005 & 17\\\\\n\t 2006 & 26\\\\\n\t 2007 & 26\\\\\n\t 2008 & 21\\\\\n\t 2009 & 29\\\\\n\t 2010 & 23\\\\\n\t 2011 & 18\\\\\n\t 2012 & 24\\\\\n\t 2013 & 28\\\\\n\t 2014 & 32\\\\\n\t 2015 & 25\\\\\n\t 2016 & 28\\\\\n\t 2017 & 22\\\\\n\t 2018 & 19\\\\\n\t 2019 & 23\\\\\n\t 2020 &  6\\\\\n\t PG   &  1\\\\\n\\end{tabular}\n",
            "text/plain": [
              "   Released_Year n \n",
              "1  2000          19\n",
              "2  2001          27\n",
              "3  2002          19\n",
              "4  2003          22\n",
              "5  2004          31\n",
              "6  2005          17\n",
              "7  2006          26\n",
              "8  2007          26\n",
              "9  2008          21\n",
              "10 2009          29\n",
              "11 2010          23\n",
              "12 2011          18\n",
              "13 2012          24\n",
              "14 2013          28\n",
              "15 2014          32\n",
              "16 2015          25\n",
              "17 2016          28\n",
              "18 2017          22\n",
              "19 2018          19\n",
              "20 2019          23\n",
              "21 2020           6\n",
              "22 PG             1"
            ]
          },
          "metadata": {}
        }
      ]
    },
    {
      "cell_type": "markdown",
      "source": [
        "**Count of movies released before year 1950**"
      ],
      "metadata": {
        "id": "YhM4To-mYGv5"
      }
    },
    {
      "cell_type": "code",
      "source": [
        "movies2 <- df %>% group_by(Released_Year) %>% count() %>%  filter(Released_Year <= 1950)\n",
        "movies2"
      ],
      "metadata": {
        "id": "XMuTHXPxwh36",
        "colab": {
          "base_uri": "https://localhost:8080/",
          "height": 1000
        },
        "outputId": "357e5897-8a51-4d10-b2b6-abb02296e1f3"
      },
      "execution_count": null,
      "outputs": [
        {
          "output_type": "display_data",
          "data": {
            "text/html": [
              "<table class=\"dataframe\">\n",
              "<caption>A grouped_df: 29 × 2</caption>\n",
              "<thead>\n",
              "\t<tr><th scope=col>Released_Year</th><th scope=col>n</th></tr>\n",
              "\t<tr><th scope=col>&lt;chr&gt;</th><th scope=col>&lt;int&gt;</th></tr>\n",
              "</thead>\n",
              "<tbody>\n",
              "\t<tr><td>1920</td><td>1</td></tr>\n",
              "\t<tr><td>1921</td><td>1</td></tr>\n",
              "\t<tr><td>1922</td><td>1</td></tr>\n",
              "\t<tr><td>1924</td><td>1</td></tr>\n",
              "\t<tr><td>1925</td><td>2</td></tr>\n",
              "\t<tr><td>1926</td><td>1</td></tr>\n",
              "\t<tr><td>1927</td><td>2</td></tr>\n",
              "\t<tr><td>1928</td><td>2</td></tr>\n",
              "\t<tr><td>1930</td><td>1</td></tr>\n",
              "\t<tr><td>1931</td><td>3</td></tr>\n",
              "\t<tr><td>1932</td><td>2</td></tr>\n",
              "\t<tr><td>1933</td><td>3</td></tr>\n",
              "\t<tr><td>1934</td><td>2</td></tr>\n",
              "\t<tr><td>1935</td><td>3</td></tr>\n",
              "\t<tr><td>1936</td><td>1</td></tr>\n",
              "\t<tr><td>1937</td><td>1</td></tr>\n",
              "\t<tr><td>1938</td><td>3</td></tr>\n",
              "\t<tr><td>1939</td><td>5</td></tr>\n",
              "\t<tr><td>1940</td><td>7</td></tr>\n",
              "\t<tr><td>1941</td><td>2</td></tr>\n",
              "\t<tr><td>1942</td><td>3</td></tr>\n",
              "\t<tr><td>1943</td><td>1</td></tr>\n",
              "\t<tr><td>1944</td><td>4</td></tr>\n",
              "\t<tr><td>1945</td><td>2</td></tr>\n",
              "\t<tr><td>1946</td><td>5</td></tr>\n",
              "\t<tr><td>1947</td><td>2</td></tr>\n",
              "\t<tr><td>1948</td><td>6</td></tr>\n",
              "\t<tr><td>1949</td><td>3</td></tr>\n",
              "\t<tr><td>1950</td><td>5</td></tr>\n",
              "</tbody>\n",
              "</table>\n"
            ],
            "text/markdown": "\nA grouped_df: 29 × 2\n\n| Released_Year &lt;chr&gt; | n &lt;int&gt; |\n|---|---|\n| 1920 | 1 |\n| 1921 | 1 |\n| 1922 | 1 |\n| 1924 | 1 |\n| 1925 | 2 |\n| 1926 | 1 |\n| 1927 | 2 |\n| 1928 | 2 |\n| 1930 | 1 |\n| 1931 | 3 |\n| 1932 | 2 |\n| 1933 | 3 |\n| 1934 | 2 |\n| 1935 | 3 |\n| 1936 | 1 |\n| 1937 | 1 |\n| 1938 | 3 |\n| 1939 | 5 |\n| 1940 | 7 |\n| 1941 | 2 |\n| 1942 | 3 |\n| 1943 | 1 |\n| 1944 | 4 |\n| 1945 | 2 |\n| 1946 | 5 |\n| 1947 | 2 |\n| 1948 | 6 |\n| 1949 | 3 |\n| 1950 | 5 |\n\n",
            "text/latex": "A grouped\\_df: 29 × 2\n\\begin{tabular}{ll}\n Released\\_Year & n\\\\\n <chr> & <int>\\\\\n\\hline\n\t 1920 & 1\\\\\n\t 1921 & 1\\\\\n\t 1922 & 1\\\\\n\t 1924 & 1\\\\\n\t 1925 & 2\\\\\n\t 1926 & 1\\\\\n\t 1927 & 2\\\\\n\t 1928 & 2\\\\\n\t 1930 & 1\\\\\n\t 1931 & 3\\\\\n\t 1932 & 2\\\\\n\t 1933 & 3\\\\\n\t 1934 & 2\\\\\n\t 1935 & 3\\\\\n\t 1936 & 1\\\\\n\t 1937 & 1\\\\\n\t 1938 & 3\\\\\n\t 1939 & 5\\\\\n\t 1940 & 7\\\\\n\t 1941 & 2\\\\\n\t 1942 & 3\\\\\n\t 1943 & 1\\\\\n\t 1944 & 4\\\\\n\t 1945 & 2\\\\\n\t 1946 & 5\\\\\n\t 1947 & 2\\\\\n\t 1948 & 6\\\\\n\t 1949 & 3\\\\\n\t 1950 & 5\\\\\n\\end{tabular}\n",
            "text/plain": [
              "   Released_Year n\n",
              "1  1920          1\n",
              "2  1921          1\n",
              "3  1922          1\n",
              "4  1924          1\n",
              "5  1925          2\n",
              "6  1926          1\n",
              "7  1927          2\n",
              "8  1928          2\n",
              "9  1930          1\n",
              "10 1931          3\n",
              "11 1932          2\n",
              "12 1933          3\n",
              "13 1934          2\n",
              "14 1935          3\n",
              "15 1936          1\n",
              "16 1937          1\n",
              "17 1938          3\n",
              "18 1939          5\n",
              "19 1940          7\n",
              "20 1941          2\n",
              "21 1942          3\n",
              "22 1943          1\n",
              "23 1944          4\n",
              "24 1945          2\n",
              "25 1946          5\n",
              "26 1947          2\n",
              "27 1948          6\n",
              "28 1949          3\n",
              "29 1950          5"
            ]
          },
          "metadata": {}
        }
      ]
    },
    {
      "cell_type": "markdown",
      "source": [
        "**Count of movies released between year 1950 and 2000**"
      ],
      "metadata": {
        "id": "aGcpL52-YLc5"
      }
    },
    {
      "cell_type": "code",
      "source": [
        "movies3 <- df %>% group_by(Released_Year) %>% count() %>%  filter(Released_Year >= 1950 & Released_Year < 2000)\n",
        "movies3"
      ],
      "metadata": {
        "id": "az_b3J9uwh7j",
        "colab": {
          "base_uri": "https://localhost:8080/",
          "height": 1000
        },
        "outputId": "da1c04c7-5f04-4af3-afd1-7a6b7794202b"
      },
      "execution_count": null,
      "outputs": [
        {
          "output_type": "display_data",
          "data": {
            "text/html": [
              "<table class=\"dataframe\">\n",
              "<caption>A grouped_df: 50 × 2</caption>\n",
              "<thead>\n",
              "\t<tr><th scope=col>Released_Year</th><th scope=col>n</th></tr>\n",
              "\t<tr><th scope=col>&lt;chr&gt;</th><th scope=col>&lt;int&gt;</th></tr>\n",
              "</thead>\n",
              "<tbody>\n",
              "\t<tr><td>1950</td><td> 5</td></tr>\n",
              "\t<tr><td>1951</td><td> 5</td></tr>\n",
              "\t<tr><td>1952</td><td> 4</td></tr>\n",
              "\t<tr><td>1953</td><td> 5</td></tr>\n",
              "\t<tr><td>1954</td><td> 6</td></tr>\n",
              "\t<tr><td>1955</td><td> 6</td></tr>\n",
              "\t<tr><td>1956</td><td> 5</td></tr>\n",
              "\t<tr><td>1957</td><td> 9</td></tr>\n",
              "\t<tr><td>1958</td><td> 4</td></tr>\n",
              "\t<tr><td>1959</td><td> 7</td></tr>\n",
              "\t<tr><td>1960</td><td>11</td></tr>\n",
              "\t<tr><td>1961</td><td> 5</td></tr>\n",
              "\t<tr><td>1962</td><td>13</td></tr>\n",
              "\t<tr><td>1963</td><td> 5</td></tr>\n",
              "\t<tr><td>1964</td><td> 7</td></tr>\n",
              "\t<tr><td>1965</td><td> 4</td></tr>\n",
              "\t<tr><td>1966</td><td> 7</td></tr>\n",
              "\t<tr><td>1967</td><td>10</td></tr>\n",
              "\t<tr><td>1968</td><td> 8</td></tr>\n",
              "\t<tr><td>1969</td><td> 3</td></tr>\n",
              "\t<tr><td>1970</td><td> 3</td></tr>\n",
              "\t<tr><td>1971</td><td> 9</td></tr>\n",
              "\t<tr><td>1972</td><td> 8</td></tr>\n",
              "\t<tr><td>1973</td><td>12</td></tr>\n",
              "\t<tr><td>1974</td><td> 6</td></tr>\n",
              "\t<tr><td>1975</td><td> 9</td></tr>\n",
              "\t<tr><td>1976</td><td> 7</td></tr>\n",
              "\t<tr><td>1977</td><td> 3</td></tr>\n",
              "\t<tr><td>1978</td><td> 7</td></tr>\n",
              "\t<tr><td>1979</td><td>12</td></tr>\n",
              "\t<tr><td>1980</td><td> 8</td></tr>\n",
              "\t<tr><td>1981</td><td> 4</td></tr>\n",
              "\t<tr><td>1982</td><td>11</td></tr>\n",
              "\t<tr><td>1983</td><td> 5</td></tr>\n",
              "\t<tr><td>1984</td><td> 9</td></tr>\n",
              "\t<tr><td>1985</td><td> 9</td></tr>\n",
              "\t<tr><td>1986</td><td> 9</td></tr>\n",
              "\t<tr><td>1987</td><td>12</td></tr>\n",
              "\t<tr><td>1988</td><td>11</td></tr>\n",
              "\t<tr><td>1989</td><td>11</td></tr>\n",
              "\t<tr><td>1990</td><td> 8</td></tr>\n",
              "\t<tr><td>1991</td><td>12</td></tr>\n",
              "\t<tr><td>1992</td><td>12</td></tr>\n",
              "\t<tr><td>1993</td><td>23</td></tr>\n",
              "\t<tr><td>1994</td><td>13</td></tr>\n",
              "\t<tr><td>1995</td><td>19</td></tr>\n",
              "\t<tr><td>1996</td><td>10</td></tr>\n",
              "\t<tr><td>1997</td><td>19</td></tr>\n",
              "\t<tr><td>1998</td><td>17</td></tr>\n",
              "\t<tr><td>1999</td><td>17</td></tr>\n",
              "</tbody>\n",
              "</table>\n"
            ],
            "text/markdown": "\nA grouped_df: 50 × 2\n\n| Released_Year &lt;chr&gt; | n &lt;int&gt; |\n|---|---|\n| 1950 |  5 |\n| 1951 |  5 |\n| 1952 |  4 |\n| 1953 |  5 |\n| 1954 |  6 |\n| 1955 |  6 |\n| 1956 |  5 |\n| 1957 |  9 |\n| 1958 |  4 |\n| 1959 |  7 |\n| 1960 | 11 |\n| 1961 |  5 |\n| 1962 | 13 |\n| 1963 |  5 |\n| 1964 |  7 |\n| 1965 |  4 |\n| 1966 |  7 |\n| 1967 | 10 |\n| 1968 |  8 |\n| 1969 |  3 |\n| 1970 |  3 |\n| 1971 |  9 |\n| 1972 |  8 |\n| 1973 | 12 |\n| 1974 |  6 |\n| 1975 |  9 |\n| 1976 |  7 |\n| 1977 |  3 |\n| 1978 |  7 |\n| 1979 | 12 |\n| 1980 |  8 |\n| 1981 |  4 |\n| 1982 | 11 |\n| 1983 |  5 |\n| 1984 |  9 |\n| 1985 |  9 |\n| 1986 |  9 |\n| 1987 | 12 |\n| 1988 | 11 |\n| 1989 | 11 |\n| 1990 |  8 |\n| 1991 | 12 |\n| 1992 | 12 |\n| 1993 | 23 |\n| 1994 | 13 |\n| 1995 | 19 |\n| 1996 | 10 |\n| 1997 | 19 |\n| 1998 | 17 |\n| 1999 | 17 |\n\n",
            "text/latex": "A grouped\\_df: 50 × 2\n\\begin{tabular}{ll}\n Released\\_Year & n\\\\\n <chr> & <int>\\\\\n\\hline\n\t 1950 &  5\\\\\n\t 1951 &  5\\\\\n\t 1952 &  4\\\\\n\t 1953 &  5\\\\\n\t 1954 &  6\\\\\n\t 1955 &  6\\\\\n\t 1956 &  5\\\\\n\t 1957 &  9\\\\\n\t 1958 &  4\\\\\n\t 1959 &  7\\\\\n\t 1960 & 11\\\\\n\t 1961 &  5\\\\\n\t 1962 & 13\\\\\n\t 1963 &  5\\\\\n\t 1964 &  7\\\\\n\t 1965 &  4\\\\\n\t 1966 &  7\\\\\n\t 1967 & 10\\\\\n\t 1968 &  8\\\\\n\t 1969 &  3\\\\\n\t 1970 &  3\\\\\n\t 1971 &  9\\\\\n\t 1972 &  8\\\\\n\t 1973 & 12\\\\\n\t 1974 &  6\\\\\n\t 1975 &  9\\\\\n\t 1976 &  7\\\\\n\t 1977 &  3\\\\\n\t 1978 &  7\\\\\n\t 1979 & 12\\\\\n\t 1980 &  8\\\\\n\t 1981 &  4\\\\\n\t 1982 & 11\\\\\n\t 1983 &  5\\\\\n\t 1984 &  9\\\\\n\t 1985 &  9\\\\\n\t 1986 &  9\\\\\n\t 1987 & 12\\\\\n\t 1988 & 11\\\\\n\t 1989 & 11\\\\\n\t 1990 &  8\\\\\n\t 1991 & 12\\\\\n\t 1992 & 12\\\\\n\t 1993 & 23\\\\\n\t 1994 & 13\\\\\n\t 1995 & 19\\\\\n\t 1996 & 10\\\\\n\t 1997 & 19\\\\\n\t 1998 & 17\\\\\n\t 1999 & 17\\\\\n\\end{tabular}\n",
            "text/plain": [
              "   Released_Year n \n",
              "1  1950           5\n",
              "2  1951           5\n",
              "3  1952           4\n",
              "4  1953           5\n",
              "5  1954           6\n",
              "6  1955           6\n",
              "7  1956           5\n",
              "8  1957           9\n",
              "9  1958           4\n",
              "10 1959           7\n",
              "11 1960          11\n",
              "12 1961           5\n",
              "13 1962          13\n",
              "14 1963           5\n",
              "15 1964           7\n",
              "16 1965           4\n",
              "17 1966           7\n",
              "18 1967          10\n",
              "19 1968           8\n",
              "20 1969           3\n",
              "21 1970           3\n",
              "22 1971           9\n",
              "23 1972           8\n",
              "24 1973          12\n",
              "25 1974           6\n",
              "26 1975           9\n",
              "27 1976           7\n",
              "28 1977           3\n",
              "29 1978           7\n",
              "30 1979          12\n",
              "31 1980           8\n",
              "32 1981           4\n",
              "33 1982          11\n",
              "34 1983           5\n",
              "35 1984           9\n",
              "36 1985           9\n",
              "37 1986           9\n",
              "38 1987          12\n",
              "39 1988          11\n",
              "40 1989          11\n",
              "41 1990           8\n",
              "42 1991          12\n",
              "43 1992          12\n",
              "44 1993          23\n",
              "45 1994          13\n",
              "46 1995          19\n",
              "47 1996          10\n",
              "48 1997          19\n",
              "49 1998          17\n",
              "50 1999          17"
            ]
          },
          "metadata": {}
        }
      ]
    },
    {
      "cell_type": "markdown",
      "source": [
        "**Features Engneering**"
      ],
      "metadata": {
        "id": "KJCjg1GTxz7T"
      }
    },
    {
      "cell_type": "markdown",
      "source": [
        "**Drop a poaster_link column**"
      ],
      "metadata": {
        "id": "y1hBcMQWx1nV"
      }
    },
    {
      "cell_type": "code",
      "source": [
        "names(df)"
      ],
      "metadata": {
        "colab": {
          "base_uri": "https://localhost:8080/",
          "height": 34
        },
        "id": "xvICueN9zWA-",
        "outputId": "2a507ccb-97f3-4484-e59c-40f8f9981df2"
      },
      "execution_count": null,
      "outputs": [
        {
          "output_type": "display_data",
          "data": {
            "text/html": [
              "<style>\n",
              ".list-inline {list-style: none; margin:0; padding: 0}\n",
              ".list-inline>li {display: inline-block}\n",
              ".list-inline>li:not(:last-child)::after {content: \"\\00b7\"; padding: 0 .5ex}\n",
              "</style>\n",
              "<ol class=list-inline><li>'Poster_Link'</li><li>'Series_Title'</li><li>'Released_Year'</li><li>'Certificate'</li><li>'Runtime'</li><li>'Genre'</li><li>'IMDB_Rating'</li><li>'Overview'</li><li>'Meta_score'</li><li>'Director'</li><li>'Star1'</li><li>'Star2'</li><li>'Star3'</li><li>'Star4'</li><li>'No_of_Votes'</li><li>'Gross'</li></ol>\n"
            ],
            "text/markdown": "1. 'Poster_Link'\n2. 'Series_Title'\n3. 'Released_Year'\n4. 'Certificate'\n5. 'Runtime'\n6. 'Genre'\n7. 'IMDB_Rating'\n8. 'Overview'\n9. 'Meta_score'\n10. 'Director'\n11. 'Star1'\n12. 'Star2'\n13. 'Star3'\n14. 'Star4'\n15. 'No_of_Votes'\n16. 'Gross'\n\n\n",
            "text/latex": "\\begin{enumerate*}\n\\item 'Poster\\_Link'\n\\item 'Series\\_Title'\n\\item 'Released\\_Year'\n\\item 'Certificate'\n\\item 'Runtime'\n\\item 'Genre'\n\\item 'IMDB\\_Rating'\n\\item 'Overview'\n\\item 'Meta\\_score'\n\\item 'Director'\n\\item 'Star1'\n\\item 'Star2'\n\\item 'Star3'\n\\item 'Star4'\n\\item 'No\\_of\\_Votes'\n\\item 'Gross'\n\\end{enumerate*}\n",
            "text/plain": [
              " [1] \"Poster_Link\"   \"Series_Title\"  \"Released_Year\" \"Certificate\"  \n",
              " [5] \"Runtime\"       \"Genre\"         \"IMDB_Rating\"   \"Overview\"     \n",
              " [9] \"Meta_score\"    \"Director\"      \"Star1\"         \"Star2\"        \n",
              "[13] \"Star3\"         \"Star4\"         \"No_of_Votes\"   \"Gross\"        "
            ]
          },
          "metadata": {}
        }
      ]
    },
    {
      "cell_type": "code",
      "source": [
        "new_df <- df[c(-1)]"
      ],
      "metadata": {
        "id": "nPU9GYsYwh9Q"
      },
      "execution_count": null,
      "outputs": []
    },
    {
      "cell_type": "code",
      "source": [
        "names(new_df)"
      ],
      "metadata": {
        "colab": {
          "base_uri": "https://localhost:8080/",
          "height": 34
        },
        "id": "KqHH2buCwiA_",
        "outputId": "77593ee4-818b-4d33-a809-6ce659c7c9d8"
      },
      "execution_count": null,
      "outputs": [
        {
          "output_type": "display_data",
          "data": {
            "text/html": [
              "<style>\n",
              ".list-inline {list-style: none; margin:0; padding: 0}\n",
              ".list-inline>li {display: inline-block}\n",
              ".list-inline>li:not(:last-child)::after {content: \"\\00b7\"; padding: 0 .5ex}\n",
              "</style>\n",
              "<ol class=list-inline><li>'Series_Title'</li><li>'Released_Year'</li><li>'Certificate'</li><li>'Runtime'</li><li>'Genre'</li><li>'IMDB_Rating'</li><li>'Overview'</li><li>'Meta_score'</li><li>'Director'</li><li>'Star1'</li><li>'Star2'</li><li>'Star3'</li><li>'Star4'</li><li>'No_of_Votes'</li><li>'Gross'</li></ol>\n"
            ],
            "text/markdown": "1. 'Series_Title'\n2. 'Released_Year'\n3. 'Certificate'\n4. 'Runtime'\n5. 'Genre'\n6. 'IMDB_Rating'\n7. 'Overview'\n8. 'Meta_score'\n9. 'Director'\n10. 'Star1'\n11. 'Star2'\n12. 'Star3'\n13. 'Star4'\n14. 'No_of_Votes'\n15. 'Gross'\n\n\n",
            "text/latex": "\\begin{enumerate*}\n\\item 'Series\\_Title'\n\\item 'Released\\_Year'\n\\item 'Certificate'\n\\item 'Runtime'\n\\item 'Genre'\n\\item 'IMDB\\_Rating'\n\\item 'Overview'\n\\item 'Meta\\_score'\n\\item 'Director'\n\\item 'Star1'\n\\item 'Star2'\n\\item 'Star3'\n\\item 'Star4'\n\\item 'No\\_of\\_Votes'\n\\item 'Gross'\n\\end{enumerate*}\n",
            "text/plain": [
              " [1] \"Series_Title\"  \"Released_Year\" \"Certificate\"   \"Runtime\"      \n",
              " [5] \"Genre\"         \"IMDB_Rating\"   \"Overview\"      \"Meta_score\"   \n",
              " [9] \"Director\"      \"Star1\"         \"Star2\"         \"Star3\"        \n",
              "[13] \"Star4\"         \"No_of_Votes\"   \"Gross\"        "
            ]
          },
          "metadata": {}
        }
      ]
    },
    {
      "cell_type": "markdown",
      "source": [
        "**Drop Overview column**"
      ],
      "metadata": {
        "id": "BHz2S8Kux-FE"
      }
    },
    {
      "cell_type": "code",
      "source": [
        "new_df <- new_df[(-7)]"
      ],
      "metadata": {
        "id": "tC4-C2y8x_ft"
      },
      "execution_count": null,
      "outputs": []
    },
    {
      "cell_type": "code",
      "source": [
        "names(new_df)"
      ],
      "metadata": {
        "colab": {
          "base_uri": "https://localhost:8080/",
          "height": 34
        },
        "id": "QO8xjTrkyAYZ",
        "outputId": "1b6e9398-e6fa-4e51-cd51-beaf6209075f"
      },
      "execution_count": null,
      "outputs": [
        {
          "output_type": "display_data",
          "data": {
            "text/html": [
              "<style>\n",
              ".list-inline {list-style: none; margin:0; padding: 0}\n",
              ".list-inline>li {display: inline-block}\n",
              ".list-inline>li:not(:last-child)::after {content: \"\\00b7\"; padding: 0 .5ex}\n",
              "</style>\n",
              "<ol class=list-inline><li>'Series_Title'</li><li>'Released_Year'</li><li>'Certificate'</li><li>'Runtime'</li><li>'Genre'</li><li>'IMDB_Rating'</li><li>'Meta_score'</li><li>'Director'</li><li>'Star1'</li><li>'Star2'</li><li>'Star3'</li><li>'Star4'</li><li>'No_of_Votes'</li><li>'Gross'</li></ol>\n"
            ],
            "text/markdown": "1. 'Series_Title'\n2. 'Released_Year'\n3. 'Certificate'\n4. 'Runtime'\n5. 'Genre'\n6. 'IMDB_Rating'\n7. 'Meta_score'\n8. 'Director'\n9. 'Star1'\n10. 'Star2'\n11. 'Star3'\n12. 'Star4'\n13. 'No_of_Votes'\n14. 'Gross'\n\n\n",
            "text/latex": "\\begin{enumerate*}\n\\item 'Series\\_Title'\n\\item 'Released\\_Year'\n\\item 'Certificate'\n\\item 'Runtime'\n\\item 'Genre'\n\\item 'IMDB\\_Rating'\n\\item 'Meta\\_score'\n\\item 'Director'\n\\item 'Star1'\n\\item 'Star2'\n\\item 'Star3'\n\\item 'Star4'\n\\item 'No\\_of\\_Votes'\n\\item 'Gross'\n\\end{enumerate*}\n",
            "text/plain": [
              " [1] \"Series_Title\"  \"Released_Year\" \"Certificate\"   \"Runtime\"      \n",
              " [5] \"Genre\"         \"IMDB_Rating\"   \"Meta_score\"    \"Director\"     \n",
              " [9] \"Star1\"         \"Star2\"         \"Star3\"         \"Star4\"        \n",
              "[13] \"No_of_Votes\"   \"Gross\"        "
            ]
          },
          "metadata": {}
        }
      ]
    },
    {
      "cell_type": "markdown",
      "source": [
        "**Splitng `Runtime` column  into two new features `runtime_numeric` and `runtime_unit`**"
      ],
      "metadata": {
        "id": "sW8IHvXlyGHU"
      }
    },
    {
      "cell_type": "code",
      "source": [
        "library(\"stringr\")\n",
        "library(\"dplyr\")\n",
        "\n",
        "new_df <- new_df %>% mutate(\n",
        "runtime_numeric  = as.integer(str_extract(df$Runtime , \"\\\\d+\")),\n",
        "runtime_unit =  str_extract(df$Runtime , \"[A-Za-z]\")\n",
        ")"
      ],
      "metadata": {
        "id": "S2a2S3fXyAaW"
      },
      "execution_count": null,
      "outputs": []
    },
    {
      "cell_type": "code",
      "source": [
        "names(new_df)"
      ],
      "metadata": {
        "colab": {
          "base_uri": "https://localhost:8080/",
          "height": 34
        },
        "id": "aOMNemyyyAd3",
        "outputId": "8018a2ce-c835-461d-ab39-a318e69358a5"
      },
      "execution_count": null,
      "outputs": [
        {
          "output_type": "display_data",
          "data": {
            "text/html": [
              "<style>\n",
              ".list-inline {list-style: none; margin:0; padding: 0}\n",
              ".list-inline>li {display: inline-block}\n",
              ".list-inline>li:not(:last-child)::after {content: \"\\00b7\"; padding: 0 .5ex}\n",
              "</style>\n",
              "<ol class=list-inline><li>'Series_Title'</li><li>'Released_Year'</li><li>'Certificate'</li><li>'Runtime'</li><li>'Genre'</li><li>'IMDB_Rating'</li><li>'Meta_score'</li><li>'Director'</li><li>'Star1'</li><li>'Star2'</li><li>'Star3'</li><li>'Star4'</li><li>'No_of_Votes'</li><li>'Gross'</li><li>'runtime_numeric'</li><li>'runtime_unit'</li></ol>\n"
            ],
            "text/markdown": "1. 'Series_Title'\n2. 'Released_Year'\n3. 'Certificate'\n4. 'Runtime'\n5. 'Genre'\n6. 'IMDB_Rating'\n7. 'Meta_score'\n8. 'Director'\n9. 'Star1'\n10. 'Star2'\n11. 'Star3'\n12. 'Star4'\n13. 'No_of_Votes'\n14. 'Gross'\n15. 'runtime_numeric'\n16. 'runtime_unit'\n\n\n",
            "text/latex": "\\begin{enumerate*}\n\\item 'Series\\_Title'\n\\item 'Released\\_Year'\n\\item 'Certificate'\n\\item 'Runtime'\n\\item 'Genre'\n\\item 'IMDB\\_Rating'\n\\item 'Meta\\_score'\n\\item 'Director'\n\\item 'Star1'\n\\item 'Star2'\n\\item 'Star3'\n\\item 'Star4'\n\\item 'No\\_of\\_Votes'\n\\item 'Gross'\n\\item 'runtime\\_numeric'\n\\item 'runtime\\_unit'\n\\end{enumerate*}\n",
            "text/plain": [
              " [1] \"Series_Title\"    \"Released_Year\"   \"Certificate\"     \"Runtime\"        \n",
              " [5] \"Genre\"           \"IMDB_Rating\"     \"Meta_score\"      \"Director\"       \n",
              " [9] \"Star1\"           \"Star2\"           \"Star3\"           \"Star4\"          \n",
              "[13] \"No_of_Votes\"     \"Gross\"           \"runtime_numeric\" \"runtime_unit\"   "
            ]
          },
          "metadata": {}
        }
      ]
    },
    {
      "cell_type": "code",
      "source": [
        "str(new_df)"
      ],
      "metadata": {
        "colab": {
          "base_uri": "https://localhost:8080/"
        },
        "id": "YChpEhBdyAfl",
        "outputId": "b1c9d4bc-cb46-435b-f304-e82039276625"
      },
      "execution_count": null,
      "outputs": [
        {
          "output_type": "stream",
          "name": "stdout",
          "text": [
            "'data.frame':\t1000 obs. of  16 variables:\n",
            " $ Series_Title   : chr  \"The Shawshank Redemption\" \"The Godfather\" \"The Dark Knight\" \"The Godfather: Part II\" ...\n",
            " $ Released_Year  : chr  \"1994\" \"1972\" \"2008\" \"1974\" ...\n",
            " $ Certificate    : chr  \"A\" \"A\" \"UA\" \"A\" ...\n",
            " $ Runtime        : chr  \"142 min\" \"175 min\" \"152 min\" \"202 min\" ...\n",
            " $ Genre          : chr  \"Drama\" \"Crime, Drama\" \"Action, Crime, Drama\" \"Crime, Drama\" ...\n",
            " $ IMDB_Rating    : num  9.3 9.2 9 9 9 8.9 8.9 8.9 8.8 8.8 ...\n",
            " $ Meta_score     : int  80 100 84 90 96 94 94 94 74 66 ...\n",
            " $ Director       : chr  \"Frank Darabont\" \"Francis Ford Coppola\" \"Christopher Nolan\" \"Francis Ford Coppola\" ...\n",
            " $ Star1          : chr  \"Tim Robbins\" \"Marlon Brando\" \"Christian Bale\" \"Al Pacino\" ...\n",
            " $ Star2          : chr  \"Morgan Freeman\" \"Al Pacino\" \"Heath Ledger\" \"Robert De Niro\" ...\n",
            " $ Star3          : chr  \"Bob Gunton\" \"James Caan\" \"Aaron Eckhart\" \"Robert Duvall\" ...\n",
            " $ Star4          : chr  \"William Sadler\" \"Diane Keaton\" \"Michael Caine\" \"Diane Keaton\" ...\n",
            " $ No_of_Votes    : int  2343110 1620367 2303232 1129952 689845 1642758 1826188 1213505 2067042 1854740 ...\n",
            " $ Gross          : chr  \"28,341,469\" \"134,966,411\" \"534,858,444\" \"57,300,000\" ...\n",
            " $ runtime_numeric: int  142 175 152 202 96 201 154 195 148 139 ...\n",
            " $ runtime_unit   : chr  \"m\" \"m\" \"m\" \"m\" ...\n"
          ]
        }
      ]
    },
    {
      "cell_type": "markdown",
      "source": [
        "**Replacing NAN value with mean value of Meta_score**"
      ],
      "metadata": {
        "id": "XLL6MPjQOhBi"
      }
    },
    {
      "cell_type": "code",
      "source": [
        "new_df <- new_df %>% mutate(Meta_score = ifelse(is.na(Meta_score) | is.nan(Meta_score),\n",
        "               mean(Meta_score , na.rm = TRUE),\n",
        "               Meta_score))\n",
        "sample_n(new_df , 3)"
      ],
      "metadata": {
        "colab": {
          "base_uri": "https://localhost:8080/",
          "height": 316
        },
        "id": "JwSZ3BOFOgIE",
        "outputId": "76017bfe-2543-4861-82c1-3d8c24e26979"
      },
      "execution_count": null,
      "outputs": [
        {
          "output_type": "display_data",
          "data": {
            "text/html": [
              "<table class=\"dataframe\">\n",
              "<caption>A data.frame: 3 × 16</caption>\n",
              "<thead>\n",
              "\t<tr><th scope=col>Series_Title</th><th scope=col>Released_Year</th><th scope=col>Certificate</th><th scope=col>Runtime</th><th scope=col>Genre</th><th scope=col>IMDB_Rating</th><th scope=col>Meta_score</th><th scope=col>Director</th><th scope=col>Star1</th><th scope=col>Star2</th><th scope=col>Star3</th><th scope=col>Star4</th><th scope=col>No_of_Votes</th><th scope=col>Gross</th><th scope=col>runtime_numeric</th><th scope=col>runtime_unit</th></tr>\n",
              "\t<tr><th scope=col>&lt;chr&gt;</th><th scope=col>&lt;chr&gt;</th><th scope=col>&lt;chr&gt;</th><th scope=col>&lt;chr&gt;</th><th scope=col>&lt;chr&gt;</th><th scope=col>&lt;dbl&gt;</th><th scope=col>&lt;dbl&gt;</th><th scope=col>&lt;chr&gt;</th><th scope=col>&lt;chr&gt;</th><th scope=col>&lt;chr&gt;</th><th scope=col>&lt;chr&gt;</th><th scope=col>&lt;chr&gt;</th><th scope=col>&lt;int&gt;</th><th scope=col>&lt;chr&gt;</th><th scope=col>&lt;int&gt;</th><th scope=col>&lt;chr&gt;</th></tr>\n",
              "</thead>\n",
              "<tbody>\n",
              "\t<tr><td>Blood Simple      </td><td>1984</td><td>A     </td><td>99 min </td><td>Crime, Drama, Thriller   </td><td>7.6</td><td>82.00000</td><td>Joel Coen           </td><td>Ethan Coen          </td><td>John Getz      </td><td>Frances McDormand</td><td>Dan Hedaya   </td><td>87745</td><td>2,150,000</td><td> 99</td><td>m</td></tr>\n",
              "\t<tr><td>Laura             </td><td>1944</td><td>Passed</td><td>88 min </td><td>Drama, Film-Noir, Mystery</td><td>8.0</td><td>77.97153</td><td>Otto Preminger      </td><td>Gene Tierney        </td><td>Dana Andrews   </td><td>Clifton Webb     </td><td>Vincent Price</td><td>42725</td><td>4,360,000</td><td> 88</td><td>m</td></tr>\n",
              "\t<tr><td>La montaña sagrada</td><td>1973</td><td>R     </td><td>114 min</td><td>Adventure, Drama, Fantasy</td><td>7.9</td><td>76.00000</td><td>Alejandro Jodorowsky</td><td>Alejandro Jodorowsky</td><td>Horacio Salinas</td><td>Zamira Saunders  </td><td>Juan Ferrara </td><td>37183</td><td>61,001   </td><td>114</td><td>m</td></tr>\n",
              "</tbody>\n",
              "</table>\n"
            ],
            "text/markdown": "\nA data.frame: 3 × 16\n\n| Series_Title &lt;chr&gt; | Released_Year &lt;chr&gt; | Certificate &lt;chr&gt; | Runtime &lt;chr&gt; | Genre &lt;chr&gt; | IMDB_Rating &lt;dbl&gt; | Meta_score &lt;dbl&gt; | Director &lt;chr&gt; | Star1 &lt;chr&gt; | Star2 &lt;chr&gt; | Star3 &lt;chr&gt; | Star4 &lt;chr&gt; | No_of_Votes &lt;int&gt; | Gross &lt;chr&gt; | runtime_numeric &lt;int&gt; | runtime_unit &lt;chr&gt; |\n|---|---|---|---|---|---|---|---|---|---|---|---|---|---|---|---|\n| Blood Simple       | 1984 | A      | 99 min  | Crime, Drama, Thriller    | 7.6 | 82.00000 | Joel Coen            | Ethan Coen           | John Getz       | Frances McDormand | Dan Hedaya    | 87745 | 2,150,000 |  99 | m |\n| Laura              | 1944 | Passed | 88 min  | Drama, Film-Noir, Mystery | 8.0 | 77.97153 | Otto Preminger       | Gene Tierney         | Dana Andrews    | Clifton Webb      | Vincent Price | 42725 | 4,360,000 |  88 | m |\n| La montaña sagrada | 1973 | R      | 114 min | Adventure, Drama, Fantasy | 7.9 | 76.00000 | Alejandro Jodorowsky | Alejandro Jodorowsky | Horacio Salinas | Zamira Saunders   | Juan Ferrara  | 37183 | 61,001    | 114 | m |\n\n",
            "text/latex": "A data.frame: 3 × 16\n\\begin{tabular}{llllllllllllllll}\n Series\\_Title & Released\\_Year & Certificate & Runtime & Genre & IMDB\\_Rating & Meta\\_score & Director & Star1 & Star2 & Star3 & Star4 & No\\_of\\_Votes & Gross & runtime\\_numeric & runtime\\_unit\\\\\n <chr> & <chr> & <chr> & <chr> & <chr> & <dbl> & <dbl> & <chr> & <chr> & <chr> & <chr> & <chr> & <int> & <chr> & <int> & <chr>\\\\\n\\hline\n\t Blood Simple       & 1984 & A      & 99 min  & Crime, Drama, Thriller    & 7.6 & 82.00000 & Joel Coen            & Ethan Coen           & John Getz       & Frances McDormand & Dan Hedaya    & 87745 & 2,150,000 &  99 & m\\\\\n\t Laura              & 1944 & Passed & 88 min  & Drama, Film-Noir, Mystery & 8.0 & 77.97153 & Otto Preminger       & Gene Tierney         & Dana Andrews    & Clifton Webb      & Vincent Price & 42725 & 4,360,000 &  88 & m\\\\\n\t La montaña sagrada & 1973 & R      & 114 min & Adventure, Drama, Fantasy & 7.9 & 76.00000 & Alejandro Jodorowsky & Alejandro Jodorowsky & Horacio Salinas & Zamira Saunders   & Juan Ferrara  & 37183 & 61,001    & 114 & m\\\\\n\\end{tabular}\n",
            "text/plain": [
              "  Series_Title       Released_Year Certificate Runtime\n",
              "1 Blood Simple       1984          A           99 min \n",
              "2 Laura              1944          Passed      88 min \n",
              "3 La montaña sagrada 1973          R           114 min\n",
              "  Genre                     IMDB_Rating Meta_score Director            \n",
              "1 Crime, Drama, Thriller    7.6         82.00000   Joel Coen           \n",
              "2 Drama, Film-Noir, Mystery 8.0         77.97153   Otto Preminger      \n",
              "3 Adventure, Drama, Fantasy 7.9         76.00000   Alejandro Jodorowsky\n",
              "  Star1                Star2           Star3             Star4        \n",
              "1 Ethan Coen           John Getz       Frances McDormand Dan Hedaya   \n",
              "2 Gene Tierney         Dana Andrews    Clifton Webb      Vincent Price\n",
              "3 Alejandro Jodorowsky Horacio Salinas Zamira Saunders   Juan Ferrara \n",
              "  No_of_Votes Gross     runtime_numeric runtime_unit\n",
              "1 87745       2,150,000  99             m           \n",
              "2 42725       4,360,000  88             m           \n",
              "3 37183       61,001    114             m           "
            ]
          },
          "metadata": {}
        }
      ]
    },
    {
      "cell_type": "code",
      "source": [
        "nan_value_2 <- data.frame(colSums(is.na(new_df)))\n",
        "nan_value_2"
      ],
      "metadata": {
        "colab": {
          "base_uri": "https://localhost:8080/",
          "height": 599
        },
        "id": "hRoleIpsPy_4",
        "outputId": "2a74fe81-76d4-4d21-92d9-1f3ee4651139"
      },
      "execution_count": null,
      "outputs": [
        {
          "output_type": "display_data",
          "data": {
            "text/html": [
              "<table class=\"dataframe\">\n",
              "<caption>A data.frame: 16 × 1</caption>\n",
              "<thead>\n",
              "\t<tr><th></th><th scope=col>colSums.is.na.new_df..</th></tr>\n",
              "\t<tr><th></th><th scope=col>&lt;dbl&gt;</th></tr>\n",
              "</thead>\n",
              "<tbody>\n",
              "\t<tr><th scope=row>Series_Title</th><td>0</td></tr>\n",
              "\t<tr><th scope=row>Released_Year</th><td>0</td></tr>\n",
              "\t<tr><th scope=row>Certificate</th><td>0</td></tr>\n",
              "\t<tr><th scope=row>Runtime</th><td>0</td></tr>\n",
              "\t<tr><th scope=row>Genre</th><td>0</td></tr>\n",
              "\t<tr><th scope=row>IMDB_Rating</th><td>0</td></tr>\n",
              "\t<tr><th scope=row>Meta_score</th><td>0</td></tr>\n",
              "\t<tr><th scope=row>Director</th><td>0</td></tr>\n",
              "\t<tr><th scope=row>Star1</th><td>0</td></tr>\n",
              "\t<tr><th scope=row>Star2</th><td>0</td></tr>\n",
              "\t<tr><th scope=row>Star3</th><td>0</td></tr>\n",
              "\t<tr><th scope=row>Star4</th><td>0</td></tr>\n",
              "\t<tr><th scope=row>No_of_Votes</th><td>0</td></tr>\n",
              "\t<tr><th scope=row>Gross</th><td>0</td></tr>\n",
              "\t<tr><th scope=row>runtime_numeric</th><td>0</td></tr>\n",
              "\t<tr><th scope=row>runtime_unit</th><td>0</td></tr>\n",
              "</tbody>\n",
              "</table>\n"
            ],
            "text/markdown": "\nA data.frame: 16 × 1\n\n| <!--/--> | colSums.is.na.new_df.. &lt;dbl&gt; |\n|---|---|\n| Series_Title | 0 |\n| Released_Year | 0 |\n| Certificate | 0 |\n| Runtime | 0 |\n| Genre | 0 |\n| IMDB_Rating | 0 |\n| Meta_score | 0 |\n| Director | 0 |\n| Star1 | 0 |\n| Star2 | 0 |\n| Star3 | 0 |\n| Star4 | 0 |\n| No_of_Votes | 0 |\n| Gross | 0 |\n| runtime_numeric | 0 |\n| runtime_unit | 0 |\n\n",
            "text/latex": "A data.frame: 16 × 1\n\\begin{tabular}{r|l}\n  & colSums.is.na.new\\_df..\\\\\n  & <dbl>\\\\\n\\hline\n\tSeries\\_Title & 0\\\\\n\tReleased\\_Year & 0\\\\\n\tCertificate & 0\\\\\n\tRuntime & 0\\\\\n\tGenre & 0\\\\\n\tIMDB\\_Rating & 0\\\\\n\tMeta\\_score & 0\\\\\n\tDirector & 0\\\\\n\tStar1 & 0\\\\\n\tStar2 & 0\\\\\n\tStar3 & 0\\\\\n\tStar4 & 0\\\\\n\tNo\\_of\\_Votes & 0\\\\\n\tGross & 0\\\\\n\truntime\\_numeric & 0\\\\\n\truntime\\_unit & 0\\\\\n\\end{tabular}\n",
            "text/plain": [
              "                colSums.is.na.new_df..\n",
              "Series_Title    0                     \n",
              "Released_Year   0                     \n",
              "Certificate     0                     \n",
              "Runtime         0                     \n",
              "Genre           0                     \n",
              "IMDB_Rating     0                     \n",
              "Meta_score      0                     \n",
              "Director        0                     \n",
              "Star1           0                     \n",
              "Star2           0                     \n",
              "Star3           0                     \n",
              "Star4           0                     \n",
              "No_of_Votes     0                     \n",
              "Gross           0                     \n",
              "runtime_numeric 0                     \n",
              "runtime_unit    0                     "
            ]
          },
          "metadata": {}
        }
      ]
    },
    {
      "cell_type": "markdown",
      "source": [
        "**Mean Runtime of each Genre**"
      ],
      "metadata": {
        "id": "v6BRnCgryRHK"
      }
    },
    {
      "cell_type": "code",
      "source": [
        "mean_runtime <- new_df %>% separate_rows(Genre ,sep = \",\") %>% group_by(Genre) %>% summarise(mean_runtime = mean(runtime_numeric))\n",
        "mean_runtime"
      ],
      "metadata": {
        "id": "bfUSgwctyAi8",
        "colab": {
          "base_uri": "https://localhost:8080/",
          "height": 1000
        },
        "outputId": "424c7f76-d861-4690-d890-d48311cd1693"
      },
      "execution_count": null,
      "outputs": [
        {
          "output_type": "display_data",
          "data": {
            "text/html": [
              "<table class=\"dataframe\">\n",
              "<caption>A tibble: 34 × 2</caption>\n",
              "<thead>\n",
              "\t<tr><th scope=col>Genre</th><th scope=col>mean_runtime</th></tr>\n",
              "\t<tr><th scope=col>&lt;chr&gt;</th><th scope=col>&lt;dbl&gt;</th></tr>\n",
              "</thead>\n",
              "<tbody>\n",
              "\t<tr><td> Action   </td><td>103.23529</td></tr>\n",
              "\t<tr><td> Adventure</td><td>120.50000</td></tr>\n",
              "\t<tr><td> Biography</td><td>134.19048</td></tr>\n",
              "\t<tr><td> Comedy   </td><td>110.66667</td></tr>\n",
              "\t<tr><td> Crime    </td><td>120.34314</td></tr>\n",
              "\t<tr><td> Drama    </td><td>128.00690</td></tr>\n",
              "\t<tr><td> Family   </td><td>114.38889</td></tr>\n",
              "\t<tr><td> Fantasy  </td><td>115.70312</td></tr>\n",
              "\t<tr><td> Film-Noir</td><td>100.12500</td></tr>\n",
              "\t<tr><td> History  </td><td>143.55357</td></tr>\n",
              "\t<tr><td> Horror   </td><td>102.71429</td></tr>\n",
              "\t<tr><td> Music    </td><td>120.74286</td></tr>\n",
              "\t<tr><td> Musical  </td><td>140.29412</td></tr>\n",
              "\t<tr><td> Mystery  </td><td>121.42529</td></tr>\n",
              "\t<tr><td> Romance  </td><td>119.92800</td></tr>\n",
              "\t<tr><td> Sci-Fi   </td><td>120.80597</td></tr>\n",
              "\t<tr><td> Sport    </td><td>132.63158</td></tr>\n",
              "\t<tr><td> Thriller </td><td>119.72794</td></tr>\n",
              "\t<tr><td> War      </td><td>132.03922</td></tr>\n",
              "\t<tr><td> Western  </td><td>131.18750</td></tr>\n",
              "\t<tr><td>Action    </td><td>129.04651</td></tr>\n",
              "\t<tr><td>Adventure </td><td>134.11111</td></tr>\n",
              "\t<tr><td>Animation </td><td> 99.58537</td></tr>\n",
              "\t<tr><td>Biography </td><td>136.02273</td></tr>\n",
              "\t<tr><td>Comedy    </td><td>112.12903</td></tr>\n",
              "\t<tr><td>Crime     </td><td>126.39252</td></tr>\n",
              "\t<tr><td>Drama     </td><td>124.73702</td></tr>\n",
              "\t<tr><td>Family    </td><td>107.50000</td></tr>\n",
              "\t<tr><td>Fantasy   </td><td> 85.00000</td></tr>\n",
              "\t<tr><td>Film-Noir </td><td>104.00000</td></tr>\n",
              "\t<tr><td>Horror    </td><td>102.09091</td></tr>\n",
              "\t<tr><td>Mystery   </td><td>119.08333</td></tr>\n",
              "\t<tr><td>Thriller  </td><td>108.00000</td></tr>\n",
              "\t<tr><td>Western   </td><td>148.25000</td></tr>\n",
              "</tbody>\n",
              "</table>\n"
            ],
            "text/markdown": "\nA tibble: 34 × 2\n\n| Genre &lt;chr&gt; | mean_runtime &lt;dbl&gt; |\n|---|---|\n|  Action    | 103.23529 |\n|  Adventure | 120.50000 |\n|  Biography | 134.19048 |\n|  Comedy    | 110.66667 |\n|  Crime     | 120.34314 |\n|  Drama     | 128.00690 |\n|  Family    | 114.38889 |\n|  Fantasy   | 115.70312 |\n|  Film-Noir | 100.12500 |\n|  History   | 143.55357 |\n|  Horror    | 102.71429 |\n|  Music     | 120.74286 |\n|  Musical   | 140.29412 |\n|  Mystery   | 121.42529 |\n|  Romance   | 119.92800 |\n|  Sci-Fi    | 120.80597 |\n|  Sport     | 132.63158 |\n|  Thriller  | 119.72794 |\n|  War       | 132.03922 |\n|  Western   | 131.18750 |\n| Action     | 129.04651 |\n| Adventure  | 134.11111 |\n| Animation  |  99.58537 |\n| Biography  | 136.02273 |\n| Comedy     | 112.12903 |\n| Crime      | 126.39252 |\n| Drama      | 124.73702 |\n| Family     | 107.50000 |\n| Fantasy    |  85.00000 |\n| Film-Noir  | 104.00000 |\n| Horror     | 102.09091 |\n| Mystery    | 119.08333 |\n| Thriller   | 108.00000 |\n| Western    | 148.25000 |\n\n",
            "text/latex": "A tibble: 34 × 2\n\\begin{tabular}{ll}\n Genre & mean\\_runtime\\\\\n <chr> & <dbl>\\\\\n\\hline\n\t  Action    & 103.23529\\\\\n\t  Adventure & 120.50000\\\\\n\t  Biography & 134.19048\\\\\n\t  Comedy    & 110.66667\\\\\n\t  Crime     & 120.34314\\\\\n\t  Drama     & 128.00690\\\\\n\t  Family    & 114.38889\\\\\n\t  Fantasy   & 115.70312\\\\\n\t  Film-Noir & 100.12500\\\\\n\t  History   & 143.55357\\\\\n\t  Horror    & 102.71429\\\\\n\t  Music     & 120.74286\\\\\n\t  Musical   & 140.29412\\\\\n\t  Mystery   & 121.42529\\\\\n\t  Romance   & 119.92800\\\\\n\t  Sci-Fi    & 120.80597\\\\\n\t  Sport     & 132.63158\\\\\n\t  Thriller  & 119.72794\\\\\n\t  War       & 132.03922\\\\\n\t  Western   & 131.18750\\\\\n\t Action     & 129.04651\\\\\n\t Adventure  & 134.11111\\\\\n\t Animation  &  99.58537\\\\\n\t Biography  & 136.02273\\\\\n\t Comedy     & 112.12903\\\\\n\t Crime      & 126.39252\\\\\n\t Drama      & 124.73702\\\\\n\t Family     & 107.50000\\\\\n\t Fantasy    &  85.00000\\\\\n\t Film-Noir  & 104.00000\\\\\n\t Horror     & 102.09091\\\\\n\t Mystery    & 119.08333\\\\\n\t Thriller   & 108.00000\\\\\n\t Western    & 148.25000\\\\\n\\end{tabular}\n",
            "text/plain": [
              "   Genre      mean_runtime\n",
              "1   Action    103.23529   \n",
              "2   Adventure 120.50000   \n",
              "3   Biography 134.19048   \n",
              "4   Comedy    110.66667   \n",
              "5   Crime     120.34314   \n",
              "6   Drama     128.00690   \n",
              "7   Family    114.38889   \n",
              "8   Fantasy   115.70312   \n",
              "9   Film-Noir 100.12500   \n",
              "10  History   143.55357   \n",
              "11  Horror    102.71429   \n",
              "12  Music     120.74286   \n",
              "13  Musical   140.29412   \n",
              "14  Mystery   121.42529   \n",
              "15  Romance   119.92800   \n",
              "16  Sci-Fi    120.80597   \n",
              "17  Sport     132.63158   \n",
              "18  Thriller  119.72794   \n",
              "19  War       132.03922   \n",
              "20  Western   131.18750   \n",
              "21 Action     129.04651   \n",
              "22 Adventure  134.11111   \n",
              "23 Animation   99.58537   \n",
              "24 Biography  136.02273   \n",
              "25 Comedy     112.12903   \n",
              "26 Crime      126.39252   \n",
              "27 Drama      124.73702   \n",
              "28 Family     107.50000   \n",
              "29 Fantasy     85.00000   \n",
              "30 Film-Noir  104.00000   \n",
              "31 Horror     102.09091   \n",
              "32 Mystery    119.08333   \n",
              "33 Thriller   108.00000   \n",
              "34 Western    148.25000   "
            ]
          },
          "metadata": {}
        }
      ]
    },
    {
      "cell_type": "markdown",
      "source": [
        "**Max Runtime of each genre**"
      ],
      "metadata": {
        "id": "yZMDbHX3YYSs"
      }
    },
    {
      "cell_type": "code",
      "source": [
        "max_runtime <- new_df %>% separate_rows(Genre ,sep = \",\") %>% group_by(Genre) %>% summarise(max_runtime = max(runtime_numeric))\n",
        "max_runtime"
      ],
      "metadata": {
        "id": "zA26AOr4yAlB",
        "colab": {
          "base_uri": "https://localhost:8080/",
          "height": 1000
        },
        "outputId": "05bff264-bbf3-458f-dba2-ce2e012b766d"
      },
      "execution_count": null,
      "outputs": [
        {
          "output_type": "display_data",
          "data": {
            "text/html": [
              "<table class=\"dataframe\">\n",
              "<caption>A tibble: 34 × 2</caption>\n",
              "<thead>\n",
              "\t<tr><th scope=col>Genre</th><th scope=col>max_runtime</th></tr>\n",
              "\t<tr><th scope=col>&lt;chr&gt;</th><th scope=col>&lt;int&gt;</th></tr>\n",
              "</thead>\n",
              "<tbody>\n",
              "\t<tr><td> Action   </td><td>134</td></tr>\n",
              "\t<tr><td> Adventure</td><td>207</td></tr>\n",
              "\t<tr><td> Biography</td><td>228</td></tr>\n",
              "\t<tr><td> Comedy   </td><td>321</td></tr>\n",
              "\t<tr><td> Crime    </td><td>321</td></tr>\n",
              "\t<tr><td> Drama    </td><td>229</td></tr>\n",
              "\t<tr><td> Family   </td><td>192</td></tr>\n",
              "\t<tr><td> Fantasy  </td><td>189</td></tr>\n",
              "\t<tr><td> Film-Noir</td><td>114</td></tr>\n",
              "\t<tr><td> History  </td><td>238</td></tr>\n",
              "\t<tr><td> Horror   </td><td>146</td></tr>\n",
              "\t<tr><td> Music    </td><td>171</td></tr>\n",
              "\t<tr><td> Musical  </td><td>224</td></tr>\n",
              "\t<tr><td> Mystery  </td><td>168</td></tr>\n",
              "\t<tr><td> Romance  </td><td>238</td></tr>\n",
              "\t<tr><td> Sci-Fi   </td><td>169</td></tr>\n",
              "\t<tr><td> Sport    </td><td>186</td></tr>\n",
              "\t<tr><td> Thriller </td><td>189</td></tr>\n",
              "\t<tr><td> War      </td><td>197</td></tr>\n",
              "\t<tr><td> Western  </td><td>201</td></tr>\n",
              "\t<tr><td>Action    </td><td>321</td></tr>\n",
              "\t<tr><td>Adventure </td><td>228</td></tr>\n",
              "\t<tr><td>Animation </td><td>137</td></tr>\n",
              "\t<tr><td>Biography </td><td>209</td></tr>\n",
              "\t<tr><td>Comedy    </td><td>188</td></tr>\n",
              "\t<tr><td>Crime     </td><td>229</td></tr>\n",
              "\t<tr><td>Drama     </td><td>242</td></tr>\n",
              "\t<tr><td>Family    </td><td>115</td></tr>\n",
              "\t<tr><td>Fantasy   </td><td> 94</td></tr>\n",
              "\t<tr><td>Film-Noir </td><td>108</td></tr>\n",
              "\t<tr><td>Horror    </td><td>122</td></tr>\n",
              "\t<tr><td>Mystery   </td><td>138</td></tr>\n",
              "\t<tr><td>Thriller  </td><td>108</td></tr>\n",
              "\t<tr><td>Western   </td><td>165</td></tr>\n",
              "</tbody>\n",
              "</table>\n"
            ],
            "text/markdown": "\nA tibble: 34 × 2\n\n| Genre &lt;chr&gt; | max_runtime &lt;int&gt; |\n|---|---|\n|  Action    | 134 |\n|  Adventure | 207 |\n|  Biography | 228 |\n|  Comedy    | 321 |\n|  Crime     | 321 |\n|  Drama     | 229 |\n|  Family    | 192 |\n|  Fantasy   | 189 |\n|  Film-Noir | 114 |\n|  History   | 238 |\n|  Horror    | 146 |\n|  Music     | 171 |\n|  Musical   | 224 |\n|  Mystery   | 168 |\n|  Romance   | 238 |\n|  Sci-Fi    | 169 |\n|  Sport     | 186 |\n|  Thriller  | 189 |\n|  War       | 197 |\n|  Western   | 201 |\n| Action     | 321 |\n| Adventure  | 228 |\n| Animation  | 137 |\n| Biography  | 209 |\n| Comedy     | 188 |\n| Crime      | 229 |\n| Drama      | 242 |\n| Family     | 115 |\n| Fantasy    |  94 |\n| Film-Noir  | 108 |\n| Horror     | 122 |\n| Mystery    | 138 |\n| Thriller   | 108 |\n| Western    | 165 |\n\n",
            "text/latex": "A tibble: 34 × 2\n\\begin{tabular}{ll}\n Genre & max\\_runtime\\\\\n <chr> & <int>\\\\\n\\hline\n\t  Action    & 134\\\\\n\t  Adventure & 207\\\\\n\t  Biography & 228\\\\\n\t  Comedy    & 321\\\\\n\t  Crime     & 321\\\\\n\t  Drama     & 229\\\\\n\t  Family    & 192\\\\\n\t  Fantasy   & 189\\\\\n\t  Film-Noir & 114\\\\\n\t  History   & 238\\\\\n\t  Horror    & 146\\\\\n\t  Music     & 171\\\\\n\t  Musical   & 224\\\\\n\t  Mystery   & 168\\\\\n\t  Romance   & 238\\\\\n\t  Sci-Fi    & 169\\\\\n\t  Sport     & 186\\\\\n\t  Thriller  & 189\\\\\n\t  War       & 197\\\\\n\t  Western   & 201\\\\\n\t Action     & 321\\\\\n\t Adventure  & 228\\\\\n\t Animation  & 137\\\\\n\t Biography  & 209\\\\\n\t Comedy     & 188\\\\\n\t Crime      & 229\\\\\n\t Drama      & 242\\\\\n\t Family     & 115\\\\\n\t Fantasy    &  94\\\\\n\t Film-Noir  & 108\\\\\n\t Horror     & 122\\\\\n\t Mystery    & 138\\\\\n\t Thriller   & 108\\\\\n\t Western    & 165\\\\\n\\end{tabular}\n",
            "text/plain": [
              "   Genre      max_runtime\n",
              "1   Action    134        \n",
              "2   Adventure 207        \n",
              "3   Biography 228        \n",
              "4   Comedy    321        \n",
              "5   Crime     321        \n",
              "6   Drama     229        \n",
              "7   Family    192        \n",
              "8   Fantasy   189        \n",
              "9   Film-Noir 114        \n",
              "10  History   238        \n",
              "11  Horror    146        \n",
              "12  Music     171        \n",
              "13  Musical   224        \n",
              "14  Mystery   168        \n",
              "15  Romance   238        \n",
              "16  Sci-Fi    169        \n",
              "17  Sport     186        \n",
              "18  Thriller  189        \n",
              "19  War       197        \n",
              "20  Western   201        \n",
              "21 Action     321        \n",
              "22 Adventure  228        \n",
              "23 Animation  137        \n",
              "24 Biography  209        \n",
              "25 Comedy     188        \n",
              "26 Crime      229        \n",
              "27 Drama      242        \n",
              "28 Family     115        \n",
              "29 Fantasy     94        \n",
              "30 Film-Noir  108        \n",
              "31 Horror     122        \n",
              "32 Mystery    138        \n",
              "33 Thriller   108        \n",
              "34 Western    165        "
            ]
          },
          "metadata": {}
        }
      ]
    },
    {
      "cell_type": "code",
      "source": [
        "# Crime\t321\n",
        "new_df %>% filter(runtime_numeric == 321)"
      ],
      "metadata": {
        "id": "5qyczNJmyAoY",
        "colab": {
          "base_uri": "https://localhost:8080/",
          "height": 184
        },
        "outputId": "61493d6d-c89f-4128-9749-dd5aa274503f"
      },
      "execution_count": null,
      "outputs": [
        {
          "output_type": "display_data",
          "data": {
            "text/html": [
              "<table class=\"dataframe\">\n",
              "<caption>A data.frame: 1 × 16</caption>\n",
              "<thead>\n",
              "\t<tr><th scope=col>Series_Title</th><th scope=col>Released_Year</th><th scope=col>Certificate</th><th scope=col>Runtime</th><th scope=col>Genre</th><th scope=col>IMDB_Rating</th><th scope=col>Meta_score</th><th scope=col>Director</th><th scope=col>Star1</th><th scope=col>Star2</th><th scope=col>Star3</th><th scope=col>Star4</th><th scope=col>No_of_Votes</th><th scope=col>Gross</th><th scope=col>runtime_numeric</th><th scope=col>runtime_unit</th></tr>\n",
              "\t<tr><th scope=col>&lt;chr&gt;</th><th scope=col>&lt;chr&gt;</th><th scope=col>&lt;chr&gt;</th><th scope=col>&lt;chr&gt;</th><th scope=col>&lt;chr&gt;</th><th scope=col>&lt;dbl&gt;</th><th scope=col>&lt;dbl&gt;</th><th scope=col>&lt;chr&gt;</th><th scope=col>&lt;chr&gt;</th><th scope=col>&lt;chr&gt;</th><th scope=col>&lt;chr&gt;</th><th scope=col>&lt;chr&gt;</th><th scope=col>&lt;int&gt;</th><th scope=col>&lt;chr&gt;</th><th scope=col>&lt;int&gt;</th><th scope=col>&lt;chr&gt;</th></tr>\n",
              "</thead>\n",
              "<tbody>\n",
              "\t<tr><td>Gangs of Wasseypur</td><td>2012</td><td>A</td><td>321 min</td><td>Action, Comedy, Crime</td><td>8.2</td><td>89</td><td>Anurag Kashyap</td><td>Manoj Bajpayee</td><td>Richa Chadha</td><td>Nawazuddin Siddiqui</td><td>Tigmanshu Dhulia</td><td>82365</td><td></td><td>321</td><td>m</td></tr>\n",
              "</tbody>\n",
              "</table>\n"
            ],
            "text/markdown": "\nA data.frame: 1 × 16\n\n| Series_Title &lt;chr&gt; | Released_Year &lt;chr&gt; | Certificate &lt;chr&gt; | Runtime &lt;chr&gt; | Genre &lt;chr&gt; | IMDB_Rating &lt;dbl&gt; | Meta_score &lt;dbl&gt; | Director &lt;chr&gt; | Star1 &lt;chr&gt; | Star2 &lt;chr&gt; | Star3 &lt;chr&gt; | Star4 &lt;chr&gt; | No_of_Votes &lt;int&gt; | Gross &lt;chr&gt; | runtime_numeric &lt;int&gt; | runtime_unit &lt;chr&gt; |\n|---|---|---|---|---|---|---|---|---|---|---|---|---|---|---|---|\n| Gangs of Wasseypur | 2012 | A | 321 min | Action, Comedy, Crime | 8.2 | 89 | Anurag Kashyap | Manoj Bajpayee | Richa Chadha | Nawazuddin Siddiqui | Tigmanshu Dhulia | 82365 | <!----> | 321 | m |\n\n",
            "text/latex": "A data.frame: 1 × 16\n\\begin{tabular}{llllllllllllllll}\n Series\\_Title & Released\\_Year & Certificate & Runtime & Genre & IMDB\\_Rating & Meta\\_score & Director & Star1 & Star2 & Star3 & Star4 & No\\_of\\_Votes & Gross & runtime\\_numeric & runtime\\_unit\\\\\n <chr> & <chr> & <chr> & <chr> & <chr> & <dbl> & <dbl> & <chr> & <chr> & <chr> & <chr> & <chr> & <int> & <chr> & <int> & <chr>\\\\\n\\hline\n\t Gangs of Wasseypur & 2012 & A & 321 min & Action, Comedy, Crime & 8.2 & 89 & Anurag Kashyap & Manoj Bajpayee & Richa Chadha & Nawazuddin Siddiqui & Tigmanshu Dhulia & 82365 &  & 321 & m\\\\\n\\end{tabular}\n",
            "text/plain": [
              "  Series_Title       Released_Year Certificate Runtime Genre                \n",
              "1 Gangs of Wasseypur 2012          A           321 min Action, Comedy, Crime\n",
              "  IMDB_Rating Meta_score Director       Star1          Star2       \n",
              "1 8.2         89         Anurag Kashyap Manoj Bajpayee Richa Chadha\n",
              "  Star3               Star4            No_of_Votes Gross runtime_numeric\n",
              "1 Nawazuddin Siddiqui Tigmanshu Dhulia 82365             321            \n",
              "  runtime_unit\n",
              "1 m           "
            ]
          },
          "metadata": {}
        }
      ]
    },
    {
      "cell_type": "code",
      "source": [
        "# Fantasy\t94\n",
        "new_df %>% filter(runtime_numeric == 94)"
      ],
      "metadata": {
        "id": "MgKUFLBqyArR",
        "colab": {
          "base_uri": "https://localhost:8080/",
          "height": 991
        },
        "outputId": "12c414bd-d6cb-4303-e1c5-dba8f9991276"
      },
      "execution_count": null,
      "outputs": [
        {
          "output_type": "display_data",
          "data": {
            "text/html": [
              "<table class=\"dataframe\">\n",
              "<caption>A data.frame: 14 × 16</caption>\n",
              "<thead>\n",
              "\t<tr><th scope=col>Series_Title</th><th scope=col>Released_Year</th><th scope=col>Certificate</th><th scope=col>Runtime</th><th scope=col>Genre</th><th scope=col>IMDB_Rating</th><th scope=col>Meta_score</th><th scope=col>Director</th><th scope=col>Star1</th><th scope=col>Star2</th><th scope=col>Star3</th><th scope=col>Star4</th><th scope=col>No_of_Votes</th><th scope=col>Gross</th><th scope=col>runtime_numeric</th><th scope=col>runtime_unit</th></tr>\n",
              "\t<tr><th scope=col>&lt;chr&gt;</th><th scope=col>&lt;chr&gt;</th><th scope=col>&lt;chr&gt;</th><th scope=col>&lt;chr&gt;</th><th scope=col>&lt;chr&gt;</th><th scope=col>&lt;dbl&gt;</th><th scope=col>&lt;dbl&gt;</th><th scope=col>&lt;chr&gt;</th><th scope=col>&lt;chr&gt;</th><th scope=col>&lt;chr&gt;</th><th scope=col>&lt;chr&gt;</th><th scope=col>&lt;chr&gt;</th><th scope=col>&lt;int&gt;</th><th scope=col>&lt;chr&gt;</th><th scope=col>&lt;int&gt;</th><th scope=col>&lt;chr&gt;</th></tr>\n",
              "</thead>\n",
              "<tbody>\n",
              "\t<tr><td>Life of Brian                 </td><td>1979</td><td>R     </td><td>94 min</td><td>Comedy                      </td><td>8.1</td><td>77.00000</td><td>Terry Jones         </td><td>Graham Chapman    </td><td>John Cleese         </td><td>Michael Palin        </td><td>Terry Gilliam      </td><td>367250</td><td>20,045,115</td><td>94</td><td>m</td></tr>\n",
              "\t<tr><td>Sunrise: A Song of Two Humans </td><td>1927</td><td>Passed</td><td>94 min</td><td>Drama, Romance              </td><td>8.1</td><td>77.97153</td><td>F.W. Murnau         </td><td>George O'Brien    </td><td>Janet Gaynor        </td><td>Margaret Livingston  </td><td>Bodil Rosing       </td><td> 46865</td><td>539,540   </td><td>94</td><td>m</td></tr>\n",
              "\t<tr><td>In a Lonely Place             </td><td>1950</td><td>      </td><td>94 min</td><td>Drama, Film-Noir, Mystery   </td><td>8.0</td><td>77.97153</td><td>Nicholas Ray        </td><td>Humphrey Bogart   </td><td>Gloria Grahame      </td><td>Frank Lovejoy        </td><td>Carl Benton Reid   </td><td> 26784</td><td>          </td><td>94</td><td>m</td></tr>\n",
              "\t<tr><td>Trois couleurs: Bleu          </td><td>1993</td><td>U     </td><td>94 min</td><td>Drama, Music, Mystery       </td><td>7.9</td><td>85.00000</td><td>Krzysztof Kieslowski</td><td>Juliette Binoche  </td><td>Zbigniew Zamachowski</td><td>Julie Delpy          </td><td>Benoît Régent      </td><td> 89836</td><td>1,324,974 </td><td>94</td><td>m</td></tr>\n",
              "\t<tr><td>Jûbê ninpûchô                 </td><td>1993</td><td>A     </td><td>94 min</td><td>Animation, Action, Adventure</td><td>7.9</td><td>77.97153</td><td>Yoshiaki Kawajiri   </td><td>Kôichi Yamadera   </td><td>Emi Shinohara       </td><td>Takeshi Aono         </td><td>Osamu Saka         </td><td> 34529</td><td>          </td><td>94</td><td>m</td></tr>\n",
              "\t<tr><td>Nosferatu                     </td><td>1922</td><td>      </td><td>94 min</td><td>Fantasy, Horror             </td><td>7.9</td><td>77.97153</td><td>F.W. Murnau         </td><td>Max Schreck       </td><td>Alexander Granach   </td><td>Gustav von Wangenheim</td><td>Greta Schröder     </td><td> 88794</td><td>          </td><td>94</td><td>m</td></tr>\n",
              "\t<tr><td>Loving Vincent                </td><td>2017</td><td>UA    </td><td>94 min</td><td>Animation, Biography, Crime </td><td>7.8</td><td>62.00000</td><td>Dorota Kobiela      </td><td>Hugh Welchman     </td><td>Douglas Booth       </td><td>Jerome Flynn         </td><td>Robert Gulaczyk    </td><td> 50778</td><td>6,735,118 </td><td>94</td><td>m</td></tr>\n",
              "\t<tr><td>Moonrise Kingdom              </td><td>2012</td><td>A     </td><td>94 min</td><td>Comedy, Drama, Romance      </td><td>7.8</td><td>84.00000</td><td>Wes Anderson        </td><td>Jared Gilman      </td><td>Kara Hayward        </td><td>Bruce Willis         </td><td>Bill Murray        </td><td>318789</td><td>45,512,466</td><td>94</td><td>m</td></tr>\n",
              "\t<tr><td>The Boy in the Striped Pyjamas</td><td>2008</td><td>PG-13 </td><td>94 min</td><td>Drama, History, War         </td><td>7.8</td><td>55.00000</td><td>Mark Herman         </td><td>Asa Butterfield   </td><td>David Thewlis       </td><td>Rupert Friend        </td><td>Zac Mattoon O'Brien</td><td>190748</td><td>9,030,581 </td><td>94</td><td>m</td></tr>\n",
              "\t<tr><td>Adams æbler                   </td><td>2005</td><td>R     </td><td>94 min</td><td>Comedy, Crime, Drama        </td><td>7.8</td><td>51.00000</td><td>Anders Thomas Jensen</td><td>Ulrich Thomsen    </td><td>Mads Mikkelsen      </td><td>Nicolas Bro          </td><td>Paprika Steen      </td><td> 45717</td><td>1,305     </td><td>94</td><td>m</td></tr>\n",
              "\t<tr><td>Days of Heaven                </td><td>1978</td><td>PG    </td><td>94 min</td><td>Drama, Romance              </td><td>7.8</td><td>93.00000</td><td>Terrence Malick     </td><td>Richard Gere      </td><td>Brooke Adams        </td><td>Sam Shepard          </td><td>Linda Manz         </td><td> 52852</td><td>          </td><td>94</td><td>m</td></tr>\n",
              "\t<tr><td>Badlands                      </td><td>1973</td><td>PG    </td><td>94 min</td><td>Action, Crime, Drama        </td><td>7.8</td><td>93.00000</td><td>Terrence Malick     </td><td>Martin Sheen      </td><td>Sissy Spacek        </td><td>Warren Oates         </td><td>Ramon Bieri        </td><td> 66009</td><td>          </td><td>94</td><td>m</td></tr>\n",
              "\t<tr><td>Kurenai no buta               </td><td>1992</td><td>U     </td><td>94 min</td><td>Animation, Adventure, Comedy</td><td>7.7</td><td>83.00000</td><td>Hayao Miyazaki      </td><td>Shûichirô Moriyama</td><td>Tokiko Katô         </td><td>Bunshi Katsura Vi    </td><td>Tsunehiko Kamijô   </td><td> 77798</td><td>          </td><td>94</td><td>m</td></tr>\n",
              "\t<tr><td>Kari-gurashi no Arietti       </td><td>2010</td><td>U     </td><td>94 min</td><td>Animation, Adventure, Family</td><td>7.6</td><td>80.00000</td><td>Hiromasa Yonebayashi</td><td>Amy Poehler       </td><td>Mirai Shida         </td><td>Ryûnosuke Kamiki     </td><td>Tatsuya Fujiwara   </td><td> 80939</td><td>19,202,743</td><td>94</td><td>m</td></tr>\n",
              "</tbody>\n",
              "</table>\n"
            ],
            "text/markdown": "\nA data.frame: 14 × 16\n\n| Series_Title &lt;chr&gt; | Released_Year &lt;chr&gt; | Certificate &lt;chr&gt; | Runtime &lt;chr&gt; | Genre &lt;chr&gt; | IMDB_Rating &lt;dbl&gt; | Meta_score &lt;dbl&gt; | Director &lt;chr&gt; | Star1 &lt;chr&gt; | Star2 &lt;chr&gt; | Star3 &lt;chr&gt; | Star4 &lt;chr&gt; | No_of_Votes &lt;int&gt; | Gross &lt;chr&gt; | runtime_numeric &lt;int&gt; | runtime_unit &lt;chr&gt; |\n|---|---|---|---|---|---|---|---|---|---|---|---|---|---|---|---|\n| Life of Brian                  | 1979 | R      | 94 min | Comedy                       | 8.1 | 77.00000 | Terry Jones          | Graham Chapman     | John Cleese          | Michael Palin         | Terry Gilliam       | 367250 | 20,045,115 | 94 | m |\n| Sunrise: A Song of Two Humans  | 1927 | Passed | 94 min | Drama, Romance               | 8.1 | 77.97153 | F.W. Murnau          | George O'Brien     | Janet Gaynor         | Margaret Livingston   | Bodil Rosing        |  46865 | 539,540    | 94 | m |\n| In a Lonely Place              | 1950 | <!----> | 94 min | Drama, Film-Noir, Mystery    | 8.0 | 77.97153 | Nicholas Ray         | Humphrey Bogart    | Gloria Grahame       | Frank Lovejoy         | Carl Benton Reid    |  26784 | <!----> | 94 | m |\n| Trois couleurs: Bleu           | 1993 | U      | 94 min | Drama, Music, Mystery        | 7.9 | 85.00000 | Krzysztof Kieslowski | Juliette Binoche   | Zbigniew Zamachowski | Julie Delpy           | Benoît Régent       |  89836 | 1,324,974  | 94 | m |\n| Jûbê ninpûchô                  | 1993 | A      | 94 min | Animation, Action, Adventure | 7.9 | 77.97153 | Yoshiaki Kawajiri    | Kôichi Yamadera    | Emi Shinohara        | Takeshi Aono          | Osamu Saka          |  34529 | <!----> | 94 | m |\n| Nosferatu                      | 1922 | <!----> | 94 min | Fantasy, Horror              | 7.9 | 77.97153 | F.W. Murnau          | Max Schreck        | Alexander Granach    | Gustav von Wangenheim | Greta Schröder      |  88794 | <!----> | 94 | m |\n| Loving Vincent                 | 2017 | UA     | 94 min | Animation, Biography, Crime  | 7.8 | 62.00000 | Dorota Kobiela       | Hugh Welchman      | Douglas Booth        | Jerome Flynn          | Robert Gulaczyk     |  50778 | 6,735,118  | 94 | m |\n| Moonrise Kingdom               | 2012 | A      | 94 min | Comedy, Drama, Romance       | 7.8 | 84.00000 | Wes Anderson         | Jared Gilman       | Kara Hayward         | Bruce Willis          | Bill Murray         | 318789 | 45,512,466 | 94 | m |\n| The Boy in the Striped Pyjamas | 2008 | PG-13  | 94 min | Drama, History, War          | 7.8 | 55.00000 | Mark Herman          | Asa Butterfield    | David Thewlis        | Rupert Friend         | Zac Mattoon O'Brien | 190748 | 9,030,581  | 94 | m |\n| Adams æbler                    | 2005 | R      | 94 min | Comedy, Crime, Drama         | 7.8 | 51.00000 | Anders Thomas Jensen | Ulrich Thomsen     | Mads Mikkelsen       | Nicolas Bro           | Paprika Steen       |  45717 | 1,305      | 94 | m |\n| Days of Heaven                 | 1978 | PG     | 94 min | Drama, Romance               | 7.8 | 93.00000 | Terrence Malick      | Richard Gere       | Brooke Adams         | Sam Shepard           | Linda Manz          |  52852 | <!----> | 94 | m |\n| Badlands                       | 1973 | PG     | 94 min | Action, Crime, Drama         | 7.8 | 93.00000 | Terrence Malick      | Martin Sheen       | Sissy Spacek         | Warren Oates          | Ramon Bieri         |  66009 | <!----> | 94 | m |\n| Kurenai no buta                | 1992 | U      | 94 min | Animation, Adventure, Comedy | 7.7 | 83.00000 | Hayao Miyazaki       | Shûichirô Moriyama | Tokiko Katô          | Bunshi Katsura Vi     | Tsunehiko Kamijô    |  77798 | <!----> | 94 | m |\n| Kari-gurashi no Arietti        | 2010 | U      | 94 min | Animation, Adventure, Family | 7.6 | 80.00000 | Hiromasa Yonebayashi | Amy Poehler        | Mirai Shida          | Ryûnosuke Kamiki      | Tatsuya Fujiwara    |  80939 | 19,202,743 | 94 | m |\n\n",
            "text/latex": "A data.frame: 14 × 16\n\\begin{tabular}{llllllllllllllll}\n Series\\_Title & Released\\_Year & Certificate & Runtime & Genre & IMDB\\_Rating & Meta\\_score & Director & Star1 & Star2 & Star3 & Star4 & No\\_of\\_Votes & Gross & runtime\\_numeric & runtime\\_unit\\\\\n <chr> & <chr> & <chr> & <chr> & <chr> & <dbl> & <dbl> & <chr> & <chr> & <chr> & <chr> & <chr> & <int> & <chr> & <int> & <chr>\\\\\n\\hline\n\t Life of Brian                  & 1979 & R      & 94 min & Comedy                       & 8.1 & 77.00000 & Terry Jones          & Graham Chapman     & John Cleese          & Michael Palin         & Terry Gilliam       & 367250 & 20,045,115 & 94 & m\\\\\n\t Sunrise: A Song of Two Humans  & 1927 & Passed & 94 min & Drama, Romance               & 8.1 & 77.97153 & F.W. Murnau          & George O'Brien     & Janet Gaynor         & Margaret Livingston   & Bodil Rosing        &  46865 & 539,540    & 94 & m\\\\\n\t In a Lonely Place              & 1950 &        & 94 min & Drama, Film-Noir, Mystery    & 8.0 & 77.97153 & Nicholas Ray         & Humphrey Bogart    & Gloria Grahame       & Frank Lovejoy         & Carl Benton Reid    &  26784 &            & 94 & m\\\\\n\t Trois couleurs: Bleu           & 1993 & U      & 94 min & Drama, Music, Mystery        & 7.9 & 85.00000 & Krzysztof Kieslowski & Juliette Binoche   & Zbigniew Zamachowski & Julie Delpy           & Benoît Régent       &  89836 & 1,324,974  & 94 & m\\\\\n\t Jûbê ninpûchô                  & 1993 & A      & 94 min & Animation, Action, Adventure & 7.9 & 77.97153 & Yoshiaki Kawajiri    & Kôichi Yamadera    & Emi Shinohara        & Takeshi Aono          & Osamu Saka          &  34529 &            & 94 & m\\\\\n\t Nosferatu                      & 1922 &        & 94 min & Fantasy, Horror              & 7.9 & 77.97153 & F.W. Murnau          & Max Schreck        & Alexander Granach    & Gustav von Wangenheim & Greta Schröder      &  88794 &            & 94 & m\\\\\n\t Loving Vincent                 & 2017 & UA     & 94 min & Animation, Biography, Crime  & 7.8 & 62.00000 & Dorota Kobiela       & Hugh Welchman      & Douglas Booth        & Jerome Flynn          & Robert Gulaczyk     &  50778 & 6,735,118  & 94 & m\\\\\n\t Moonrise Kingdom               & 2012 & A      & 94 min & Comedy, Drama, Romance       & 7.8 & 84.00000 & Wes Anderson         & Jared Gilman       & Kara Hayward         & Bruce Willis          & Bill Murray         & 318789 & 45,512,466 & 94 & m\\\\\n\t The Boy in the Striped Pyjamas & 2008 & PG-13  & 94 min & Drama, History, War          & 7.8 & 55.00000 & Mark Herman          & Asa Butterfield    & David Thewlis        & Rupert Friend         & Zac Mattoon O'Brien & 190748 & 9,030,581  & 94 & m\\\\\n\t Adams æbler                    & 2005 & R      & 94 min & Comedy, Crime, Drama         & 7.8 & 51.00000 & Anders Thomas Jensen & Ulrich Thomsen     & Mads Mikkelsen       & Nicolas Bro           & Paprika Steen       &  45717 & 1,305      & 94 & m\\\\\n\t Days of Heaven                 & 1978 & PG     & 94 min & Drama, Romance               & 7.8 & 93.00000 & Terrence Malick      & Richard Gere       & Brooke Adams         & Sam Shepard           & Linda Manz          &  52852 &            & 94 & m\\\\\n\t Badlands                       & 1973 & PG     & 94 min & Action, Crime, Drama         & 7.8 & 93.00000 & Terrence Malick      & Martin Sheen       & Sissy Spacek         & Warren Oates          & Ramon Bieri         &  66009 &            & 94 & m\\\\\n\t Kurenai no buta                & 1992 & U      & 94 min & Animation, Adventure, Comedy & 7.7 & 83.00000 & Hayao Miyazaki       & Shûichirô Moriyama & Tokiko Katô          & Bunshi Katsura Vi     & Tsunehiko Kamijô    &  77798 &            & 94 & m\\\\\n\t Kari-gurashi no Arietti        & 2010 & U      & 94 min & Animation, Adventure, Family & 7.6 & 80.00000 & Hiromasa Yonebayashi & Amy Poehler        & Mirai Shida          & Ryûnosuke Kamiki      & Tatsuya Fujiwara    &  80939 & 19,202,743 & 94 & m\\\\\n\\end{tabular}\n",
            "text/plain": [
              "   Series_Title                   Released_Year Certificate Runtime\n",
              "1  Life of Brian                  1979          R           94 min \n",
              "2  Sunrise: A Song of Two Humans  1927          Passed      94 min \n",
              "3  In a Lonely Place              1950                      94 min \n",
              "4  Trois couleurs: Bleu           1993          U           94 min \n",
              "5  Jûbê ninpûchô                  1993          A           94 min \n",
              "6  Nosferatu                      1922                      94 min \n",
              "7  Loving Vincent                 2017          UA          94 min \n",
              "8  Moonrise Kingdom               2012          A           94 min \n",
              "9  The Boy in the Striped Pyjamas 2008          PG-13       94 min \n",
              "10 Adams æbler                    2005          R           94 min \n",
              "11 Days of Heaven                 1978          PG          94 min \n",
              "12 Badlands                       1973          PG          94 min \n",
              "13 Kurenai no buta                1992          U           94 min \n",
              "14 Kari-gurashi no Arietti        2010          U           94 min \n",
              "   Genre                        IMDB_Rating Meta_score Director            \n",
              "1  Comedy                       8.1         77.00000   Terry Jones         \n",
              "2  Drama, Romance               8.1         77.97153   F.W. Murnau         \n",
              "3  Drama, Film-Noir, Mystery    8.0         77.97153   Nicholas Ray        \n",
              "4  Drama, Music, Mystery        7.9         85.00000   Krzysztof Kieslowski\n",
              "5  Animation, Action, Adventure 7.9         77.97153   Yoshiaki Kawajiri   \n",
              "6  Fantasy, Horror              7.9         77.97153   F.W. Murnau         \n",
              "7  Animation, Biography, Crime  7.8         62.00000   Dorota Kobiela      \n",
              "8  Comedy, Drama, Romance       7.8         84.00000   Wes Anderson        \n",
              "9  Drama, History, War          7.8         55.00000   Mark Herman         \n",
              "10 Comedy, Crime, Drama         7.8         51.00000   Anders Thomas Jensen\n",
              "11 Drama, Romance               7.8         93.00000   Terrence Malick     \n",
              "12 Action, Crime, Drama         7.8         93.00000   Terrence Malick     \n",
              "13 Animation, Adventure, Comedy 7.7         83.00000   Hayao Miyazaki      \n",
              "14 Animation, Adventure, Family 7.6         80.00000   Hiromasa Yonebayashi\n",
              "   Star1              Star2                Star3                \n",
              "1  Graham Chapman     John Cleese          Michael Palin        \n",
              "2  George O'Brien     Janet Gaynor         Margaret Livingston  \n",
              "3  Humphrey Bogart    Gloria Grahame       Frank Lovejoy        \n",
              "4  Juliette Binoche   Zbigniew Zamachowski Julie Delpy          \n",
              "5  Kôichi Yamadera    Emi Shinohara        Takeshi Aono         \n",
              "6  Max Schreck        Alexander Granach    Gustav von Wangenheim\n",
              "7  Hugh Welchman      Douglas Booth        Jerome Flynn         \n",
              "8  Jared Gilman       Kara Hayward         Bruce Willis         \n",
              "9  Asa Butterfield    David Thewlis        Rupert Friend        \n",
              "10 Ulrich Thomsen     Mads Mikkelsen       Nicolas Bro          \n",
              "11 Richard Gere       Brooke Adams         Sam Shepard          \n",
              "12 Martin Sheen       Sissy Spacek         Warren Oates         \n",
              "13 Shûichirô Moriyama Tokiko Katô          Bunshi Katsura Vi    \n",
              "14 Amy Poehler        Mirai Shida          Ryûnosuke Kamiki     \n",
              "   Star4               No_of_Votes Gross      runtime_numeric runtime_unit\n",
              "1  Terry Gilliam       367250      20,045,115 94              m           \n",
              "2  Bodil Rosing         46865      539,540    94              m           \n",
              "3  Carl Benton Reid     26784                 94              m           \n",
              "4  Benoît Régent        89836      1,324,974  94              m           \n",
              "5  Osamu Saka           34529                 94              m           \n",
              "6  Greta Schröder       88794                 94              m           \n",
              "7  Robert Gulaczyk      50778      6,735,118  94              m           \n",
              "8  Bill Murray         318789      45,512,466 94              m           \n",
              "9  Zac Mattoon O'Brien 190748      9,030,581  94              m           \n",
              "10 Paprika Steen        45717      1,305      94              m           \n",
              "11 Linda Manz           52852                 94              m           \n",
              "12 Ramon Bieri          66009                 94              m           \n",
              "13 Tsunehiko Kamijô     77798                 94              m           \n",
              "14 Tatsuya Fujiwara     80939      19,202,743 94              m           "
            ]
          },
          "metadata": {}
        }
      ]
    },
    {
      "cell_type": "markdown",
      "source": [
        "**Min Runtime of each genre**"
      ],
      "metadata": {
        "id": "C77NRQBBYuLh"
      }
    },
    {
      "cell_type": "code",
      "source": [
        "min_runtime <- new_df %>% separate_rows(Genre ,sep = \",\") %>% group_by(Genre) %>% summarise(min_runtime = min(runtime_numeric))\n",
        "min_runtime"
      ],
      "metadata": {
        "id": "3Gt8PoZjycX4",
        "colab": {
          "base_uri": "https://localhost:8080/",
          "height": 1000
        },
        "outputId": "05341291-918b-4157-db57-2bff69a4a7cf"
      },
      "execution_count": null,
      "outputs": [
        {
          "output_type": "display_data",
          "data": {
            "text/html": [
              "<table class=\"dataframe\">\n",
              "<caption>A tibble: 34 × 2</caption>\n",
              "<thead>\n",
              "\t<tr><th scope=col>Genre</th><th scope=col>min_runtime</th></tr>\n",
              "\t<tr><th scope=col>&lt;chr&gt;</th><th scope=col>&lt;int&gt;</th></tr>\n",
              "</thead>\n",
              "<tbody>\n",
              "\t<tr><td> Action   </td><td> 76</td></tr>\n",
              "\t<tr><td> Adventure</td><td> 67</td></tr>\n",
              "\t<tr><td> Biography</td><td> 94</td></tr>\n",
              "\t<tr><td> Comedy   </td><td> 45</td></tr>\n",
              "\t<tr><td> Crime    </td><td> 76</td></tr>\n",
              "\t<tr><td> Drama    </td><td> 68</td></tr>\n",
              "\t<tr><td> Family   </td><td> 68</td></tr>\n",
              "\t<tr><td> Fantasy  </td><td> 76</td></tr>\n",
              "\t<tr><td> Film-Noir</td><td> 84</td></tr>\n",
              "\t<tr><td> History  </td><td> 75</td></tr>\n",
              "\t<tr><td> Horror   </td><td> 64</td></tr>\n",
              "\t<tr><td> Music    </td><td> 82</td></tr>\n",
              "\t<tr><td> Musical  </td><td> 69</td></tr>\n",
              "\t<tr><td> Mystery  </td><td> 76</td></tr>\n",
              "\t<tr><td> Romance  </td><td> 45</td></tr>\n",
              "\t<tr><td> Sci-Fi   </td><td> 70</td></tr>\n",
              "\t<tr><td> Sport    </td><td> 89</td></tr>\n",
              "\t<tr><td> Thriller </td><td> 75</td></tr>\n",
              "\t<tr><td> War      </td><td> 69</td></tr>\n",
              "\t<tr><td> Western  </td><td> 85</td></tr>\n",
              "\t<tr><td>Action    </td><td> 45</td></tr>\n",
              "\t<tr><td>Adventure </td><td> 88</td></tr>\n",
              "\t<tr><td>Animation </td><td> 71</td></tr>\n",
              "\t<tr><td>Biography </td><td> 93</td></tr>\n",
              "\t<tr><td>Comedy    </td><td> 68</td></tr>\n",
              "\t<tr><td>Crime     </td><td> 80</td></tr>\n",
              "\t<tr><td>Drama     </td><td> 64</td></tr>\n",
              "\t<tr><td>Family    </td><td>100</td></tr>\n",
              "\t<tr><td>Fantasy   </td><td> 76</td></tr>\n",
              "\t<tr><td>Film-Noir </td><td>100</td></tr>\n",
              "\t<tr><td>Horror    </td><td> 71</td></tr>\n",
              "\t<tr><td>Mystery   </td><td> 96</td></tr>\n",
              "\t<tr><td>Thriller  </td><td>108</td></tr>\n",
              "\t<tr><td>Western   </td><td>132</td></tr>\n",
              "</tbody>\n",
              "</table>\n"
            ],
            "text/markdown": "\nA tibble: 34 × 2\n\n| Genre &lt;chr&gt; | min_runtime &lt;int&gt; |\n|---|---|\n|  Action    |  76 |\n|  Adventure |  67 |\n|  Biography |  94 |\n|  Comedy    |  45 |\n|  Crime     |  76 |\n|  Drama     |  68 |\n|  Family    |  68 |\n|  Fantasy   |  76 |\n|  Film-Noir |  84 |\n|  History   |  75 |\n|  Horror    |  64 |\n|  Music     |  82 |\n|  Musical   |  69 |\n|  Mystery   |  76 |\n|  Romance   |  45 |\n|  Sci-Fi    |  70 |\n|  Sport     |  89 |\n|  Thriller  |  75 |\n|  War       |  69 |\n|  Western   |  85 |\n| Action     |  45 |\n| Adventure  |  88 |\n| Animation  |  71 |\n| Biography  |  93 |\n| Comedy     |  68 |\n| Crime      |  80 |\n| Drama      |  64 |\n| Family     | 100 |\n| Fantasy    |  76 |\n| Film-Noir  | 100 |\n| Horror     |  71 |\n| Mystery    |  96 |\n| Thriller   | 108 |\n| Western    | 132 |\n\n",
            "text/latex": "A tibble: 34 × 2\n\\begin{tabular}{ll}\n Genre & min\\_runtime\\\\\n <chr> & <int>\\\\\n\\hline\n\t  Action    &  76\\\\\n\t  Adventure &  67\\\\\n\t  Biography &  94\\\\\n\t  Comedy    &  45\\\\\n\t  Crime     &  76\\\\\n\t  Drama     &  68\\\\\n\t  Family    &  68\\\\\n\t  Fantasy   &  76\\\\\n\t  Film-Noir &  84\\\\\n\t  History   &  75\\\\\n\t  Horror    &  64\\\\\n\t  Music     &  82\\\\\n\t  Musical   &  69\\\\\n\t  Mystery   &  76\\\\\n\t  Romance   &  45\\\\\n\t  Sci-Fi    &  70\\\\\n\t  Sport     &  89\\\\\n\t  Thriller  &  75\\\\\n\t  War       &  69\\\\\n\t  Western   &  85\\\\\n\t Action     &  45\\\\\n\t Adventure  &  88\\\\\n\t Animation  &  71\\\\\n\t Biography  &  93\\\\\n\t Comedy     &  68\\\\\n\t Crime      &  80\\\\\n\t Drama      &  64\\\\\n\t Family     & 100\\\\\n\t Fantasy    &  76\\\\\n\t Film-Noir  & 100\\\\\n\t Horror     &  71\\\\\n\t Mystery    &  96\\\\\n\t Thriller   & 108\\\\\n\t Western    & 132\\\\\n\\end{tabular}\n",
            "text/plain": [
              "   Genre      min_runtime\n",
              "1   Action     76        \n",
              "2   Adventure  67        \n",
              "3   Biography  94        \n",
              "4   Comedy     45        \n",
              "5   Crime      76        \n",
              "6   Drama      68        \n",
              "7   Family     68        \n",
              "8   Fantasy    76        \n",
              "9   Film-Noir  84        \n",
              "10  History    75        \n",
              "11  Horror     64        \n",
              "12  Music      82        \n",
              "13  Musical    69        \n",
              "14  Mystery    76        \n",
              "15  Romance    45        \n",
              "16  Sci-Fi     70        \n",
              "17  Sport      89        \n",
              "18  Thriller   75        \n",
              "19  War        69        \n",
              "20  Western    85        \n",
              "21 Action      45        \n",
              "22 Adventure   88        \n",
              "23 Animation   71        \n",
              "24 Biography   93        \n",
              "25 Comedy      68        \n",
              "26 Crime       80        \n",
              "27 Drama       64        \n",
              "28 Family     100        \n",
              "29 Fantasy     76        \n",
              "30 Film-Noir  100        \n",
              "31 Horror      71        \n",
              "32 Mystery     96        \n",
              "33 Thriller   108        \n",
              "34 Western    132        "
            ]
          },
          "metadata": {}
        }
      ]
    },
    {
      "cell_type": "code",
      "source": [
        "# Action\t45\n",
        "new_df %>% filter(runtime_numeric == 45)"
      ],
      "metadata": {
        "id": "vPaDN4KuycZr",
        "colab": {
          "base_uri": "https://localhost:8080/",
          "height": 164
        },
        "outputId": "fa5922e9-7d5d-42d0-8c0d-e27c7f554a8b"
      },
      "execution_count": null,
      "outputs": [
        {
          "output_type": "display_data",
          "data": {
            "text/html": [
              "<table class=\"dataframe\">\n",
              "<caption>A data.frame: 1 × 16</caption>\n",
              "<thead>\n",
              "\t<tr><th scope=col>Series_Title</th><th scope=col>Released_Year</th><th scope=col>Certificate</th><th scope=col>Runtime</th><th scope=col>Genre</th><th scope=col>IMDB_Rating</th><th scope=col>Meta_score</th><th scope=col>Director</th><th scope=col>Star1</th><th scope=col>Star2</th><th scope=col>Star3</th><th scope=col>Star4</th><th scope=col>No_of_Votes</th><th scope=col>Gross</th><th scope=col>runtime_numeric</th><th scope=col>runtime_unit</th></tr>\n",
              "\t<tr><th scope=col>&lt;chr&gt;</th><th scope=col>&lt;chr&gt;</th><th scope=col>&lt;chr&gt;</th><th scope=col>&lt;chr&gt;</th><th scope=col>&lt;chr&gt;</th><th scope=col>&lt;dbl&gt;</th><th scope=col>&lt;dbl&gt;</th><th scope=col>&lt;chr&gt;</th><th scope=col>&lt;chr&gt;</th><th scope=col>&lt;chr&gt;</th><th scope=col>&lt;chr&gt;</th><th scope=col>&lt;chr&gt;</th><th scope=col>&lt;int&gt;</th><th scope=col>&lt;chr&gt;</th><th scope=col>&lt;int&gt;</th><th scope=col>&lt;chr&gt;</th></tr>\n",
              "</thead>\n",
              "<tbody>\n",
              "\t<tr><td>Sherlock Jr.</td><td>1924</td><td>Passed</td><td>45 min</td><td>Action, Comedy, Romance</td><td>8.2</td><td>77.97153</td><td>Buster Keaton</td><td>Buster Keaton</td><td>Kathryn McGuire</td><td>Joe Keaton</td><td>Erwin Connelly</td><td>41985</td><td>977,375</td><td>45</td><td>m</td></tr>\n",
              "</tbody>\n",
              "</table>\n"
            ],
            "text/markdown": "\nA data.frame: 1 × 16\n\n| Series_Title &lt;chr&gt; | Released_Year &lt;chr&gt; | Certificate &lt;chr&gt; | Runtime &lt;chr&gt; | Genre &lt;chr&gt; | IMDB_Rating &lt;dbl&gt; | Meta_score &lt;dbl&gt; | Director &lt;chr&gt; | Star1 &lt;chr&gt; | Star2 &lt;chr&gt; | Star3 &lt;chr&gt; | Star4 &lt;chr&gt; | No_of_Votes &lt;int&gt; | Gross &lt;chr&gt; | runtime_numeric &lt;int&gt; | runtime_unit &lt;chr&gt; |\n|---|---|---|---|---|---|---|---|---|---|---|---|---|---|---|---|\n| Sherlock Jr. | 1924 | Passed | 45 min | Action, Comedy, Romance | 8.2 | 77.97153 | Buster Keaton | Buster Keaton | Kathryn McGuire | Joe Keaton | Erwin Connelly | 41985 | 977,375 | 45 | m |\n\n",
            "text/latex": "A data.frame: 1 × 16\n\\begin{tabular}{llllllllllllllll}\n Series\\_Title & Released\\_Year & Certificate & Runtime & Genre & IMDB\\_Rating & Meta\\_score & Director & Star1 & Star2 & Star3 & Star4 & No\\_of\\_Votes & Gross & runtime\\_numeric & runtime\\_unit\\\\\n <chr> & <chr> & <chr> & <chr> & <chr> & <dbl> & <dbl> & <chr> & <chr> & <chr> & <chr> & <chr> & <int> & <chr> & <int> & <chr>\\\\\n\\hline\n\t Sherlock Jr. & 1924 & Passed & 45 min & Action, Comedy, Romance & 8.2 & 77.97153 & Buster Keaton & Buster Keaton & Kathryn McGuire & Joe Keaton & Erwin Connelly & 41985 & 977,375 & 45 & m\\\\\n\\end{tabular}\n",
            "text/plain": [
              "  Series_Title Released_Year Certificate Runtime Genre                  \n",
              "1 Sherlock Jr. 1924          Passed      45 min  Action, Comedy, Romance\n",
              "  IMDB_Rating Meta_score Director      Star1         Star2           Star3     \n",
              "1 8.2         77.97153   Buster Keaton Buster Keaton Kathryn McGuire Joe Keaton\n",
              "  Star4          No_of_Votes Gross   runtime_numeric runtime_unit\n",
              "1 Erwin Connelly 41985       977,375 45              m           "
            ]
          },
          "metadata": {}
        }
      ]
    },
    {
      "cell_type": "markdown",
      "source": [
        "**Movies with IMDB_Rating > 9.0**"
      ],
      "metadata": {
        "id": "zAwMJ7C6yj8e"
      }
    },
    {
      "cell_type": "code",
      "source": [
        "new_df %>% filter(IMDB_Rating > 9.0) %>% select(Series_Title ,Released_Year ,Runtime , \tGenre , \tIMDB_Rating )"
      ],
      "metadata": {
        "id": "EM7wAmdFyccx",
        "colab": {
          "base_uri": "https://localhost:8080/",
          "height": 161
        },
        "outputId": "4591e822-c4a2-436b-f3a9-503db501f33e"
      },
      "execution_count": null,
      "outputs": [
        {
          "output_type": "display_data",
          "data": {
            "text/html": [
              "<table class=\"dataframe\">\n",
              "<caption>A data.frame: 2 × 5</caption>\n",
              "<thead>\n",
              "\t<tr><th scope=col>Series_Title</th><th scope=col>Released_Year</th><th scope=col>Runtime</th><th scope=col>Genre</th><th scope=col>IMDB_Rating</th></tr>\n",
              "\t<tr><th scope=col>&lt;chr&gt;</th><th scope=col>&lt;chr&gt;</th><th scope=col>&lt;chr&gt;</th><th scope=col>&lt;chr&gt;</th><th scope=col>&lt;dbl&gt;</th></tr>\n",
              "</thead>\n",
              "<tbody>\n",
              "\t<tr><td>The Shawshank Redemption</td><td>1994</td><td>142 min</td><td>Drama       </td><td>9.3</td></tr>\n",
              "\t<tr><td>The Godfather           </td><td>1972</td><td>175 min</td><td>Crime, Drama</td><td>9.2</td></tr>\n",
              "</tbody>\n",
              "</table>\n"
            ],
            "text/markdown": "\nA data.frame: 2 × 5\n\n| Series_Title &lt;chr&gt; | Released_Year &lt;chr&gt; | Runtime &lt;chr&gt; | Genre &lt;chr&gt; | IMDB_Rating &lt;dbl&gt; |\n|---|---|---|---|---|\n| The Shawshank Redemption | 1994 | 142 min | Drama        | 9.3 |\n| The Godfather            | 1972 | 175 min | Crime, Drama | 9.2 |\n\n",
            "text/latex": "A data.frame: 2 × 5\n\\begin{tabular}{lllll}\n Series\\_Title & Released\\_Year & Runtime & Genre & IMDB\\_Rating\\\\\n <chr> & <chr> & <chr> & <chr> & <dbl>\\\\\n\\hline\n\t The Shawshank Redemption & 1994 & 142 min & Drama        & 9.3\\\\\n\t The Godfather            & 1972 & 175 min & Crime, Drama & 9.2\\\\\n\\end{tabular}\n",
            "text/plain": [
              "  Series_Title             Released_Year Runtime Genre        IMDB_Rating\n",
              "1 The Shawshank Redemption 1994          142 min Drama        9.3        \n",
              "2 The Godfather            1972          175 min Crime, Drama 9.2        "
            ]
          },
          "metadata": {}
        }
      ]
    },
    {
      "cell_type": "markdown",
      "source": [
        "**Movies with IMDB_Rating < 8.0**"
      ],
      "metadata": {
        "id": "hzlyHQtayp5Q"
      }
    },
    {
      "cell_type": "code",
      "source": [
        "new_df %>% filter(IMDB_Rating < 8.0) %>% select(Series_Title ,Released_Year ,Runtime , \tGenre , \tIMDB_Rating )"
      ],
      "metadata": {
        "id": "kEABxEioycea",
        "colab": {
          "base_uri": "https://localhost:8080/",
          "height": 1000
        },
        "outputId": "0695d0c7-939c-4076-c222-89551d663a92"
      },
      "execution_count": null,
      "outputs": [
        {
          "output_type": "display_data",
          "data": {
            "text/html": [
              "<table class=\"dataframe\">\n",
              "<caption>A data.frame: 537 × 5</caption>\n",
              "<thead>\n",
              "\t<tr><th scope=col>Series_Title</th><th scope=col>Released_Year</th><th scope=col>Runtime</th><th scope=col>Genre</th><th scope=col>IMDB_Rating</th></tr>\n",
              "\t<tr><th scope=col>&lt;chr&gt;</th><th scope=col>&lt;chr&gt;</th><th scope=col>&lt;chr&gt;</th><th scope=col>&lt;chr&gt;</th><th scope=col>&lt;dbl&gt;</th></tr>\n",
              "</thead>\n",
              "<tbody>\n",
              "\t<tr><td>Knives Out                                </td><td>2019</td><td>130 min</td><td>Comedy, Crime, Drama        </td><td>7.9</td></tr>\n",
              "\t<tr><td>Dil Bechara                               </td><td>2020</td><td>101 min</td><td>Comedy, Drama, Romance      </td><td>7.9</td></tr>\n",
              "\t<tr><td>Manbiki kazoku                            </td><td>2018</td><td>121 min</td><td>Crime, Drama                </td><td>7.9</td></tr>\n",
              "\t<tr><td>Marriage Story                            </td><td>2019</td><td>137 min</td><td>Comedy, Drama, Romance      </td><td>7.9</td></tr>\n",
              "\t<tr><td>Call Me by Your Name                      </td><td>2017</td><td>132 min</td><td>Drama, Romance              </td><td>7.9</td></tr>\n",
              "\t<tr><td>I, Daniel Blake                           </td><td>2016</td><td>100 min</td><td>Drama                       </td><td>7.9</td></tr>\n",
              "\t<tr><td>Isle of Dogs                              </td><td>2018</td><td>101 min</td><td>Animation, Adventure, Comedy</td><td>7.9</td></tr>\n",
              "\t<tr><td>Hunt for the Wilderpeople                 </td><td>2016</td><td>101 min</td><td>Adventure, Comedy, Drama    </td><td>7.9</td></tr>\n",
              "\t<tr><td>Captain Fantastic                         </td><td>2016</td><td>118 min</td><td>Comedy, Drama               </td><td>7.9</td></tr>\n",
              "\t<tr><td>Sing Street                               </td><td>2016</td><td>106 min</td><td>Comedy, Drama, Music        </td><td>7.9</td></tr>\n",
              "\t<tr><td>Thor: Ragnarok                            </td><td>2017</td><td>130 min</td><td>Action, Adventure, Comedy   </td><td>7.9</td></tr>\n",
              "\t<tr><td>Nightcrawler                              </td><td>2014</td><td>117 min</td><td>Crime, Drama, Thriller      </td><td>7.9</td></tr>\n",
              "\t<tr><td>Jojo Rabbit                               </td><td>2019</td><td>108 min</td><td>Comedy, Drama, War          </td><td>7.9</td></tr>\n",
              "\t<tr><td>Arrival                                   </td><td>2016</td><td>116 min</td><td>Drama, Sci-Fi               </td><td>7.9</td></tr>\n",
              "\t<tr><td>Star Wars: Episode VII - The Force Awakens</td><td>2015</td><td>138 min</td><td>Action, Adventure, Sci-Fi   </td><td>7.9</td></tr>\n",
              "\t<tr><td>Before Midnight                           </td><td>2013</td><td>109 min</td><td>Drama, Romance              </td><td>7.9</td></tr>\n",
              "\t<tr><td>X-Men: Days of Future Past                </td><td>2014</td><td>132 min</td><td>Action, Adventure, Sci-Fi   </td><td>7.9</td></tr>\n",
              "\t<tr><td>Bir Zamanlar Anadolu'da                   </td><td>2011</td><td>157 min</td><td>Crime, Drama                </td><td>7.9</td></tr>\n",
              "\t<tr><td>The Artist                                </td><td>2011</td><td>100 min</td><td>Comedy, Drama, Romance      </td><td>7.9</td></tr>\n",
              "\t<tr><td>Edge of Tomorrow                          </td><td>2014</td><td>113 min</td><td>Action, Adventure, Sci-Fi   </td><td>7.9</td></tr>\n",
              "\t<tr><td>Amour                                     </td><td>2012</td><td>127 min</td><td>Drama, Romance              </td><td>7.9</td></tr>\n",
              "\t<tr><td>The Irishman                              </td><td>2019</td><td>209 min</td><td>Biography, Crime, Drama     </td><td>7.9</td></tr>\n",
              "\t<tr><td>Un prophète                               </td><td>2009</td><td>155 min</td><td>Crime, Drama                </td><td>7.9</td></tr>\n",
              "\t<tr><td>Moon                                      </td><td>2009</td><td>97 min </td><td>Drama, Mystery, Sci-Fi      </td><td>7.9</td></tr>\n",
              "\t<tr><td>Låt den rätte komma in                    </td><td>2008</td><td>114 min</td><td>Crime, Drama, Fantasy       </td><td>7.9</td></tr>\n",
              "\t<tr><td>District 9                                </td><td>2009</td><td>112 min</td><td>Action, Sci-Fi, Thriller    </td><td>7.9</td></tr>\n",
              "\t<tr><td>The Wrestler                              </td><td>2008</td><td>109 min</td><td>Drama, Sport                </td><td>7.9</td></tr>\n",
              "\t<tr><td>Jab We Met                                </td><td>2007</td><td>138 min</td><td>Comedy, Drama, Romance      </td><td>7.9</td></tr>\n",
              "\t<tr><td>Boyhood                                   </td><td>2014</td><td>165 min</td><td>Drama                       </td><td>7.9</td></tr>\n",
              "\t<tr><td>4 luni, 3 saptamâni si 2 zile             </td><td>2007</td><td>113 min</td><td>Drama                       </td><td>7.9</td></tr>\n",
              "\t<tr><td>⋮</td><td>⋮</td><td>⋮</td><td>⋮</td><td>⋮</td></tr>\n",
              "\t<tr><td>My Cousin Vinny                               </td><td>1992</td><td>120 min</td><td>Comedy, Crime               </td><td>7.6</td></tr>\n",
              "\t<tr><td>Omohide poro poro                             </td><td>1991</td><td>118 min</td><td>Animation, Drama, Romance   </td><td>7.6</td></tr>\n",
              "\t<tr><td>Delicatessen                                  </td><td>1991</td><td>99 min </td><td>Comedy, Crime               </td><td>7.6</td></tr>\n",
              "\t<tr><td>Home Alone                                    </td><td>1990</td><td>103 min</td><td>Comedy, Family              </td><td>7.6</td></tr>\n",
              "\t<tr><td>The Godfather: Part III                       </td><td>1990</td><td>162 min</td><td>Crime, Drama                </td><td>7.6</td></tr>\n",
              "\t<tr><td>When Harry Met Sally...                       </td><td>1989</td><td>95 min </td><td>Comedy, Drama, Romance      </td><td>7.6</td></tr>\n",
              "\t<tr><td>The Little Mermaid                            </td><td>1989</td><td>83 min </td><td>Animation, Family, Fantasy  </td><td>7.6</td></tr>\n",
              "\t<tr><td>The Naked Gun: From the Files of Police Squad!</td><td>1988</td><td>85 min </td><td>Comedy, Crime               </td><td>7.6</td></tr>\n",
              "\t<tr><td><span style=white-space:pre-wrap>Planes, Trains &amp; Automobiles                  </span></td><td>1987</td><td>93 min </td><td><span style=white-space:pre-wrap>Comedy, Drama               </span></td><td>7.6</td></tr>\n",
              "\t<tr><td>Lethal Weapon                                 </td><td>1987</td><td>109 min</td><td>Action, Crime, Thriller     </td><td>7.6</td></tr>\n",
              "\t<tr><td>Blood Simple                                  </td><td>1984</td><td>99 min </td><td>Crime, Drama, Thriller      </td><td>7.6</td></tr>\n",
              "\t<tr><td>On Golden Pond                                </td><td>1981</td><td>109 min</td><td>Drama                       </td><td>7.6</td></tr>\n",
              "\t<tr><td>Mad Max 2                                     </td><td>1981</td><td>96 min </td><td>Action, Adventure, Sci-Fi   </td><td>7.6</td></tr>\n",
              "\t<tr><td>The Warriors                                  </td><td>1979</td><td>92 min </td><td>Action, Crime, Thriller     </td><td>7.6</td></tr>\n",
              "\t<tr><td>The Muppet Movie                              </td><td>1979</td><td>95 min </td><td>Adventure, Comedy, Family   </td><td>7.6</td></tr>\n",
              "\t<tr><td>Escape from Alcatraz                          </td><td>1979</td><td>112 min</td><td>Action, Biography, Crime    </td><td>7.6</td></tr>\n",
              "\t<tr><td>Watership Down                                </td><td>1978</td><td>91 min </td><td>Animation, Adventure, Drama </td><td>7.6</td></tr>\n",
              "\t<tr><td>Midnight Express                              </td><td>1978</td><td>121 min</td><td>Biography, Crime, Drama     </td><td>7.6</td></tr>\n",
              "\t<tr><td>Close Encounters of the Third Kind            </td><td>1977</td><td>138 min</td><td>Drama, Sci-Fi               </td><td>7.6</td></tr>\n",
              "\t<tr><td>The Long Goodbye                              </td><td>1973</td><td>112 min</td><td>Comedy, Crime, Drama        </td><td>7.6</td></tr>\n",
              "\t<tr><td>Giù la testa                                  </td><td>1971</td><td>157 min</td><td>Drama, War, Western         </td><td>7.6</td></tr>\n",
              "\t<tr><td>Kelly's Heroes                                </td><td>1970</td><td>144 min</td><td>Adventure, Comedy, War      </td><td>7.6</td></tr>\n",
              "\t<tr><td>The Jungle Book                               </td><td>1967</td><td>78 min </td><td>Animation, Adventure, Family</td><td>7.6</td></tr>\n",
              "\t<tr><td>Blowup                                        </td><td>1966</td><td>111 min</td><td>Drama, Mystery, Thriller    </td><td>7.6</td></tr>\n",
              "\t<tr><td>A Hard Day's Night                            </td><td>1964</td><td>87 min </td><td>Comedy, Music, Musical      </td><td>7.6</td></tr>\n",
              "\t<tr><td>Breakfast at Tiffany's                        </td><td>1961</td><td>115 min</td><td>Comedy, Drama, Romance      </td><td>7.6</td></tr>\n",
              "\t<tr><td>Giant                                         </td><td>1956</td><td>201 min</td><td>Drama, Western              </td><td>7.6</td></tr>\n",
              "\t<tr><td>From Here to Eternity                         </td><td>1953</td><td>118 min</td><td>Drama, Romance, War         </td><td>7.6</td></tr>\n",
              "\t<tr><td>Lifeboat                                      </td><td>1944</td><td>97 min </td><td>Drama, War                  </td><td>7.6</td></tr>\n",
              "\t<tr><td>The 39 Steps                                  </td><td>1935</td><td>86 min </td><td>Crime, Mystery, Thriller    </td><td>7.6</td></tr>\n",
              "</tbody>\n",
              "</table>\n"
            ],
            "text/markdown": "\nA data.frame: 537 × 5\n\n| Series_Title &lt;chr&gt; | Released_Year &lt;chr&gt; | Runtime &lt;chr&gt; | Genre &lt;chr&gt; | IMDB_Rating &lt;dbl&gt; |\n|---|---|---|---|---|\n| Knives Out                                 | 2019 | 130 min | Comedy, Crime, Drama         | 7.9 |\n| Dil Bechara                                | 2020 | 101 min | Comedy, Drama, Romance       | 7.9 |\n| Manbiki kazoku                             | 2018 | 121 min | Crime, Drama                 | 7.9 |\n| Marriage Story                             | 2019 | 137 min | Comedy, Drama, Romance       | 7.9 |\n| Call Me by Your Name                       | 2017 | 132 min | Drama, Romance               | 7.9 |\n| I, Daniel Blake                            | 2016 | 100 min | Drama                        | 7.9 |\n| Isle of Dogs                               | 2018 | 101 min | Animation, Adventure, Comedy | 7.9 |\n| Hunt for the Wilderpeople                  | 2016 | 101 min | Adventure, Comedy, Drama     | 7.9 |\n| Captain Fantastic                          | 2016 | 118 min | Comedy, Drama                | 7.9 |\n| Sing Street                                | 2016 | 106 min | Comedy, Drama, Music         | 7.9 |\n| Thor: Ragnarok                             | 2017 | 130 min | Action, Adventure, Comedy    | 7.9 |\n| Nightcrawler                               | 2014 | 117 min | Crime, Drama, Thriller       | 7.9 |\n| Jojo Rabbit                                | 2019 | 108 min | Comedy, Drama, War           | 7.9 |\n| Arrival                                    | 2016 | 116 min | Drama, Sci-Fi                | 7.9 |\n| Star Wars: Episode VII - The Force Awakens | 2015 | 138 min | Action, Adventure, Sci-Fi    | 7.9 |\n| Before Midnight                            | 2013 | 109 min | Drama, Romance               | 7.9 |\n| X-Men: Days of Future Past                 | 2014 | 132 min | Action, Adventure, Sci-Fi    | 7.9 |\n| Bir Zamanlar Anadolu'da                    | 2011 | 157 min | Crime, Drama                 | 7.9 |\n| The Artist                                 | 2011 | 100 min | Comedy, Drama, Romance       | 7.9 |\n| Edge of Tomorrow                           | 2014 | 113 min | Action, Adventure, Sci-Fi    | 7.9 |\n| Amour                                      | 2012 | 127 min | Drama, Romance               | 7.9 |\n| The Irishman                               | 2019 | 209 min | Biography, Crime, Drama      | 7.9 |\n| Un prophète                                | 2009 | 155 min | Crime, Drama                 | 7.9 |\n| Moon                                       | 2009 | 97 min  | Drama, Mystery, Sci-Fi       | 7.9 |\n| Låt den rätte komma in                     | 2008 | 114 min | Crime, Drama, Fantasy        | 7.9 |\n| District 9                                 | 2009 | 112 min | Action, Sci-Fi, Thriller     | 7.9 |\n| The Wrestler                               | 2008 | 109 min | Drama, Sport                 | 7.9 |\n| Jab We Met                                 | 2007 | 138 min | Comedy, Drama, Romance       | 7.9 |\n| Boyhood                                    | 2014 | 165 min | Drama                        | 7.9 |\n| 4 luni, 3 saptamâni si 2 zile              | 2007 | 113 min | Drama                        | 7.9 |\n| ⋮ | ⋮ | ⋮ | ⋮ | ⋮ |\n| My Cousin Vinny                                | 1992 | 120 min | Comedy, Crime                | 7.6 |\n| Omohide poro poro                              | 1991 | 118 min | Animation, Drama, Romance    | 7.6 |\n| Delicatessen                                   | 1991 | 99 min  | Comedy, Crime                | 7.6 |\n| Home Alone                                     | 1990 | 103 min | Comedy, Family               | 7.6 |\n| The Godfather: Part III                        | 1990 | 162 min | Crime, Drama                 | 7.6 |\n| When Harry Met Sally...                        | 1989 | 95 min  | Comedy, Drama, Romance       | 7.6 |\n| The Little Mermaid                             | 1989 | 83 min  | Animation, Family, Fantasy   | 7.6 |\n| The Naked Gun: From the Files of Police Squad! | 1988 | 85 min  | Comedy, Crime                | 7.6 |\n| Planes, Trains &amp; Automobiles                   | 1987 | 93 min  | Comedy, Drama                | 7.6 |\n| Lethal Weapon                                  | 1987 | 109 min | Action, Crime, Thriller      | 7.6 |\n| Blood Simple                                   | 1984 | 99 min  | Crime, Drama, Thriller       | 7.6 |\n| On Golden Pond                                 | 1981 | 109 min | Drama                        | 7.6 |\n| Mad Max 2                                      | 1981 | 96 min  | Action, Adventure, Sci-Fi    | 7.6 |\n| The Warriors                                   | 1979 | 92 min  | Action, Crime, Thriller      | 7.6 |\n| The Muppet Movie                               | 1979 | 95 min  | Adventure, Comedy, Family    | 7.6 |\n| Escape from Alcatraz                           | 1979 | 112 min | Action, Biography, Crime     | 7.6 |\n| Watership Down                                 | 1978 | 91 min  | Animation, Adventure, Drama  | 7.6 |\n| Midnight Express                               | 1978 | 121 min | Biography, Crime, Drama      | 7.6 |\n| Close Encounters of the Third Kind             | 1977 | 138 min | Drama, Sci-Fi                | 7.6 |\n| The Long Goodbye                               | 1973 | 112 min | Comedy, Crime, Drama         | 7.6 |\n| Giù la testa                                   | 1971 | 157 min | Drama, War, Western          | 7.6 |\n| Kelly's Heroes                                 | 1970 | 144 min | Adventure, Comedy, War       | 7.6 |\n| The Jungle Book                                | 1967 | 78 min  | Animation, Adventure, Family | 7.6 |\n| Blowup                                         | 1966 | 111 min | Drama, Mystery, Thriller     | 7.6 |\n| A Hard Day's Night                             | 1964 | 87 min  | Comedy, Music, Musical       | 7.6 |\n| Breakfast at Tiffany's                         | 1961 | 115 min | Comedy, Drama, Romance       | 7.6 |\n| Giant                                          | 1956 | 201 min | Drama, Western               | 7.6 |\n| From Here to Eternity                          | 1953 | 118 min | Drama, Romance, War          | 7.6 |\n| Lifeboat                                       | 1944 | 97 min  | Drama, War                   | 7.6 |\n| The 39 Steps                                   | 1935 | 86 min  | Crime, Mystery, Thriller     | 7.6 |\n\n",
            "text/latex": "A data.frame: 537 × 5\n\\begin{tabular}{lllll}\n Series\\_Title & Released\\_Year & Runtime & Genre & IMDB\\_Rating\\\\\n <chr> & <chr> & <chr> & <chr> & <dbl>\\\\\n\\hline\n\t Knives Out                                 & 2019 & 130 min & Comedy, Crime, Drama         & 7.9\\\\\n\t Dil Bechara                                & 2020 & 101 min & Comedy, Drama, Romance       & 7.9\\\\\n\t Manbiki kazoku                             & 2018 & 121 min & Crime, Drama                 & 7.9\\\\\n\t Marriage Story                             & 2019 & 137 min & Comedy, Drama, Romance       & 7.9\\\\\n\t Call Me by Your Name                       & 2017 & 132 min & Drama, Romance               & 7.9\\\\\n\t I, Daniel Blake                            & 2016 & 100 min & Drama                        & 7.9\\\\\n\t Isle of Dogs                               & 2018 & 101 min & Animation, Adventure, Comedy & 7.9\\\\\n\t Hunt for the Wilderpeople                  & 2016 & 101 min & Adventure, Comedy, Drama     & 7.9\\\\\n\t Captain Fantastic                          & 2016 & 118 min & Comedy, Drama                & 7.9\\\\\n\t Sing Street                                & 2016 & 106 min & Comedy, Drama, Music         & 7.9\\\\\n\t Thor: Ragnarok                             & 2017 & 130 min & Action, Adventure, Comedy    & 7.9\\\\\n\t Nightcrawler                               & 2014 & 117 min & Crime, Drama, Thriller       & 7.9\\\\\n\t Jojo Rabbit                                & 2019 & 108 min & Comedy, Drama, War           & 7.9\\\\\n\t Arrival                                    & 2016 & 116 min & Drama, Sci-Fi                & 7.9\\\\\n\t Star Wars: Episode VII - The Force Awakens & 2015 & 138 min & Action, Adventure, Sci-Fi    & 7.9\\\\\n\t Before Midnight                            & 2013 & 109 min & Drama, Romance               & 7.9\\\\\n\t X-Men: Days of Future Past                 & 2014 & 132 min & Action, Adventure, Sci-Fi    & 7.9\\\\\n\t Bir Zamanlar Anadolu'da                    & 2011 & 157 min & Crime, Drama                 & 7.9\\\\\n\t The Artist                                 & 2011 & 100 min & Comedy, Drama, Romance       & 7.9\\\\\n\t Edge of Tomorrow                           & 2014 & 113 min & Action, Adventure, Sci-Fi    & 7.9\\\\\n\t Amour                                      & 2012 & 127 min & Drama, Romance               & 7.9\\\\\n\t The Irishman                               & 2019 & 209 min & Biography, Crime, Drama      & 7.9\\\\\n\t Un prophète                                & 2009 & 155 min & Crime, Drama                 & 7.9\\\\\n\t Moon                                       & 2009 & 97 min  & Drama, Mystery, Sci-Fi       & 7.9\\\\\n\t Låt den rätte komma in                     & 2008 & 114 min & Crime, Drama, Fantasy        & 7.9\\\\\n\t District 9                                 & 2009 & 112 min & Action, Sci-Fi, Thriller     & 7.9\\\\\n\t The Wrestler                               & 2008 & 109 min & Drama, Sport                 & 7.9\\\\\n\t Jab We Met                                 & 2007 & 138 min & Comedy, Drama, Romance       & 7.9\\\\\n\t Boyhood                                    & 2014 & 165 min & Drama                        & 7.9\\\\\n\t 4 luni, 3 saptamâni si 2 zile              & 2007 & 113 min & Drama                        & 7.9\\\\\n\t ⋮ & ⋮ & ⋮ & ⋮ & ⋮\\\\\n\t My Cousin Vinny                                & 1992 & 120 min & Comedy, Crime                & 7.6\\\\\n\t Omohide poro poro                              & 1991 & 118 min & Animation, Drama, Romance    & 7.6\\\\\n\t Delicatessen                                   & 1991 & 99 min  & Comedy, Crime                & 7.6\\\\\n\t Home Alone                                     & 1990 & 103 min & Comedy, Family               & 7.6\\\\\n\t The Godfather: Part III                        & 1990 & 162 min & Crime, Drama                 & 7.6\\\\\n\t When Harry Met Sally...                        & 1989 & 95 min  & Comedy, Drama, Romance       & 7.6\\\\\n\t The Little Mermaid                             & 1989 & 83 min  & Animation, Family, Fantasy   & 7.6\\\\\n\t The Naked Gun: From the Files of Police Squad! & 1988 & 85 min  & Comedy, Crime                & 7.6\\\\\n\t Planes, Trains \\& Automobiles                   & 1987 & 93 min  & Comedy, Drama                & 7.6\\\\\n\t Lethal Weapon                                  & 1987 & 109 min & Action, Crime, Thriller      & 7.6\\\\\n\t Blood Simple                                   & 1984 & 99 min  & Crime, Drama, Thriller       & 7.6\\\\\n\t On Golden Pond                                 & 1981 & 109 min & Drama                        & 7.6\\\\\n\t Mad Max 2                                      & 1981 & 96 min  & Action, Adventure, Sci-Fi    & 7.6\\\\\n\t The Warriors                                   & 1979 & 92 min  & Action, Crime, Thriller      & 7.6\\\\\n\t The Muppet Movie                               & 1979 & 95 min  & Adventure, Comedy, Family    & 7.6\\\\\n\t Escape from Alcatraz                           & 1979 & 112 min & Action, Biography, Crime     & 7.6\\\\\n\t Watership Down                                 & 1978 & 91 min  & Animation, Adventure, Drama  & 7.6\\\\\n\t Midnight Express                               & 1978 & 121 min & Biography, Crime, Drama      & 7.6\\\\\n\t Close Encounters of the Third Kind             & 1977 & 138 min & Drama, Sci-Fi                & 7.6\\\\\n\t The Long Goodbye                               & 1973 & 112 min & Comedy, Crime, Drama         & 7.6\\\\\n\t Giù la testa                                   & 1971 & 157 min & Drama, War, Western          & 7.6\\\\\n\t Kelly's Heroes                                 & 1970 & 144 min & Adventure, Comedy, War       & 7.6\\\\\n\t The Jungle Book                                & 1967 & 78 min  & Animation, Adventure, Family & 7.6\\\\\n\t Blowup                                         & 1966 & 111 min & Drama, Mystery, Thriller     & 7.6\\\\\n\t A Hard Day's Night                             & 1964 & 87 min  & Comedy, Music, Musical       & 7.6\\\\\n\t Breakfast at Tiffany's                         & 1961 & 115 min & Comedy, Drama, Romance       & 7.6\\\\\n\t Giant                                          & 1956 & 201 min & Drama, Western               & 7.6\\\\\n\t From Here to Eternity                          & 1953 & 118 min & Drama, Romance, War          & 7.6\\\\\n\t Lifeboat                                       & 1944 & 97 min  & Drama, War                   & 7.6\\\\\n\t The 39 Steps                                   & 1935 & 86 min  & Crime, Mystery, Thriller     & 7.6\\\\\n\\end{tabular}\n",
            "text/plain": [
              "    Series_Title                                   Released_Year Runtime\n",
              "1   Knives Out                                     2019          130 min\n",
              "2   Dil Bechara                                    2020          101 min\n",
              "3   Manbiki kazoku                                 2018          121 min\n",
              "4   Marriage Story                                 2019          137 min\n",
              "5   Call Me by Your Name                           2017          132 min\n",
              "6   I, Daniel Blake                                2016          100 min\n",
              "7   Isle of Dogs                                   2018          101 min\n",
              "8   Hunt for the Wilderpeople                      2016          101 min\n",
              "9   Captain Fantastic                              2016          118 min\n",
              "10  Sing Street                                    2016          106 min\n",
              "11  Thor: Ragnarok                                 2017          130 min\n",
              "12  Nightcrawler                                   2014          117 min\n",
              "13  Jojo Rabbit                                    2019          108 min\n",
              "14  Arrival                                        2016          116 min\n",
              "15  Star Wars: Episode VII - The Force Awakens     2015          138 min\n",
              "16  Before Midnight                                2013          109 min\n",
              "17  X-Men: Days of Future Past                     2014          132 min\n",
              "18  Bir Zamanlar Anadolu'da                        2011          157 min\n",
              "19  The Artist                                     2011          100 min\n",
              "20  Edge of Tomorrow                               2014          113 min\n",
              "21  Amour                                          2012          127 min\n",
              "22  The Irishman                                   2019          209 min\n",
              "23  Un prophète                                    2009          155 min\n",
              "24  Moon                                           2009          97 min \n",
              "25  Låt den rätte komma in                         2008          114 min\n",
              "26  District 9                                     2009          112 min\n",
              "27  The Wrestler                                   2008          109 min\n",
              "28  Jab We Met                                     2007          138 min\n",
              "29  Boyhood                                        2014          165 min\n",
              "30  4 luni, 3 saptamâni si 2 zile                  2007          113 min\n",
              "⋮   ⋮                                              ⋮             ⋮      \n",
              "508 My Cousin Vinny                                1992          120 min\n",
              "509 Omohide poro poro                              1991          118 min\n",
              "510 Delicatessen                                   1991          99 min \n",
              "511 Home Alone                                     1990          103 min\n",
              "512 The Godfather: Part III                        1990          162 min\n",
              "513 When Harry Met Sally...                        1989          95 min \n",
              "514 The Little Mermaid                             1989          83 min \n",
              "515 The Naked Gun: From the Files of Police Squad! 1988          85 min \n",
              "516 Planes, Trains & Automobiles                   1987          93 min \n",
              "517 Lethal Weapon                                  1987          109 min\n",
              "518 Blood Simple                                   1984          99 min \n",
              "519 On Golden Pond                                 1981          109 min\n",
              "520 Mad Max 2                                      1981          96 min \n",
              "521 The Warriors                                   1979          92 min \n",
              "522 The Muppet Movie                               1979          95 min \n",
              "523 Escape from Alcatraz                           1979          112 min\n",
              "524 Watership Down                                 1978          91 min \n",
              "525 Midnight Express                               1978          121 min\n",
              "526 Close Encounters of the Third Kind             1977          138 min\n",
              "527 The Long Goodbye                               1973          112 min\n",
              "528 Giù la testa                                   1971          157 min\n",
              "529 Kelly's Heroes                                 1970          144 min\n",
              "530 The Jungle Book                                1967          78 min \n",
              "531 Blowup                                         1966          111 min\n",
              "532 A Hard Day's Night                             1964          87 min \n",
              "533 Breakfast at Tiffany's                         1961          115 min\n",
              "534 Giant                                          1956          201 min\n",
              "535 From Here to Eternity                          1953          118 min\n",
              "536 Lifeboat                                       1944          97 min \n",
              "537 The 39 Steps                                   1935          86 min \n",
              "    Genre                        IMDB_Rating\n",
              "1   Comedy, Crime, Drama         7.9        \n",
              "2   Comedy, Drama, Romance       7.9        \n",
              "3   Crime, Drama                 7.9        \n",
              "4   Comedy, Drama, Romance       7.9        \n",
              "5   Drama, Romance               7.9        \n",
              "6   Drama                        7.9        \n",
              "7   Animation, Adventure, Comedy 7.9        \n",
              "8   Adventure, Comedy, Drama     7.9        \n",
              "9   Comedy, Drama                7.9        \n",
              "10  Comedy, Drama, Music         7.9        \n",
              "11  Action, Adventure, Comedy    7.9        \n",
              "12  Crime, Drama, Thriller       7.9        \n",
              "13  Comedy, Drama, War           7.9        \n",
              "14  Drama, Sci-Fi                7.9        \n",
              "15  Action, Adventure, Sci-Fi    7.9        \n",
              "16  Drama, Romance               7.9        \n",
              "17  Action, Adventure, Sci-Fi    7.9        \n",
              "18  Crime, Drama                 7.9        \n",
              "19  Comedy, Drama, Romance       7.9        \n",
              "20  Action, Adventure, Sci-Fi    7.9        \n",
              "21  Drama, Romance               7.9        \n",
              "22  Biography, Crime, Drama      7.9        \n",
              "23  Crime, Drama                 7.9        \n",
              "24  Drama, Mystery, Sci-Fi       7.9        \n",
              "25  Crime, Drama, Fantasy        7.9        \n",
              "26  Action, Sci-Fi, Thriller     7.9        \n",
              "27  Drama, Sport                 7.9        \n",
              "28  Comedy, Drama, Romance       7.9        \n",
              "29  Drama                        7.9        \n",
              "30  Drama                        7.9        \n",
              "⋮   ⋮                            ⋮          \n",
              "508 Comedy, Crime                7.6        \n",
              "509 Animation, Drama, Romance    7.6        \n",
              "510 Comedy, Crime                7.6        \n",
              "511 Comedy, Family               7.6        \n",
              "512 Crime, Drama                 7.6        \n",
              "513 Comedy, Drama, Romance       7.6        \n",
              "514 Animation, Family, Fantasy   7.6        \n",
              "515 Comedy, Crime                7.6        \n",
              "516 Comedy, Drama                7.6        \n",
              "517 Action, Crime, Thriller      7.6        \n",
              "518 Crime, Drama, Thriller       7.6        \n",
              "519 Drama                        7.6        \n",
              "520 Action, Adventure, Sci-Fi    7.6        \n",
              "521 Action, Crime, Thriller      7.6        \n",
              "522 Adventure, Comedy, Family    7.6        \n",
              "523 Action, Biography, Crime     7.6        \n",
              "524 Animation, Adventure, Drama  7.6        \n",
              "525 Biography, Crime, Drama      7.6        \n",
              "526 Drama, Sci-Fi                7.6        \n",
              "527 Comedy, Crime, Drama         7.6        \n",
              "528 Drama, War, Western          7.6        \n",
              "529 Adventure, Comedy, War       7.6        \n",
              "530 Animation, Adventure, Family 7.6        \n",
              "531 Drama, Mystery, Thriller     7.6        \n",
              "532 Comedy, Music, Musical       7.6        \n",
              "533 Comedy, Drama, Romance       7.6        \n",
              "534 Drama, Western               7.6        \n",
              "535 Drama, Romance, War          7.6        \n",
              "536 Drama, War                   7.6        \n",
              "537 Crime, Mystery, Thriller     7.6        "
            ]
          },
          "metadata": {}
        }
      ]
    },
    {
      "cell_type": "code",
      "source": [
        "sample_n(new_df ,5)"
      ],
      "metadata": {
        "id": "l7pvb3sIycht"
      },
      "execution_count": null,
      "outputs": []
    },
    {
      "cell_type": "markdown",
      "source": [
        "**Director**"
      ],
      "metadata": {
        "id": "2qe1fzAoyxPO"
      }
    },
    {
      "cell_type": "code",
      "source": [
        "new_df %>% filter(Director == \"Zoya Akhtar\")"
      ],
      "metadata": {
        "id": "YxWKSI6yycjk",
        "colab": {
          "base_uri": "https://localhost:8080/",
          "height": 213
        },
        "outputId": "02f6ac7f-1495-4c9a-a75b-1bbe5fc9622b"
      },
      "execution_count": null,
      "outputs": [
        {
          "output_type": "display_data",
          "data": {
            "text/html": [
              "<table class=\"dataframe\">\n",
              "<caption>A data.frame: 2 × 16</caption>\n",
              "<thead>\n",
              "\t<tr><th scope=col>Series_Title</th><th scope=col>Released_Year</th><th scope=col>Certificate</th><th scope=col>Runtime</th><th scope=col>Genre</th><th scope=col>IMDB_Rating</th><th scope=col>Meta_score</th><th scope=col>Director</th><th scope=col>Star1</th><th scope=col>Star2</th><th scope=col>Star3</th><th scope=col>Star4</th><th scope=col>No_of_Votes</th><th scope=col>Gross</th><th scope=col>runtime_numeric</th><th scope=col>runtime_unit</th></tr>\n",
              "\t<tr><th scope=col>&lt;chr&gt;</th><th scope=col>&lt;chr&gt;</th><th scope=col>&lt;chr&gt;</th><th scope=col>&lt;chr&gt;</th><th scope=col>&lt;chr&gt;</th><th scope=col>&lt;dbl&gt;</th><th scope=col>&lt;dbl&gt;</th><th scope=col>&lt;chr&gt;</th><th scope=col>&lt;chr&gt;</th><th scope=col>&lt;chr&gt;</th><th scope=col>&lt;chr&gt;</th><th scope=col>&lt;chr&gt;</th><th scope=col>&lt;int&gt;</th><th scope=col>&lt;chr&gt;</th><th scope=col>&lt;int&gt;</th><th scope=col>&lt;chr&gt;</th></tr>\n",
              "</thead>\n",
              "<tbody>\n",
              "\t<tr><td>Zindagi Na Milegi Dobara</td><td>2011</td><td>U </td><td>155 min</td><td>Comedy, Drama        </td><td>8.1</td><td>77.97153</td><td>Zoya Akhtar</td><td>Hrithik Roshan</td><td>Farhan Akhtar      </td><td>Abhay Deol   </td><td>Katrina Kaif</td><td>67927</td><td>3,108,485</td><td>155</td><td>m</td></tr>\n",
              "\t<tr><td>Gully Boy               </td><td>2019</td><td>UA</td><td>154 min</td><td>Drama, Music, Romance</td><td>8.0</td><td>65.00000</td><td>Zoya Akhtar</td><td>Vijay Varma   </td><td>Nakul Roshan Sahdev</td><td>Ranveer Singh</td><td>Vijay Raaz  </td><td>31886</td><td>5,566,534</td><td>154</td><td>m</td></tr>\n",
              "</tbody>\n",
              "</table>\n"
            ],
            "text/markdown": "\nA data.frame: 2 × 16\n\n| Series_Title &lt;chr&gt; | Released_Year &lt;chr&gt; | Certificate &lt;chr&gt; | Runtime &lt;chr&gt; | Genre &lt;chr&gt; | IMDB_Rating &lt;dbl&gt; | Meta_score &lt;dbl&gt; | Director &lt;chr&gt; | Star1 &lt;chr&gt; | Star2 &lt;chr&gt; | Star3 &lt;chr&gt; | Star4 &lt;chr&gt; | No_of_Votes &lt;int&gt; | Gross &lt;chr&gt; | runtime_numeric &lt;int&gt; | runtime_unit &lt;chr&gt; |\n|---|---|---|---|---|---|---|---|---|---|---|---|---|---|---|---|\n| Zindagi Na Milegi Dobara | 2011 | U  | 155 min | Comedy, Drama         | 8.1 | 77.97153 | Zoya Akhtar | Hrithik Roshan | Farhan Akhtar       | Abhay Deol    | Katrina Kaif | 67927 | 3,108,485 | 155 | m |\n| Gully Boy                | 2019 | UA | 154 min | Drama, Music, Romance | 8.0 | 65.00000 | Zoya Akhtar | Vijay Varma    | Nakul Roshan Sahdev | Ranveer Singh | Vijay Raaz   | 31886 | 5,566,534 | 154 | m |\n\n",
            "text/latex": "A data.frame: 2 × 16\n\\begin{tabular}{llllllllllllllll}\n Series\\_Title & Released\\_Year & Certificate & Runtime & Genre & IMDB\\_Rating & Meta\\_score & Director & Star1 & Star2 & Star3 & Star4 & No\\_of\\_Votes & Gross & runtime\\_numeric & runtime\\_unit\\\\\n <chr> & <chr> & <chr> & <chr> & <chr> & <dbl> & <dbl> & <chr> & <chr> & <chr> & <chr> & <chr> & <int> & <chr> & <int> & <chr>\\\\\n\\hline\n\t Zindagi Na Milegi Dobara & 2011 & U  & 155 min & Comedy, Drama         & 8.1 & 77.97153 & Zoya Akhtar & Hrithik Roshan & Farhan Akhtar       & Abhay Deol    & Katrina Kaif & 67927 & 3,108,485 & 155 & m\\\\\n\t Gully Boy                & 2019 & UA & 154 min & Drama, Music, Romance & 8.0 & 65.00000 & Zoya Akhtar & Vijay Varma    & Nakul Roshan Sahdev & Ranveer Singh & Vijay Raaz   & 31886 & 5,566,534 & 154 & m\\\\\n\\end{tabular}\n",
            "text/plain": [
              "  Series_Title             Released_Year Certificate Runtime\n",
              "1 Zindagi Na Milegi Dobara 2011          U           155 min\n",
              "2 Gully Boy                2019          UA          154 min\n",
              "  Genre                 IMDB_Rating Meta_score Director    Star1         \n",
              "1 Comedy, Drama         8.1         77.97153   Zoya Akhtar Hrithik Roshan\n",
              "2 Drama, Music, Romance 8.0         65.00000   Zoya Akhtar Vijay Varma   \n",
              "  Star2               Star3         Star4        No_of_Votes Gross    \n",
              "1 Farhan Akhtar       Abhay Deol    Katrina Kaif 67927       3,108,485\n",
              "2 Nakul Roshan Sahdev Ranveer Singh Vijay Raaz   31886       5,566,534\n",
              "  runtime_numeric runtime_unit\n",
              "1 155             m           \n",
              "2 154             m           "
            ]
          },
          "metadata": {}
        }
      ]
    },
    {
      "cell_type": "code",
      "source": [
        "new_df %>% filter(Director == \"Rajkumar Hirani\")"
      ],
      "metadata": {
        "id": "-OYjs7Gcycmt",
        "colab": {
          "base_uri": "https://localhost:8080/",
          "height": 345
        },
        "outputId": "45ab0012-cd2e-43fe-d507-4e80bcb49c3a"
      },
      "execution_count": null,
      "outputs": [
        {
          "output_type": "display_data",
          "data": {
            "text/html": [
              "<table class=\"dataframe\">\n",
              "<caption>A data.frame: 4 × 16</caption>\n",
              "<thead>\n",
              "\t<tr><th scope=col>Series_Title</th><th scope=col>Released_Year</th><th scope=col>Certificate</th><th scope=col>Runtime</th><th scope=col>Genre</th><th scope=col>IMDB_Rating</th><th scope=col>Meta_score</th><th scope=col>Director</th><th scope=col>Star1</th><th scope=col>Star2</th><th scope=col>Star3</th><th scope=col>Star4</th><th scope=col>No_of_Votes</th><th scope=col>Gross</th><th scope=col>runtime_numeric</th><th scope=col>runtime_unit</th></tr>\n",
              "\t<tr><th scope=col>&lt;chr&gt;</th><th scope=col>&lt;chr&gt;</th><th scope=col>&lt;chr&gt;</th><th scope=col>&lt;chr&gt;</th><th scope=col>&lt;chr&gt;</th><th scope=col>&lt;dbl&gt;</th><th scope=col>&lt;dbl&gt;</th><th scope=col>&lt;chr&gt;</th><th scope=col>&lt;chr&gt;</th><th scope=col>&lt;chr&gt;</th><th scope=col>&lt;chr&gt;</th><th scope=col>&lt;chr&gt;</th><th scope=col>&lt;int&gt;</th><th scope=col>&lt;chr&gt;</th><th scope=col>&lt;int&gt;</th><th scope=col>&lt;chr&gt;</th></tr>\n",
              "</thead>\n",
              "<tbody>\n",
              "\t<tr><td>3 Idiots            </td><td>2009</td><td>UA</td><td>170 min</td><td>Comedy, Drama         </td><td>8.4</td><td>67.00000</td><td>Rajkumar Hirani</td><td>Aamir Khan </td><td>Madhavan      </td><td>Mona Singh </td><td>Sharman Joshi</td><td>344445</td><td>6,532,908 </td><td>170</td><td>m</td></tr>\n",
              "\t<tr><td>PK                  </td><td>2014</td><td>UA</td><td>153 min</td><td>Comedy, Drama, Musical</td><td>8.1</td><td>77.97153</td><td>Rajkumar Hirani</td><td>Aamir Khan </td><td>Anushka Sharma</td><td>Sanjay Dutt</td><td>Boman Irani  </td><td>163061</td><td>10,616,104</td><td>153</td><td>m</td></tr>\n",
              "\t<tr><td>Lage Raho Munna Bhai</td><td>2006</td><td>U </td><td>144 min</td><td>Comedy, Drama, Romance</td><td>8.1</td><td>77.97153</td><td>Rajkumar Hirani</td><td>Sanjay Dutt</td><td>Arshad Warsi  </td><td>Vidya Balan</td><td>Boman Irani  </td><td> 43137</td><td>2,217,561 </td><td>144</td><td>m</td></tr>\n",
              "\t<tr><td>Munna Bhai M.B.B.S. </td><td>2003</td><td>U </td><td>156 min</td><td>Comedy, Drama, Musical</td><td>8.1</td><td>77.97153</td><td>Rajkumar Hirani</td><td>Sanjay Dutt</td><td>Arshad Warsi  </td><td>Gracy Singh</td><td>Sunil Dutt   </td><td> 73992</td><td>          </td><td>156</td><td>m</td></tr>\n",
              "</tbody>\n",
              "</table>\n"
            ],
            "text/markdown": "\nA data.frame: 4 × 16\n\n| Series_Title &lt;chr&gt; | Released_Year &lt;chr&gt; | Certificate &lt;chr&gt; | Runtime &lt;chr&gt; | Genre &lt;chr&gt; | IMDB_Rating &lt;dbl&gt; | Meta_score &lt;dbl&gt; | Director &lt;chr&gt; | Star1 &lt;chr&gt; | Star2 &lt;chr&gt; | Star3 &lt;chr&gt; | Star4 &lt;chr&gt; | No_of_Votes &lt;int&gt; | Gross &lt;chr&gt; | runtime_numeric &lt;int&gt; | runtime_unit &lt;chr&gt; |\n|---|---|---|---|---|---|---|---|---|---|---|---|---|---|---|---|\n| 3 Idiots             | 2009 | UA | 170 min | Comedy, Drama          | 8.4 | 67.00000 | Rajkumar Hirani | Aamir Khan  | Madhavan       | Mona Singh  | Sharman Joshi | 344445 | 6,532,908  | 170 | m |\n| PK                   | 2014 | UA | 153 min | Comedy, Drama, Musical | 8.1 | 77.97153 | Rajkumar Hirani | Aamir Khan  | Anushka Sharma | Sanjay Dutt | Boman Irani   | 163061 | 10,616,104 | 153 | m |\n| Lage Raho Munna Bhai | 2006 | U  | 144 min | Comedy, Drama, Romance | 8.1 | 77.97153 | Rajkumar Hirani | Sanjay Dutt | Arshad Warsi   | Vidya Balan | Boman Irani   |  43137 | 2,217,561  | 144 | m |\n| Munna Bhai M.B.B.S.  | 2003 | U  | 156 min | Comedy, Drama, Musical | 8.1 | 77.97153 | Rajkumar Hirani | Sanjay Dutt | Arshad Warsi   | Gracy Singh | Sunil Dutt    |  73992 | <!----> | 156 | m |\n\n",
            "text/latex": "A data.frame: 4 × 16\n\\begin{tabular}{llllllllllllllll}\n Series\\_Title & Released\\_Year & Certificate & Runtime & Genre & IMDB\\_Rating & Meta\\_score & Director & Star1 & Star2 & Star3 & Star4 & No\\_of\\_Votes & Gross & runtime\\_numeric & runtime\\_unit\\\\\n <chr> & <chr> & <chr> & <chr> & <chr> & <dbl> & <dbl> & <chr> & <chr> & <chr> & <chr> & <chr> & <int> & <chr> & <int> & <chr>\\\\\n\\hline\n\t 3 Idiots             & 2009 & UA & 170 min & Comedy, Drama          & 8.4 & 67.00000 & Rajkumar Hirani & Aamir Khan  & Madhavan       & Mona Singh  & Sharman Joshi & 344445 & 6,532,908  & 170 & m\\\\\n\t PK                   & 2014 & UA & 153 min & Comedy, Drama, Musical & 8.1 & 77.97153 & Rajkumar Hirani & Aamir Khan  & Anushka Sharma & Sanjay Dutt & Boman Irani   & 163061 & 10,616,104 & 153 & m\\\\\n\t Lage Raho Munna Bhai & 2006 & U  & 144 min & Comedy, Drama, Romance & 8.1 & 77.97153 & Rajkumar Hirani & Sanjay Dutt & Arshad Warsi   & Vidya Balan & Boman Irani   &  43137 & 2,217,561  & 144 & m\\\\\n\t Munna Bhai M.B.B.S.  & 2003 & U  & 156 min & Comedy, Drama, Musical & 8.1 & 77.97153 & Rajkumar Hirani & Sanjay Dutt & Arshad Warsi   & Gracy Singh & Sunil Dutt    &  73992 &            & 156 & m\\\\\n\\end{tabular}\n",
            "text/plain": [
              "  Series_Title         Released_Year Certificate Runtime Genre                 \n",
              "1 3 Idiots             2009          UA          170 min Comedy, Drama         \n",
              "2 PK                   2014          UA          153 min Comedy, Drama, Musical\n",
              "3 Lage Raho Munna Bhai 2006          U           144 min Comedy, Drama, Romance\n",
              "4 Munna Bhai M.B.B.S.  2003          U           156 min Comedy, Drama, Musical\n",
              "  IMDB_Rating Meta_score Director        Star1       Star2          Star3      \n",
              "1 8.4         67.00000   Rajkumar Hirani Aamir Khan  Madhavan       Mona Singh \n",
              "2 8.1         77.97153   Rajkumar Hirani Aamir Khan  Anushka Sharma Sanjay Dutt\n",
              "3 8.1         77.97153   Rajkumar Hirani Sanjay Dutt Arshad Warsi   Vidya Balan\n",
              "4 8.1         77.97153   Rajkumar Hirani Sanjay Dutt Arshad Warsi   Gracy Singh\n",
              "  Star4         No_of_Votes Gross      runtime_numeric runtime_unit\n",
              "1 Sharman Joshi 344445      6,532,908  170             m           \n",
              "2 Boman Irani   163061      10,616,104 153             m           \n",
              "3 Boman Irani    43137      2,217,561  144             m           \n",
              "4 Sunil Dutt     73992                 156             m           "
            ]
          },
          "metadata": {}
        }
      ]
    },
    {
      "cell_type": "code",
      "source": [
        "new_df %>% filter(Director == \"Christopher Nolan\")"
      ],
      "metadata": {
        "id": "xVXXLI_-ycpW",
        "colab": {
          "base_uri": "https://localhost:8080/",
          "height": 612
        },
        "outputId": "9877eb7c-aed9-4444-b699-cd132323f3ab"
      },
      "execution_count": null,
      "outputs": [
        {
          "output_type": "display_data",
          "data": {
            "text/html": [
              "<table class=\"dataframe\">\n",
              "<caption>A data.frame: 8 × 16</caption>\n",
              "<thead>\n",
              "\t<tr><th scope=col>Series_Title</th><th scope=col>Released_Year</th><th scope=col>Certificate</th><th scope=col>Runtime</th><th scope=col>Genre</th><th scope=col>IMDB_Rating</th><th scope=col>Meta_score</th><th scope=col>Director</th><th scope=col>Star1</th><th scope=col>Star2</th><th scope=col>Star3</th><th scope=col>Star4</th><th scope=col>No_of_Votes</th><th scope=col>Gross</th><th scope=col>runtime_numeric</th><th scope=col>runtime_unit</th></tr>\n",
              "\t<tr><th scope=col>&lt;chr&gt;</th><th scope=col>&lt;chr&gt;</th><th scope=col>&lt;chr&gt;</th><th scope=col>&lt;chr&gt;</th><th scope=col>&lt;chr&gt;</th><th scope=col>&lt;dbl&gt;</th><th scope=col>&lt;dbl&gt;</th><th scope=col>&lt;chr&gt;</th><th scope=col>&lt;chr&gt;</th><th scope=col>&lt;chr&gt;</th><th scope=col>&lt;chr&gt;</th><th scope=col>&lt;chr&gt;</th><th scope=col>&lt;int&gt;</th><th scope=col>&lt;chr&gt;</th><th scope=col>&lt;int&gt;</th><th scope=col>&lt;chr&gt;</th></tr>\n",
              "</thead>\n",
              "<tbody>\n",
              "\t<tr><td>The Dark Knight      </td><td>2008</td><td>UA</td><td>152 min</td><td>Action, Crime, Drama     </td><td>9.0</td><td>84</td><td>Christopher Nolan</td><td>Christian Bale     </td><td>Heath Ledger        </td><td>Aaron Eckhart     </td><td>Michael Caine    </td><td>2303232</td><td>534,858,444</td><td>152</td><td>m</td></tr>\n",
              "\t<tr><td>Inception            </td><td>2010</td><td>UA</td><td>148 min</td><td>Action, Adventure, Sci-Fi</td><td>8.8</td><td>74</td><td>Christopher Nolan</td><td>Leonardo DiCaprio  </td><td>Joseph Gordon-Levitt</td><td>Elliot Page       </td><td>Ken Watanabe     </td><td>2067042</td><td>292,576,195</td><td>148</td><td>m</td></tr>\n",
              "\t<tr><td>Interstellar         </td><td>2014</td><td>UA</td><td>169 min</td><td>Adventure, Drama, Sci-Fi </td><td>8.6</td><td>74</td><td>Christopher Nolan</td><td>Matthew McConaughey</td><td>Anne Hathaway       </td><td>Jessica Chastain  </td><td>Mackenzie Foy    </td><td>1512360</td><td>188,020,017</td><td>169</td><td>m</td></tr>\n",
              "\t<tr><td>The Prestige         </td><td>2006</td><td>U </td><td>130 min</td><td>Drama, Mystery, Sci-Fi   </td><td>8.5</td><td>66</td><td>Christopher Nolan</td><td>Christian Bale     </td><td>Hugh Jackman        </td><td>Scarlett Johansson</td><td>Michael Caine    </td><td>1190259</td><td>53,089,891 </td><td>130</td><td>m</td></tr>\n",
              "\t<tr><td>The Dark Knight Rises</td><td>2012</td><td>UA</td><td>164 min</td><td>Action, Adventure        </td><td>8.4</td><td>78</td><td>Christopher Nolan</td><td>Christian Bale     </td><td>Tom Hardy           </td><td>Anne Hathaway     </td><td>Gary Oldman      </td><td>1516346</td><td>448,139,099</td><td>164</td><td>m</td></tr>\n",
              "\t<tr><td>Memento              </td><td>2000</td><td>UA</td><td>113 min</td><td>Mystery, Thriller        </td><td>8.4</td><td>80</td><td>Christopher Nolan</td><td>Guy Pearce         </td><td>Carrie-Anne Moss    </td><td>Joe Pantoliano    </td><td>Mark Boone Junior</td><td>1125712</td><td>25,544,867 </td><td>113</td><td>m</td></tr>\n",
              "\t<tr><td>Batman Begins        </td><td>2005</td><td>UA</td><td>140 min</td><td>Action, Adventure        </td><td>8.2</td><td>70</td><td>Christopher Nolan</td><td>Christian Bale     </td><td>Michael Caine       </td><td>Ken Watanabe      </td><td>Liam Neeson      </td><td>1308302</td><td>206,852,432</td><td>140</td><td>m</td></tr>\n",
              "\t<tr><td>Dunkirk              </td><td>2017</td><td>UA</td><td>106 min</td><td>Action, Drama, History   </td><td>7.8</td><td>94</td><td>Christopher Nolan</td><td>Fionn Whitehead    </td><td>Barry Keoghan       </td><td>Mark Rylance      </td><td>Tom Hardy        </td><td> 555092</td><td>188,373,161</td><td>106</td><td>m</td></tr>\n",
              "</tbody>\n",
              "</table>\n"
            ],
            "text/markdown": "\nA data.frame: 8 × 16\n\n| Series_Title &lt;chr&gt; | Released_Year &lt;chr&gt; | Certificate &lt;chr&gt; | Runtime &lt;chr&gt; | Genre &lt;chr&gt; | IMDB_Rating &lt;dbl&gt; | Meta_score &lt;dbl&gt; | Director &lt;chr&gt; | Star1 &lt;chr&gt; | Star2 &lt;chr&gt; | Star3 &lt;chr&gt; | Star4 &lt;chr&gt; | No_of_Votes &lt;int&gt; | Gross &lt;chr&gt; | runtime_numeric &lt;int&gt; | runtime_unit &lt;chr&gt; |\n|---|---|---|---|---|---|---|---|---|---|---|---|---|---|---|---|\n| The Dark Knight       | 2008 | UA | 152 min | Action, Crime, Drama      | 9.0 | 84 | Christopher Nolan | Christian Bale      | Heath Ledger         | Aaron Eckhart      | Michael Caine     | 2303232 | 534,858,444 | 152 | m |\n| Inception             | 2010 | UA | 148 min | Action, Adventure, Sci-Fi | 8.8 | 74 | Christopher Nolan | Leonardo DiCaprio   | Joseph Gordon-Levitt | Elliot Page        | Ken Watanabe      | 2067042 | 292,576,195 | 148 | m |\n| Interstellar          | 2014 | UA | 169 min | Adventure, Drama, Sci-Fi  | 8.6 | 74 | Christopher Nolan | Matthew McConaughey | Anne Hathaway        | Jessica Chastain   | Mackenzie Foy     | 1512360 | 188,020,017 | 169 | m |\n| The Prestige          | 2006 | U  | 130 min | Drama, Mystery, Sci-Fi    | 8.5 | 66 | Christopher Nolan | Christian Bale      | Hugh Jackman         | Scarlett Johansson | Michael Caine     | 1190259 | 53,089,891  | 130 | m |\n| The Dark Knight Rises | 2012 | UA | 164 min | Action, Adventure         | 8.4 | 78 | Christopher Nolan | Christian Bale      | Tom Hardy            | Anne Hathaway      | Gary Oldman       | 1516346 | 448,139,099 | 164 | m |\n| Memento               | 2000 | UA | 113 min | Mystery, Thriller         | 8.4 | 80 | Christopher Nolan | Guy Pearce          | Carrie-Anne Moss     | Joe Pantoliano     | Mark Boone Junior | 1125712 | 25,544,867  | 113 | m |\n| Batman Begins         | 2005 | UA | 140 min | Action, Adventure         | 8.2 | 70 | Christopher Nolan | Christian Bale      | Michael Caine        | Ken Watanabe       | Liam Neeson       | 1308302 | 206,852,432 | 140 | m |\n| Dunkirk               | 2017 | UA | 106 min | Action, Drama, History    | 7.8 | 94 | Christopher Nolan | Fionn Whitehead     | Barry Keoghan        | Mark Rylance       | Tom Hardy         |  555092 | 188,373,161 | 106 | m |\n\n",
            "text/latex": "A data.frame: 8 × 16\n\\begin{tabular}{llllllllllllllll}\n Series\\_Title & Released\\_Year & Certificate & Runtime & Genre & IMDB\\_Rating & Meta\\_score & Director & Star1 & Star2 & Star3 & Star4 & No\\_of\\_Votes & Gross & runtime\\_numeric & runtime\\_unit\\\\\n <chr> & <chr> & <chr> & <chr> & <chr> & <dbl> & <dbl> & <chr> & <chr> & <chr> & <chr> & <chr> & <int> & <chr> & <int> & <chr>\\\\\n\\hline\n\t The Dark Knight       & 2008 & UA & 152 min & Action, Crime, Drama      & 9.0 & 84 & Christopher Nolan & Christian Bale      & Heath Ledger         & Aaron Eckhart      & Michael Caine     & 2303232 & 534,858,444 & 152 & m\\\\\n\t Inception             & 2010 & UA & 148 min & Action, Adventure, Sci-Fi & 8.8 & 74 & Christopher Nolan & Leonardo DiCaprio   & Joseph Gordon-Levitt & Elliot Page        & Ken Watanabe      & 2067042 & 292,576,195 & 148 & m\\\\\n\t Interstellar          & 2014 & UA & 169 min & Adventure, Drama, Sci-Fi  & 8.6 & 74 & Christopher Nolan & Matthew McConaughey & Anne Hathaway        & Jessica Chastain   & Mackenzie Foy     & 1512360 & 188,020,017 & 169 & m\\\\\n\t The Prestige          & 2006 & U  & 130 min & Drama, Mystery, Sci-Fi    & 8.5 & 66 & Christopher Nolan & Christian Bale      & Hugh Jackman         & Scarlett Johansson & Michael Caine     & 1190259 & 53,089,891  & 130 & m\\\\\n\t The Dark Knight Rises & 2012 & UA & 164 min & Action, Adventure         & 8.4 & 78 & Christopher Nolan & Christian Bale      & Tom Hardy            & Anne Hathaway      & Gary Oldman       & 1516346 & 448,139,099 & 164 & m\\\\\n\t Memento               & 2000 & UA & 113 min & Mystery, Thriller         & 8.4 & 80 & Christopher Nolan & Guy Pearce          & Carrie-Anne Moss     & Joe Pantoliano     & Mark Boone Junior & 1125712 & 25,544,867  & 113 & m\\\\\n\t Batman Begins         & 2005 & UA & 140 min & Action, Adventure         & 8.2 & 70 & Christopher Nolan & Christian Bale      & Michael Caine        & Ken Watanabe       & Liam Neeson       & 1308302 & 206,852,432 & 140 & m\\\\\n\t Dunkirk               & 2017 & UA & 106 min & Action, Drama, History    & 7.8 & 94 & Christopher Nolan & Fionn Whitehead     & Barry Keoghan        & Mark Rylance       & Tom Hardy         &  555092 & 188,373,161 & 106 & m\\\\\n\\end{tabular}\n",
            "text/plain": [
              "  Series_Title          Released_Year Certificate Runtime\n",
              "1 The Dark Knight       2008          UA          152 min\n",
              "2 Inception             2010          UA          148 min\n",
              "3 Interstellar          2014          UA          169 min\n",
              "4 The Prestige          2006          U           130 min\n",
              "5 The Dark Knight Rises 2012          UA          164 min\n",
              "6 Memento               2000          UA          113 min\n",
              "7 Batman Begins         2005          UA          140 min\n",
              "8 Dunkirk               2017          UA          106 min\n",
              "  Genre                     IMDB_Rating Meta_score Director         \n",
              "1 Action, Crime, Drama      9.0         84         Christopher Nolan\n",
              "2 Action, Adventure, Sci-Fi 8.8         74         Christopher Nolan\n",
              "3 Adventure, Drama, Sci-Fi  8.6         74         Christopher Nolan\n",
              "4 Drama, Mystery, Sci-Fi    8.5         66         Christopher Nolan\n",
              "5 Action, Adventure         8.4         78         Christopher Nolan\n",
              "6 Mystery, Thriller         8.4         80         Christopher Nolan\n",
              "7 Action, Adventure         8.2         70         Christopher Nolan\n",
              "8 Action, Drama, History    7.8         94         Christopher Nolan\n",
              "  Star1               Star2                Star3              Star4            \n",
              "1 Christian Bale      Heath Ledger         Aaron Eckhart      Michael Caine    \n",
              "2 Leonardo DiCaprio   Joseph Gordon-Levitt Elliot Page        Ken Watanabe     \n",
              "3 Matthew McConaughey Anne Hathaway        Jessica Chastain   Mackenzie Foy    \n",
              "4 Christian Bale      Hugh Jackman         Scarlett Johansson Michael Caine    \n",
              "5 Christian Bale      Tom Hardy            Anne Hathaway      Gary Oldman      \n",
              "6 Guy Pearce          Carrie-Anne Moss     Joe Pantoliano     Mark Boone Junior\n",
              "7 Christian Bale      Michael Caine        Ken Watanabe       Liam Neeson      \n",
              "8 Fionn Whitehead     Barry Keoghan        Mark Rylance       Tom Hardy        \n",
              "  No_of_Votes Gross       runtime_numeric runtime_unit\n",
              "1 2303232     534,858,444 152             m           \n",
              "2 2067042     292,576,195 148             m           \n",
              "3 1512360     188,020,017 169             m           \n",
              "4 1190259     53,089,891  130             m           \n",
              "5 1516346     448,139,099 164             m           \n",
              "6 1125712     25,544,867  113             m           \n",
              "7 1308302     206,852,432 140             m           \n",
              "8  555092     188,373,161 106             m           "
            ]
          },
          "metadata": {}
        }
      ]
    },
    {
      "cell_type": "markdown",
      "source": [
        "# **Visualizations**"
      ],
      "metadata": {
        "id": "CC7ZIBmI9q_6"
      }
    },
    {
      "cell_type": "markdown",
      "source": [
        "**Movies Released after 2010**"
      ],
      "metadata": {
        "id": "mMQj4CaFz40Q"
      }
    },
    {
      "cell_type": "code",
      "source": [
        "# install.packages(\"ggplot2\")\n",
        "library(\"ggplot2\")\n",
        "mov <- new_df %>% group_by(Released_Year) %>% count() %>%  filter(Released_Year > 2010)\n",
        "mov %>% ggplot(aes(x = Released_Year , y = n , fill = factor(Released_Year))) + geom_bar(stat = \"identity\") +\n",
        "  geom_text(aes(label = n) , hjust =0.5 , vjust = 0 , color = \"black\" , size = 5)"
      ],
      "metadata": {
        "colab": {
          "base_uri": "https://localhost:8080/",
          "height": 437
        },
        "id": "v6P1RiSbycr6",
        "outputId": "dfcfe95d-62df-4e33-a354-788748d7394a"
      },
      "execution_count": null,
      "outputs": [
        {
          "output_type": "display_data",
          "data": {
            "text/plain": [
              "plot without title"
            ],
            "image/png": "[encoded data removed]"
          },
          "metadata": {
            "image/png": {
              "width": 420,
              "height": 420
            }
          }
        }
      ]
    },
    {
      "cell_type": "markdown",
      "source": [
        "**Movies Released between 2000 and 2010**"
      ],
      "metadata": {
        "id": "O2GJfPA51W_j"
      }
    },
    {
      "cell_type": "code",
      "source": [
        "mov1 <- new_df %>% group_by(Released_Year) %>% count() %>% filter(Released_Year <= 2010 & Released_Year >= 2000)\n",
        "mov1 %>% ggplot(aes(x = Released_Year , y  = n , fill = factor(Released_Year))) + geom_bar(stat = \"identity\")  +\n",
        "  geom_text(aes(label = n) , hjust = 0.5 , vjust = 0.0 , color = \"black\" , size = 5)"
      ],
      "metadata": {
        "colab": {
          "base_uri": "https://localhost:8080/",
          "height": 437
        },
        "id": "07fs7Dwyz-0w",
        "outputId": "c2782daa-8d75-49e4-8ec4-dc751f269e53"
      },
      "execution_count": null,
      "outputs": [
        {
          "output_type": "display_data",
          "data": {
            "text/plain": [
              "plot without title"
            ],
            "image/png": "[encoded data removed]"
          },
          "metadata": {
            "image/png": {
              "width": 420,
              "height": 420
            }
          }
        }
      ]
    },
    {
      "cell_type": "code",
      "source": [
        "names(new_df)"
      ],
      "metadata": {
        "colab": {
          "base_uri": "https://localhost:8080/",
          "height": 34
        },
        "id": "PhsERxwZ2oQ1",
        "outputId": "4f57586d-3fa4-441d-c12a-a71be4c299e8"
      },
      "execution_count": null,
      "outputs": [
        {
          "output_type": "display_data",
          "data": {
            "text/html": [
              "<style>\n",
              ".list-inline {list-style: none; margin:0; padding: 0}\n",
              ".list-inline>li {display: inline-block}\n",
              ".list-inline>li:not(:last-child)::after {content: \"\\00b7\"; padding: 0 .5ex}\n",
              "</style>\n",
              "<ol class=list-inline><li>'Series_Title'</li><li>'Released_Year'</li><li>'Certificate'</li><li>'Runtime'</li><li>'Genre'</li><li>'IMDB_Rating'</li><li>'Meta_score'</li><li>'Director'</li><li>'Star1'</li><li>'Star2'</li><li>'Star3'</li><li>'Star4'</li><li>'No_of_Votes'</li><li>'Gross'</li><li>'runtime_numeric'</li><li>'runtime_unit'</li></ol>\n"
            ],
            "text/markdown": "1. 'Series_Title'\n2. 'Released_Year'\n3. 'Certificate'\n4. 'Runtime'\n5. 'Genre'\n6. 'IMDB_Rating'\n7. 'Meta_score'\n8. 'Director'\n9. 'Star1'\n10. 'Star2'\n11. 'Star3'\n12. 'Star4'\n13. 'No_of_Votes'\n14. 'Gross'\n15. 'runtime_numeric'\n16. 'runtime_unit'\n\n\n",
            "text/latex": "\\begin{enumerate*}\n\\item 'Series\\_Title'\n\\item 'Released\\_Year'\n\\item 'Certificate'\n\\item 'Runtime'\n\\item 'Genre'\n\\item 'IMDB\\_Rating'\n\\item 'Meta\\_score'\n\\item 'Director'\n\\item 'Star1'\n\\item 'Star2'\n\\item 'Star3'\n\\item 'Star4'\n\\item 'No\\_of\\_Votes'\n\\item 'Gross'\n\\item 'runtime\\_numeric'\n\\item 'runtime\\_unit'\n\\end{enumerate*}\n",
            "text/plain": [
              " [1] \"Series_Title\"    \"Released_Year\"   \"Certificate\"     \"Runtime\"        \n",
              " [5] \"Genre\"           \"IMDB_Rating\"     \"Meta_score\"      \"Director\"       \n",
              " [9] \"Star1\"           \"Star2\"           \"Star3\"           \"Star4\"          \n",
              "[13] \"No_of_Votes\"     \"Gross\"           \"runtime_numeric\" \"runtime_unit\"   "
            ]
          },
          "metadata": {}
        }
      ]
    },
    {
      "cell_type": "markdown",
      "source": [
        "**count of movies from Action , Comedy , Adventure Genre**"
      ],
      "metadata": {
        "id": "YHDHhohGauXr"
      }
    },
    {
      "cell_type": "code",
      "source": [
        "library(tidyr)\n",
        "count_genre <- df %>% separate_rows(Genre , sep = \",\") %>% count(Genre)  %>% arrange(desc(n)) %>% filter(Genre == \"Action\" | Genre == \"Comedy\" | Genre == \"Adventure\")\n",
        "\n",
        "count_genre %>% ggplot(aes(x = Genre , y = n , fill = factor(Genre))) + geom_bar(stat = \"identity\") + scale_fill_brewer(type = \"seq\" , palette = 8) +\n",
        "  geom_text(aes(label = n) , vjust = 0.0 , hjust = 0.6 , color = \"black\" , size = 6)"
      ],
      "metadata": {
        "colab": {
          "base_uri": "https://localhost:8080/",
          "height": 437
        },
        "id": "fSAGeWBK1diI",
        "outputId": "ee5a7afd-b7fa-4a18-8442-d71abe130798"
      },
      "execution_count": null,
      "outputs": [
        {
          "output_type": "display_data",
          "data": {
            "text/plain": [
              "plot without title"
            ],
            "image/png": "[encoded data removed]"
          },
          "metadata": {
            "image/png": {
              "width": 420,
              "height": 420
            }
          }
        }
      ]
    },
    {
      "cell_type": "markdown",
      "source": [
        "**Count of movies from Animation , Drama , Mystery Genre**"
      ],
      "metadata": {
        "id": "sjaU16bObSIp"
      }
    },
    {
      "cell_type": "code",
      "source": [
        "count_genre2 <- df %>% separate_rows(Genre , sep = \",\") %>% count(Genre)  %>% arrange(desc(n)) %>% filter(Genre == \"Animation\"  | Genre == \"Drama\" | Genre == \"Mystery\")\n",
        "\n",
        "count_genre2%>% ggplot(aes(x = Genre , y = n , fill = factor(Genre))) + geom_bar(stat = \"identity\") + scale_fill_brewer(type = \"seq\" , palette = 3) +\n",
        "  geom_text(aes(label = n) , vjust = 0.0 , hjust = 0.6 , color = \"black\" , size = 6)\n"
      ],
      "metadata": {
        "colab": {
          "base_uri": "https://localhost:8080/",
          "height": 437
        },
        "id": "vOGgApnj4xXv",
        "outputId": "a51635e9-192b-492b-9625-035563068fc2"
      },
      "execution_count": null,
      "outputs": [
        {
          "output_type": "display_data",
          "data": {
            "text/plain": [
              "plot without title"
            ],
            "image/png": "[encoded data removed]"
          },
          "metadata": {
            "image/png": {
              "width": 420,
              "height": 420
            }
          }
        }
      ]
    },
    {
      "cell_type": "code",
      "source": [
        "year <- new_df %>% group_by(Released_Year) %>% count()  %>% filter(Released_Year > 2010)\n",
        "year %>% ggplot(aes(x = Released_Year , y =  n , color = factor(Released_Year))) + geom_point(size = 5) + geom_text(aes(label  = n) , vjust = 4 , size = 6) +\n",
        "  labs(x = \"Released_Year\" , y = \"n\" , title = \"Movies Released after 2010\")"
      ],
      "metadata": {
        "colab": {
          "base_uri": "https://localhost:8080/",
          "height": 437
        },
        "id": "_l0qoEzD44Lv",
        "outputId": "aa1eb8b4-262e-4c4c-aad1-3bc1e038a7f0"
      },
      "execution_count": null,
      "outputs": [
        {
          "output_type": "display_data",
          "data": {
            "text/plain": [
              "plot without title"
            ],
            "image/png": "[encoded data removed]"
          },
          "metadata": {
            "image/png": {
              "width": 420,
              "height": 420
            }
          }
        }
      ]
    },
    {
      "cell_type": "code",
      "source": [
        "year2 <- new_df %>% group_by(Released_Year) %>% count()  %>% filter(Released_Year <= 2010 & Released_Year >= 2000)\n",
        "year2 %>% ggplot(aes(x = Released_Year , y =  n , color = factor(Released_Year))) + geom_point(size = 5) + geom_text(aes(label  = n) , vjust = 4 , size = 6) +\n",
        "  labs(x = \"Released_Year\" , y = \"n\" , title = \"Movies Released between 2000 and 2010\")"
      ],
      "metadata": {
        "colab": {
          "base_uri": "https://localhost:8080/",
          "height": 437
        },
        "id": "x-tm6YXxtX4H",
        "outputId": "1be27bc9-feb5-46a8-d60b-2e7c1007d21b"
      },
      "execution_count": null,
      "outputs": [
        {
          "output_type": "display_data",
          "data": {
            "text/plain": [
              "plot without title"
            ],
            "image/png": "[encoded data removed]"
          },
          "metadata": {
            "image/png": {
              "width": 420,
              "height": 420
            }
          }
        }
      ]
    },
    {
      "cell_type": "markdown",
      "source": [
        "**Avg IMDB_Rating of each movies  between 7.5 and 8.0**"
      ],
      "metadata": {
        "id": "-5FZpri2u6WE"
      }
    },
    {
      "cell_type": "code",
      "source": [
        " new_df %>% ggplot(aes(x = IMDB_Rating)) + geom_histogram(bins = 10 , col = \"black\" , fill = \"blue\")  + labs(x = \"count\" , y = \"IMDB_Rating\" ,   title = \"IMDB_Rating of movies\")"
      ],
      "metadata": {
        "colab": {
          "base_uri": "https://localhost:8080/",
          "height": 437
        },
        "id": "wt8_gG4atoAV",
        "outputId": "32772020-86ab-4359-d344-01229c3b230a"
      },
      "execution_count": null,
      "outputs": [
        {
          "output_type": "display_data",
          "data": {
            "text/plain": [
              "plot without title"
            ],
            "image/png": "[encoded data removed]"
          },
          "metadata": {
            "image/png": {
              "width": 420,
              "height": 420
            }
          }
        }
      ]
    },
    {
      "cell_type": "code",
      "source": [
        "new_df %>% ggplot(aes(x = IMDB_Rating)) + geom_boxplot(col = \"black\" , fill = \"lightgreen\") + labs(title = \"IMDB_Rating of movies\")"
      ],
      "metadata": {
        "colab": {
          "base_uri": "https://localhost:8080/",
          "height": 437
        },
        "id": "wqs1aM1owL8q",
        "outputId": "c5d81394-25f5-448c-8cde-19baef602082"
      },
      "execution_count": null,
      "outputs": [
        {
          "output_type": "display_data",
          "data": {
            "text/plain": [
              "plot without title"
            ],
            "image/png": "[encoded data removed]"
          },
          "metadata": {
            "image/png": {
              "width": 420,
              "height": 420
            }
          }
        }
      ]
    },
    {
      "cell_type": "markdown",
      "source": [
        "**Avg Runtime of each movies between 100 and 200**"
      ],
      "metadata": {
        "id": "n59Ly-QlbvAi"
      }
    },
    {
      "cell_type": "code",
      "source": [
        "new_df %>% ggplot(aes(x = runtime_numeric)) + geom_histogram(bins = 10 , col = \"black\" , fill = \"blue\")+ labs(x = \"count\" , y = \"runtime_numeric\" ,   title = \"Runtime of movies\")"
      ],
      "metadata": {
        "colab": {
          "base_uri": "https://localhost:8080/",
          "height": 437
        },
        "id": "FZcdNJwrvsKI",
        "outputId": "46b77b76-89fc-4842-e030-a2f1dcffcf7f"
      },
      "execution_count": null,
      "outputs": [
        {
          "output_type": "display_data",
          "data": {
            "text/plain": [
              "plot without title"
            ],
            "image/png": "[encoded data removed]"
          },
          "metadata": {
            "image/png": {
              "width": 420,
              "height": 420
            }
          }
        }
      ]
    },
    {
      "cell_type": "code",
      "source": [
        "new_df %>% ggplot(aes(x = runtime_numeric)) + geom_boxplot(col = \"black\" , fill = \"lightgreen\") + labs(title = \"Runtime of movies\")"
      ],
      "metadata": {
        "colab": {
          "base_uri": "https://localhost:8080/",
          "height": 437
        },
        "id": "3ByN6CErwrE8",
        "outputId": "7c2ff2f2-c6f2-4164-e2fe-4b82bd60d395"
      },
      "execution_count": null,
      "outputs": [
        {
          "output_type": "display_data",
          "data": {
            "text/plain": [
              "plot without title"
            ],
            "image/png": "[encoded data removed]"
          },
          "metadata": {
            "image/png": {
              "width": 420,
              "height": 420
            }
          }
        }
      ]
    },
    {
      "cell_type": "code",
      "source": [
        "certi1<- new_df %>% group_by(Certificate) %>% count()  %>% arrange(desc(n)) %>% head(3)\n",
        "certi1"
      ],
      "metadata": {
        "colab": {
          "base_uri": "https://localhost:8080/",
          "height": 192
        },
        "id": "takOtNc8xgdY",
        "outputId": "294e5f94-eba0-4f36-fde6-0bd03ce17a28"
      },
      "execution_count": null,
      "outputs": [
        {
          "output_type": "display_data",
          "data": {
            "text/html": [
              "<table class=\"dataframe\">\n",
              "<caption>A grouped_df: 3 × 2</caption>\n",
              "<thead>\n",
              "\t<tr><th scope=col>Certificate</th><th scope=col>n</th></tr>\n",
              "\t<tr><th scope=col>&lt;chr&gt;</th><th scope=col>&lt;int&gt;</th></tr>\n",
              "</thead>\n",
              "<tbody>\n",
              "\t<tr><td>U </td><td>234</td></tr>\n",
              "\t<tr><td>A </td><td>197</td></tr>\n",
              "\t<tr><td>UA</td><td>175</td></tr>\n",
              "</tbody>\n",
              "</table>\n"
            ],
            "text/markdown": "\nA grouped_df: 3 × 2\n\n| Certificate &lt;chr&gt; | n &lt;int&gt; |\n|---|---|\n| U  | 234 |\n| A  | 197 |\n| UA | 175 |\n\n",
            "text/latex": "A grouped\\_df: 3 × 2\n\\begin{tabular}{ll}\n Certificate & n\\\\\n <chr> & <int>\\\\\n\\hline\n\t U  & 234\\\\\n\t A  & 197\\\\\n\t UA & 175\\\\\n\\end{tabular}\n",
            "text/plain": [
              "  Certificate n  \n",
              "1 U           234\n",
              "2 A           197\n",
              "3 UA          175"
            ]
          },
          "metadata": {}
        }
      ]
    },
    {
      "cell_type": "markdown",
      "source": [
        "**maximum Number of certificate**"
      ],
      "metadata": {
        "id": "UO3wtTGB3LhH"
      }
    },
    {
      "cell_type": "code",
      "source": [
        "certi1 %>% ggplot(aes(x = Certificate , y = n , fill = factor(Certificate))) + geom_bar(stat = \"identity\") + scale_fill_brewer(type = \"seq\" , palette = 1)+\n",
        "  geom_text(aes(label = n) , vjust = 0.1 , hjust = 0.8 , size = 6) + labs(title = \"maximum Number of certificate\")"
      ],
      "metadata": {
        "colab": {
          "base_uri": "https://localhost:8080/",
          "height": 437
        },
        "id": "Ztdvcp3o1uaU",
        "outputId": "2d742ee7-b976-41ac-f578-3079c5b1051a"
      },
      "execution_count": null,
      "outputs": [
        {
          "output_type": "display_data",
          "data": {
            "text/plain": [
              "plot without title"
            ],
            "image/png": "[encoded data removed]"
          },
          "metadata": {
            "image/png": {
              "width": 420,
              "height": 420
            }
          }
        }
      ]
    },
    {
      "cell_type": "markdown",
      "source": [
        "**Number  of movies done by Director**"
      ],
      "metadata": {
        "id": "Q4X-iFU775kW"
      }
    },
    {
      "cell_type": "code",
      "source": [
        "\n",
        "direct <- new_df %>% group_by(Director) %>% count() %>% filter(Director == \"Zoya Akhtar\" | Director == \"Rajkumar Hirani\" | Director == \"Christopher Nolan\")\n",
        "\n",
        "direct %>% ggplot(aes(x = Director , y =n , fill = factor(Director))) + geom_bar(stat = \"identity\")  +\n",
        "  geom_text(aes(label = n) , size = 7 , vjust = 0.2 , hjust = 0.5) + labs(title = \"Director\")"
      ],
      "metadata": {
        "colab": {
          "base_uri": "https://localhost:8080/",
          "height": 437
        },
        "id": "gnqwBBqh3Dwo",
        "outputId": "9c8d03cf-ea5d-4fe1-9f44-424c742f80da"
      },
      "execution_count": null,
      "outputs": [
        {
          "output_type": "display_data",
          "data": {
            "text/plain": [
              "plot without title"
            ],
            "image/png": "[encoded data removed]"
          },
          "metadata": {
            "image/png": {
              "width": 420,
              "height": 420
            }
          }
        }
      ]
    },
    {
      "cell_type": "code",
      "source": [
        "meta_score_1 <- new_df %>% separate_rows(Genre ,sep = \",\") %>% group_by(Genre) %>% summarise(mean_meta_score = mean(Meta_score)) %>% arrange(desc(mean_meta_score))\n",
        "meta_score_2 <- head(meta_score_1 , 4)\n",
        "meta_score_2"
      ],
      "metadata": {
        "colab": {
          "base_uri": "https://localhost:8080/",
          "height": 223
        },
        "id": "9_wui15o8Cwc",
        "outputId": "706be23c-044b-427e-f096-9a5b8d637689"
      },
      "execution_count": null,
      "outputs": [
        {
          "output_type": "display_data",
          "data": {
            "text/html": [
              "<table class=\"dataframe\">\n",
              "<caption>A tibble: 4 × 2</caption>\n",
              "<thead>\n",
              "\t<tr><th scope=col>Genre</th><th scope=col>mean_meta_score</th></tr>\n",
              "\t<tr><th scope=col>&lt;chr&gt;</th><th scope=col>&lt;dbl&gt;</th></tr>\n",
              "</thead>\n",
              "<tbody>\n",
              "\t<tr><td>Film-Noir </td><td>95.66667</td></tr>\n",
              "\t<tr><td> Film-Noir</td><td>85.48577</td></tr>\n",
              "\t<tr><td> Western  </td><td>84.31250</td></tr>\n",
              "\t<tr><td> Horror   </td><td>81.51703</td></tr>\n",
              "</tbody>\n",
              "</table>\n"
            ],
            "text/markdown": "\nA tibble: 4 × 2\n\n| Genre &lt;chr&gt; | mean_meta_score &lt;dbl&gt; |\n|---|---|\n| Film-Noir  | 95.66667 |\n|  Film-Noir | 85.48577 |\n|  Western   | 84.31250 |\n|  Horror    | 81.51703 |\n\n",
            "text/latex": "A tibble: 4 × 2\n\\begin{tabular}{ll}\n Genre & mean\\_meta\\_score\\\\\n <chr> & <dbl>\\\\\n\\hline\n\t Film-Noir  & 95.66667\\\\\n\t  Film-Noir & 85.48577\\\\\n\t  Western   & 84.31250\\\\\n\t  Horror    & 81.51703\\\\\n\\end{tabular}\n",
            "text/plain": [
              "  Genre      mean_meta_score\n",
              "1 Film-Noir  95.66667       \n",
              "2  Film-Noir 85.48577       \n",
              "3  Western   84.31250       \n",
              "4  Horror    81.51703       "
            ]
          },
          "metadata": {}
        }
      ]
    },
    {
      "cell_type": "code",
      "source": [
        "meta_score_2 %>% ggplot(aes(x = Genre , y =mean_meta_score , fill = factor(Genre))) + geom_bar(stat = \"identity\") +\n",
        "  geom_text(aes(label = round(mean_meta_score , 2)) , size = 6 , vjust = 0.1 , hjust =  0.3) + labs(title = \"Meta_Score\")"
      ],
      "metadata": {
        "colab": {
          "base_uri": "https://localhost:8080/",
          "height": 437
        },
        "id": "VmTu3PJVS4IU",
        "outputId": "cc94761e-5553-4157-fc5e-6a0731c72cbd"
      },
      "execution_count": null,
      "outputs": [
        {
          "output_type": "display_data",
          "data": {
            "text/plain": [
              "plot without title"
            ],
            "image/png": "[encoded data removed]"
          },
          "metadata": {
            "image/png": {
              "width": 420,
              "height": 420
            }
          }
        }
      ]
    },
    {
      "cell_type": "markdown",
      "source": [
        "**Meta_score greater than 90**"
      ],
      "metadata": {
        "id": "rYAQilsQVbkd"
      }
    },
    {
      "cell_type": "code",
      "source": [
        "meta_score_3 <- new_df %>% separate_rows(Genre ,sep = \",\") %>% group_by(Genre) %>%  filter(Meta_score > 90) %>% count() %>% arrange(desc(n))\n",
        "meta_score_3"
      ],
      "metadata": {
        "colab": {
          "base_uri": "https://localhost:8080/",
          "height": 1000
        },
        "id": "HsvLdlKRUTYE",
        "outputId": "2401b611-ed56-467c-d723-dc896bcbca25"
      },
      "execution_count": null,
      "outputs": [
        {
          "output_type": "display_data",
          "data": {
            "text/html": [
              "<table class=\"dataframe\">\n",
              "<caption>A grouped_df: 29 × 2</caption>\n",
              "<thead>\n",
              "\t<tr><th scope=col>Genre</th><th scope=col>n</th></tr>\n",
              "\t<tr><th scope=col>&lt;chr&gt;</th><th scope=col>&lt;int&gt;</th></tr>\n",
              "</thead>\n",
              "<tbody>\n",
              "\t<tr><td> Drama    </td><td>50</td></tr>\n",
              "\t<tr><td>Drama     </td><td>47</td></tr>\n",
              "\t<tr><td> Romance  </td><td>26</td></tr>\n",
              "\t<tr><td>Comedy    </td><td>21</td></tr>\n",
              "\t<tr><td> Thriller </td><td>17</td></tr>\n",
              "\t<tr><td>Crime     </td><td>17</td></tr>\n",
              "\t<tr><td> War      </td><td>13</td></tr>\n",
              "\t<tr><td> Adventure</td><td>12</td></tr>\n",
              "\t<tr><td> Mystery  </td><td>11</td></tr>\n",
              "\t<tr><td>Action    </td><td>11</td></tr>\n",
              "\t<tr><td>Adventure </td><td>10</td></tr>\n",
              "\t<tr><td>Animation </td><td>10</td></tr>\n",
              "\t<tr><td> Family   </td><td> 8</td></tr>\n",
              "\t<tr><td>Biography </td><td> 8</td></tr>\n",
              "\t<tr><td> History  </td><td> 7</td></tr>\n",
              "\t<tr><td> Comedy   </td><td> 6</td></tr>\n",
              "\t<tr><td> Fantasy  </td><td> 6</td></tr>\n",
              "\t<tr><td> Film-Noir</td><td> 6</td></tr>\n",
              "\t<tr><td> Sci-Fi   </td><td> 6</td></tr>\n",
              "\t<tr><td> Western  </td><td> 6</td></tr>\n",
              "\t<tr><td> Crime    </td><td> 5</td></tr>\n",
              "\t<tr><td> Horror   </td><td> 5</td></tr>\n",
              "\t<tr><td> Music    </td><td> 4</td></tr>\n",
              "\t<tr><td> Musical  </td><td> 4</td></tr>\n",
              "\t<tr><td>Film-Noir </td><td> 3</td></tr>\n",
              "\t<tr><td>Mystery   </td><td> 3</td></tr>\n",
              "\t<tr><td> Biography</td><td> 2</td></tr>\n",
              "\t<tr><td>Family    </td><td> 1</td></tr>\n",
              "\t<tr><td>Horror    </td><td> 1</td></tr>\n",
              "</tbody>\n",
              "</table>\n"
            ],
            "text/markdown": "\nA grouped_df: 29 × 2\n\n| Genre &lt;chr&gt; | n &lt;int&gt; |\n|---|---|\n|  Drama     | 50 |\n| Drama      | 47 |\n|  Romance   | 26 |\n| Comedy     | 21 |\n|  Thriller  | 17 |\n| Crime      | 17 |\n|  War       | 13 |\n|  Adventure | 12 |\n|  Mystery   | 11 |\n| Action     | 11 |\n| Adventure  | 10 |\n| Animation  | 10 |\n|  Family    |  8 |\n| Biography  |  8 |\n|  History   |  7 |\n|  Comedy    |  6 |\n|  Fantasy   |  6 |\n|  Film-Noir |  6 |\n|  Sci-Fi    |  6 |\n|  Western   |  6 |\n|  Crime     |  5 |\n|  Horror    |  5 |\n|  Music     |  4 |\n|  Musical   |  4 |\n| Film-Noir  |  3 |\n| Mystery    |  3 |\n|  Biography |  2 |\n| Family     |  1 |\n| Horror     |  1 |\n\n",
            "text/latex": "A grouped\\_df: 29 × 2\n\\begin{tabular}{ll}\n Genre & n\\\\\n <chr> & <int>\\\\\n\\hline\n\t  Drama     & 50\\\\\n\t Drama      & 47\\\\\n\t  Romance   & 26\\\\\n\t Comedy     & 21\\\\\n\t  Thriller  & 17\\\\\n\t Crime      & 17\\\\\n\t  War       & 13\\\\\n\t  Adventure & 12\\\\\n\t  Mystery   & 11\\\\\n\t Action     & 11\\\\\n\t Adventure  & 10\\\\\n\t Animation  & 10\\\\\n\t  Family    &  8\\\\\n\t Biography  &  8\\\\\n\t  History   &  7\\\\\n\t  Comedy    &  6\\\\\n\t  Fantasy   &  6\\\\\n\t  Film-Noir &  6\\\\\n\t  Sci-Fi    &  6\\\\\n\t  Western   &  6\\\\\n\t  Crime     &  5\\\\\n\t  Horror    &  5\\\\\n\t  Music     &  4\\\\\n\t  Musical   &  4\\\\\n\t Film-Noir  &  3\\\\\n\t Mystery    &  3\\\\\n\t  Biography &  2\\\\\n\t Family     &  1\\\\\n\t Horror     &  1\\\\\n\\end{tabular}\n",
            "text/plain": [
              "   Genre      n \n",
              "1   Drama     50\n",
              "2  Drama      47\n",
              "3   Romance   26\n",
              "4  Comedy     21\n",
              "5   Thriller  17\n",
              "6  Crime      17\n",
              "7   War       13\n",
              "8   Adventure 12\n",
              "9   Mystery   11\n",
              "10 Action     11\n",
              "11 Adventure  10\n",
              "12 Animation  10\n",
              "13  Family     8\n",
              "14 Biography   8\n",
              "15  History    7\n",
              "16  Comedy     6\n",
              "17  Fantasy    6\n",
              "18  Film-Noir  6\n",
              "19  Sci-Fi     6\n",
              "20  Western    6\n",
              "21  Crime      5\n",
              "22  Horror     5\n",
              "23  Music      4\n",
              "24  Musical    4\n",
              "25 Film-Noir   3\n",
              "26 Mystery     3\n",
              "27  Biography  2\n",
              "28 Family      1\n",
              "29 Horror      1"
            ]
          },
          "metadata": {}
        }
      ]
    },
    {
      "cell_type": "code",
      "source": [
        "meta_score_4 <- head(meta_score_3 , 5)\n",
        "meta_score_4"
      ],
      "metadata": {
        "colab": {
          "base_uri": "https://localhost:8080/",
          "height": 255
        },
        "id": "m5GSQIjyWuys",
        "outputId": "2b63d392-23b5-406f-88d3-98f96c7a0f29"
      },
      "execution_count": null,
      "outputs": [
        {
          "output_type": "display_data",
          "data": {
            "text/html": [
              "<table class=\"dataframe\">\n",
              "<caption>A grouped_df: 5 × 2</caption>\n",
              "<thead>\n",
              "\t<tr><th scope=col>Genre</th><th scope=col>n</th></tr>\n",
              "\t<tr><th scope=col>&lt;chr&gt;</th><th scope=col>&lt;int&gt;</th></tr>\n",
              "</thead>\n",
              "<tbody>\n",
              "\t<tr><td> Drama   </td><td>50</td></tr>\n",
              "\t<tr><td>Drama    </td><td>47</td></tr>\n",
              "\t<tr><td> Romance </td><td>26</td></tr>\n",
              "\t<tr><td>Comedy   </td><td>21</td></tr>\n",
              "\t<tr><td> Thriller</td><td>17</td></tr>\n",
              "</tbody>\n",
              "</table>\n"
            ],
            "text/markdown": "\nA grouped_df: 5 × 2\n\n| Genre &lt;chr&gt; | n &lt;int&gt; |\n|---|---|\n|  Drama    | 50 |\n| Drama     | 47 |\n|  Romance  | 26 |\n| Comedy    | 21 |\n|  Thriller | 17 |\n\n",
            "text/latex": "A grouped\\_df: 5 × 2\n\\begin{tabular}{ll}\n Genre & n\\\\\n <chr> & <int>\\\\\n\\hline\n\t  Drama    & 50\\\\\n\t Drama     & 47\\\\\n\t  Romance  & 26\\\\\n\t Comedy    & 21\\\\\n\t  Thriller & 17\\\\\n\\end{tabular}\n",
            "text/plain": [
              "  Genre     n \n",
              "1  Drama    50\n",
              "2 Drama     47\n",
              "3  Romance  26\n",
              "4 Comedy    21\n",
              "5  Thriller 17"
            ]
          },
          "metadata": {}
        }
      ]
    },
    {
      "cell_type": "code",
      "source": [
        "meta_score_4 %>% ggplot(aes(x = Genre , y = n , fill = factor(Genre))) + geom_bar(stat = \"identity\") +\n",
        "  geom_text(aes(label = n) , size = 6 , vjust = 0.1 , hjust = 0.5)  + scale_fill_brewer(type = \"seq\" , palette = 7)+\n",
        "    labs(title = \"Count of movies whose Meta_Score is greater than 90\")"
      ],
      "metadata": {
        "colab": {
          "base_uri": "https://localhost:8080/",
          "height": 437
        },
        "id": "sWxwpIvjVLGu",
        "outputId": "5b2eb047-fbd8-45ae-9950-8a66d6a9b3b0"
      },
      "execution_count": null,
      "outputs": [
        {
          "output_type": "display_data",
          "data": {
            "text/plain": [
              "plot without title"
            ],
            "image/png": "[encoded data removed]"
          },
          "metadata": {
            "image/png": {
              "width": 420,
              "height": 420
            }
          }
        }
      ]
    },
    {
      "cell_type": "code",
      "source": [],
      "metadata": {
        "id": "5jBPaeB_V08I"
      },
      "execution_count": null,
      "outputs": []
    }
  ]
}